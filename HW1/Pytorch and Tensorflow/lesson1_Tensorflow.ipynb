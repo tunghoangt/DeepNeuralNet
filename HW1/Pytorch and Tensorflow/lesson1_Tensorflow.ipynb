{
  "nbformat": 4,
  "nbformat_minor": 0,
  "metadata": {
    "kernelspec": {
      "display_name": "Python 3",
      "language": "python",
      "name": "python3"
    },
    "language_info": {
      "codemirror_mode": {
        "name": "ipython",
        "version": 3
      },
      "file_extension": ".py",
      "mimetype": "text/x-python",
      "name": "python",
      "nbconvert_exporter": "python",
      "pygments_lexer": "ipython3",
      "version": "3.6.0"
    },
    "colab": {
      "name": "Copy of lesson1.ipynb",
      "provenance": [],
      "collapsed_sections": []
    }
  },
  "cells": [
    {
      "cell_type": "markdown",
      "metadata": {
        "collapsed": true,
        "id": "eSWwy7fU57cM",
        "colab_type": "text"
      },
      "source": [
        "# Lesson 1: Introduction to Deep Learning with PyTorch\n",
        "- [@AlfredoCanziani](https://twitter.com/alfredocanziani)\n",
        "- [@GokuMohandas](https://twitter.com/GokuMohandas)"
      ]
    },
    {
      "cell_type": "markdown",
      "metadata": {
        "id": "Ct0c5pUl57dM",
        "colab_type": "text"
      },
      "source": [
        "### Create the data"
      ]
    },
    {
      "cell_type": "code",
      "metadata": {
        "id": "P_FXKDyP6Dwj",
        "colab_type": "code",
        "colab": {}
      },
      "source": [
        "import numpy as np\n",
        "import tensorflow as tf\n",
        "from tensorflow import keras\n",
        "from tensorflow.keras import layers\n",
        "from sklearn.model_selection import train_test_split\n",
        "import matplotlib.pyplot as plt\n",
        "import random\n",
        "import math"
      ],
      "execution_count": 0,
      "outputs": []
    },
    {
      "cell_type": "code",
      "metadata": {
        "id": "W0ODV3cR57dM",
        "colab_type": "code",
        "colab": {}
      },
      "source": [
        "seed=12345\n",
        "random.seed(seed)\n",
        "# torch.manual_seed(seed)\n",
        "tf.random.set_seed(seed)\n",
        "N = 1000  # num_samples_per_class\n",
        "D = 2  # dimensions\n",
        "C = 3  # num_classes\n",
        "H = 100  # num_hidden_units"
      ],
      "execution_count": 0,
      "outputs": []
    },
    {
      "cell_type": "code",
      "metadata": {
        "id": "e0_NbSgl57dP",
        "colab_type": "code",
        "outputId": "8424a1a0-a8ea-4fab-98f5-b11441b4df36",
        "colab": {
          "base_uri": "https://localhost:8080/",
          "height": 85
        }
      },
      "source": [
        "X = []\n",
        "y = []\n",
        "\n",
        "for i in range(C):\n",
        "    index = 0\n",
        "    r = np.linspace(0, 1, N)\n",
        "    t = np.linspace(\n",
        "        i * 2 * math.pi / C,\n",
        "        (i + 2) * 2 * math.pi / C,\n",
        "        N\n",
        "    ) + np.random.normal(N) * 0.1\n",
        "    \n",
        "    for ix in range(N * i, N * (i + 1)):\n",
        "        X.append(r[index] * np.array([math.sin(t[index]), math.cos(t[index])]))\n",
        "        y.append(i)\n",
        "        index += 1\n",
        "\n",
        "X = tf.stack(X)\n",
        "y = tf.stack(y)\n",
        "\n",
        "print(\"SHAPES:\")\n",
        "print(\"-------------------\")\n",
        "print(\"X:\", tuple(X.shape))\n",
        "print(\"y:\", tuple(y.shape))"
      ],
      "execution_count": 3,
      "outputs": [
        {
          "output_type": "stream",
          "text": [
            "SHAPES:\n",
            "-------------------\n",
            "X: (3000, 2)\n",
            "y: (3000,)\n"
          ],
          "name": "stdout"
        }
      ]
    },
    {
      "cell_type": "code",
      "metadata": {
        "id": "ATLXiHjZ57dS",
        "colab_type": "code",
        "colab": {}
      },
      "source": [
        "def plot_data(X, y, d=.0, auto=False):\n",
        "    \"\"\"\n",
        "    Plot the data.\n",
        "    \"\"\"\n",
        "    plt.clf()\n",
        "    plt.scatter(X[:, 0], X[:, 1], c=y, s=20, cmap=plt.cm.Spectral)\n",
        "    plt.axis('square')\n",
        "    plt.axis((-1.1, 1.1, -1.1, 1.1))\n",
        "    if auto is True: plt.axis('equal')\n",
        "#     plt.savefig('spiral{:.2f}.png'.format(d))"
      ],
      "execution_count": 0,
      "outputs": []
    },
    {
      "cell_type": "code",
      "metadata": {
        "id": "Ltrp8Yp_57dV",
        "colab_type": "code",
        "outputId": "f72a651c-5bca-4d0e-946e-73e75d08df38",
        "colab": {
          "base_uri": "https://localhost:8080/",
          "height": 265
        }
      },
      "source": [
        "# Create the data\n",
        "plot_data(X.numpy(), y.numpy())"
      ],
      "execution_count": 5,
      "outputs": [
        {
          "output_type": "display_data",
          "data": {
            "image/png": "[encoded data removed]",
            "text/plain": [
              "<Figure size 432x288 with 1 Axes>"
            ]
          },
          "metadata": {
            "tags": [],
            "needs_background": "light"
          }
        }
      ]
    },
    {
      "cell_type": "code",
      "metadata": {
        "id": "CEAHxt7757dY",
        "colab_type": "code",
        "colab": {}
      },
      "source": [
        "def plot_model(X, y, model, e=.0, auto=False):\n",
        "    \"\"\"\n",
        "    Plot the model from torch weights.\n",
        "    \"\"\"\n",
        "    \n",
        "    X = X.numpy()\n",
        "    y = y.numpy(),\n",
        "    w1 = model.layers[0].get_weights()[0]\n",
        "    b1 = model.layers[0].get_weights()[1]\n",
        "    w2 = model.layers[1].get_weights()[0]\n",
        "    b2 = model.layers[1].get_weights()[1]\n",
        "    \n",
        "    h = 0.01\n",
        "\n",
        "    x_min, x_max = (-1.1, 1.1)\n",
        "    y_min, y_max = (-1.1, 1.1)\n",
        "    \n",
        "    if auto is True:\n",
        "        x_min, x_max = X[:, 0].min() - 1, X[:, 0].max() + 1\n",
        "        y_min, y_max = X[:, 1].min() - 1, X[:, 1].max() + 1\n",
        "    xx, yy = np.meshgrid(np.arange(x_min, x_max, h),\n",
        "                         np.arange(y_min, y_max, h))\n",
        "    Z = np.dot(np.maximum(0, np.dot(np.c_[xx.ravel(), yy.ravel()], w1) + b1), w2) + b2\n",
        "    Z = np.argmax(Z, axis=1)\n",
        "    Z = Z.reshape(xx.shape)\n",
        "    fig = plt.figure()\n",
        "    plt.contourf(xx, yy, Z, cmap=plt.cm.Spectral, alpha=0.3)\n",
        "    plt.scatter(X[:, 0], X[:, 1], c=y, s=40, cmap=plt.cm.Spectral)\n",
        "    plt.axis((-1.1, 1.1, -1.1, 1.1))\n",
        "    plt.axis('square')\n",
        "    if auto is True:\n",
        "        plt.axis((xx.min(), xx.max(), yy.min(), yy.max()))\n",
        "    \n",
        "#     plt.savefig('train{:03.2f}.png'.format(e))"
      ],
      "execution_count": 0,
      "outputs": []
    },
    {
      "cell_type": "markdown",
      "metadata": {
        "id": "rblhjugv57db",
        "colab_type": "text"
      },
      "source": [
        "### Linear model"
      ]
    },
    {
      "cell_type": "code",
      "metadata": {
        "id": "0Iw-MO_R57dc",
        "colab_type": "code",
        "colab": {}
      },
      "source": [
        "learning_rate = 1e-3\n",
        "lambda_l2 = 1e-5"
      ],
      "execution_count": 0,
      "outputs": []
    },
    {
      "cell_type": "code",
      "metadata": {
        "id": "wmr0VLsqFxax",
        "colab_type": "code",
        "colab": {}
      },
      "source": [
        "def linear_model(D_in, H, D_out):\n",
        "  model = keras.Sequential([\n",
        "    layers.Dense(H, activation='linear', input_shape=D_in),\n",
        "    layers.Dense(D_out, activation='linear'),\n",
        "  ])\n",
        "\n",
        "  optimizer = tf.keras.optimizers.SGD(learning_rate=learning_rate)\n",
        "\n",
        "  model.compile(loss='mse',\n",
        "                optimizer=optimizer)\n",
        "  \n",
        "  return model"
      ],
      "execution_count": 0,
      "outputs": []
    },
    {
      "cell_type": "code",
      "metadata": {
        "id": "I1Ql5e4eHUT3",
        "colab_type": "code",
        "colab": {
          "base_uri": "https://localhost:8080/",
          "height": 1000
        },
        "outputId": "d5d6caed-b85d-4b8c-d9ed-a79224bb4f6a"
      },
      "source": [
        "model_1 = linear_model(X.shape,H,C)\n",
        "model_1.fit(X, y, epochs=100)"
      ],
      "execution_count": 77,
      "outputs": [
        {
          "output_type": "stream",
          "text": [
            "Epoch 1/100\n",
            "WARNING:tensorflow:Model was constructed with shape (None, 3000, 2) for input Tensor(\"dense_38_input:0\", shape=(None, 3000, 2), dtype=float32), but it was called on an input with incompatible shape (None, 2).\n",
            "WARNING:tensorflow:Model was constructed with shape (None, 3000, 2) for input Tensor(\"dense_38_input:0\", shape=(None, 3000, 2), dtype=float32), but it was called on an input with incompatible shape (None, 2).\n",
            "94/94 [==============================] - 0s 1ms/step - loss: 1.4988\n",
            "Epoch 2/100\n",
            "94/94 [==============================] - 0s 1ms/step - loss: 1.2122\n",
            "Epoch 3/100\n",
            "94/94 [==============================] - 0s 1ms/step - loss: 1.0111\n",
            "Epoch 4/100\n",
            "94/94 [==============================] - 0s 1ms/step - loss: 0.8695\n",
            "Epoch 5/100\n",
            "94/94 [==============================] - 0s 1ms/step - loss: 0.7701\n",
            "Epoch 6/100\n",
            "94/94 [==============================] - 0s 1ms/step - loss: 0.7008\n",
            "Epoch 7/100\n",
            "94/94 [==============================] - 0s 1ms/step - loss: 0.6529\n",
            "Epoch 8/100\n",
            "94/94 [==============================] - 0s 1ms/step - loss: 0.6194\n",
            "Epoch 9/100\n",
            "94/94 [==============================] - 0s 1ms/step - loss: 0.5957\n",
            "Epoch 10/100\n",
            "94/94 [==============================] - 0s 1ms/step - loss: 0.5785\n",
            "Epoch 11/100\n",
            "94/94 [==============================] - 0s 1ms/step - loss: 0.5657\n",
            "Epoch 12/100\n",
            "94/94 [==============================] - 0s 1ms/step - loss: 0.5560\n",
            "Epoch 13/100\n",
            "94/94 [==============================] - 0s 1ms/step - loss: 0.5481\n",
            "Epoch 14/100\n",
            "94/94 [==============================] - 0s 1ms/step - loss: 0.5417\n",
            "Epoch 15/100\n",
            "94/94 [==============================] - 0s 1ms/step - loss: 0.5364\n",
            "Epoch 16/100\n",
            "94/94 [==============================] - 0s 1ms/step - loss: 0.5317\n",
            "Epoch 17/100\n",
            "94/94 [==============================] - 0s 1ms/step - loss: 0.5277\n",
            "Epoch 18/100\n",
            "94/94 [==============================] - 0s 1ms/step - loss: 0.5241\n",
            "Epoch 19/100\n",
            "94/94 [==============================] - 0s 1ms/step - loss: 0.5209\n",
            "Epoch 20/100\n",
            "94/94 [==============================] - 0s 1ms/step - loss: 0.5180\n",
            "Epoch 21/100\n",
            "94/94 [==============================] - 0s 1ms/step - loss: 0.5154\n",
            "Epoch 22/100\n",
            "94/94 [==============================] - 0s 1ms/step - loss: 0.5131\n",
            "Epoch 23/100\n",
            "94/94 [==============================] - 0s 1ms/step - loss: 0.5110\n",
            "Epoch 24/100\n",
            "94/94 [==============================] - 0s 1ms/step - loss: 0.5091\n",
            "Epoch 25/100\n",
            "94/94 [==============================] - 0s 1ms/step - loss: 0.5074\n",
            "Epoch 26/100\n",
            "94/94 [==============================] - 0s 1ms/step - loss: 0.5059\n",
            "Epoch 27/100\n",
            "94/94 [==============================] - 0s 1ms/step - loss: 0.5045\n",
            "Epoch 28/100\n",
            "94/94 [==============================] - 0s 1ms/step - loss: 0.5032\n",
            "Epoch 29/100\n",
            "94/94 [==============================] - 0s 1ms/step - loss: 0.5021\n",
            "Epoch 30/100\n",
            "94/94 [==============================] - 0s 1ms/step - loss: 0.5011\n",
            "Epoch 31/100\n",
            "94/94 [==============================] - 0s 1ms/step - loss: 0.5001\n",
            "Epoch 32/100\n",
            "94/94 [==============================] - 0s 1ms/step - loss: 0.4993\n",
            "Epoch 33/100\n",
            "94/94 [==============================] - 0s 1ms/step - loss: 0.4986\n",
            "Epoch 34/100\n",
            "94/94 [==============================] - 0s 1ms/step - loss: 0.4979\n",
            "Epoch 35/100\n",
            "94/94 [==============================] - 0s 1ms/step - loss: 0.4973\n",
            "Epoch 36/100\n",
            "94/94 [==============================] - 0s 1ms/step - loss: 0.4967\n",
            "Epoch 37/100\n",
            "94/94 [==============================] - 0s 1ms/step - loss: 0.4963\n",
            "Epoch 38/100\n",
            "94/94 [==============================] - 0s 1ms/step - loss: 0.4958\n",
            "Epoch 39/100\n",
            "94/94 [==============================] - 0s 1ms/step - loss: 0.4954\n",
            "Epoch 40/100\n",
            "94/94 [==============================] - 0s 1ms/step - loss: 0.4951\n",
            "Epoch 41/100\n",
            "94/94 [==============================] - 0s 1ms/step - loss: 0.4947\n",
            "Epoch 42/100\n",
            "94/94 [==============================] - 0s 1ms/step - loss: 0.4945\n",
            "Epoch 43/100\n",
            "94/94 [==============================] - 0s 1ms/step - loss: 0.4942\n",
            "Epoch 44/100\n",
            "94/94 [==============================] - 0s 1ms/step - loss: 0.4940\n",
            "Epoch 45/100\n",
            "94/94 [==============================] - 0s 1ms/step - loss: 0.4938\n",
            "Epoch 46/100\n",
            "94/94 [==============================] - 0s 1ms/step - loss: 0.4936\n",
            "Epoch 47/100\n",
            "94/94 [==============================] - 0s 1ms/step - loss: 0.4934\n",
            "Epoch 48/100\n",
            "94/94 [==============================] - 0s 1ms/step - loss: 0.4932\n",
            "Epoch 49/100\n",
            "94/94 [==============================] - 0s 1ms/step - loss: 0.4931\n",
            "Epoch 50/100\n",
            "94/94 [==============================] - 0s 1ms/step - loss: 0.4930\n",
            "Epoch 51/100\n",
            "94/94 [==============================] - 0s 1ms/step - loss: 0.4929\n",
            "Epoch 52/100\n",
            "94/94 [==============================] - 0s 1ms/step - loss: 0.4928\n",
            "Epoch 53/100\n",
            "94/94 [==============================] - 0s 1ms/step - loss: 0.4927\n",
            "Epoch 54/100\n",
            "94/94 [==============================] - 0s 1ms/step - loss: 0.4926\n",
            "Epoch 55/100\n",
            "94/94 [==============================] - 0s 1ms/step - loss: 0.4925\n",
            "Epoch 56/100\n",
            "94/94 [==============================] - 0s 1ms/step - loss: 0.4925\n",
            "Epoch 57/100\n",
            "94/94 [==============================] - 0s 1ms/step - loss: 0.4924\n",
            "Epoch 58/100\n",
            "94/94 [==============================] - 0s 1ms/step - loss: 0.4924\n",
            "Epoch 59/100\n",
            "94/94 [==============================] - 0s 1ms/step - loss: 0.4923\n",
            "Epoch 60/100\n",
            "94/94 [==============================] - 0s 1ms/step - loss: 0.4923\n",
            "Epoch 61/100\n",
            "94/94 [==============================] - 0s 1ms/step - loss: 0.4923\n",
            "Epoch 62/100\n",
            "94/94 [==============================] - 0s 1ms/step - loss: 0.4922\n",
            "Epoch 63/100\n",
            "94/94 [==============================] - 0s 976us/step - loss: 0.4922\n",
            "Epoch 64/100\n",
            "94/94 [==============================] - 0s 1ms/step - loss: 0.4921\n",
            "Epoch 65/100\n",
            "94/94 [==============================] - 0s 1ms/step - loss: 0.4921\n",
            "Epoch 66/100\n",
            "94/94 [==============================] - 0s 1ms/step - loss: 0.4921\n",
            "Epoch 67/100\n",
            "94/94 [==============================] - 0s 1ms/step - loss: 0.4921\n",
            "Epoch 68/100\n",
            "94/94 [==============================] - 0s 1ms/step - loss: 0.4921\n",
            "Epoch 69/100\n",
            "94/94 [==============================] - 0s 1ms/step - loss: 0.4921\n",
            "Epoch 70/100\n",
            "94/94 [==============================] - 0s 1ms/step - loss: 0.4920\n",
            "Epoch 71/100\n",
            "94/94 [==============================] - 0s 1ms/step - loss: 0.4920\n",
            "Epoch 72/100\n",
            "94/94 [==============================] - 0s 1ms/step - loss: 0.4920\n",
            "Epoch 73/100\n",
            "94/94 [==============================] - 0s 1ms/step - loss: 0.4920\n",
            "Epoch 74/100\n",
            "94/94 [==============================] - 0s 1ms/step - loss: 0.4920\n",
            "Epoch 75/100\n",
            "94/94 [==============================] - 0s 1ms/step - loss: 0.4920\n",
            "Epoch 76/100\n",
            "94/94 [==============================] - 0s 1ms/step - loss: 0.4920\n",
            "Epoch 77/100\n",
            "94/94 [==============================] - 0s 1ms/step - loss: 0.4920\n",
            "Epoch 78/100\n",
            "94/94 [==============================] - 0s 1ms/step - loss: 0.4920\n",
            "Epoch 79/100\n",
            "94/94 [==============================] - 0s 1ms/step - loss: 0.4919\n",
            "Epoch 80/100\n",
            "94/94 [==============================] - 0s 1ms/step - loss: 0.4919\n",
            "Epoch 81/100\n",
            "94/94 [==============================] - 0s 1ms/step - loss: 0.4920\n",
            "Epoch 82/100\n",
            "94/94 [==============================] - 0s 1ms/step - loss: 0.4919\n",
            "Epoch 83/100\n",
            "94/94 [==============================] - 0s 1ms/step - loss: 0.4919\n",
            "Epoch 84/100\n",
            "94/94 [==============================] - 0s 1ms/step - loss: 0.4919\n",
            "Epoch 85/100\n",
            "94/94 [==============================] - 0s 1ms/step - loss: 0.4919\n",
            "Epoch 86/100\n",
            "94/94 [==============================] - 0s 1ms/step - loss: 0.4919\n",
            "Epoch 87/100\n",
            "94/94 [==============================] - 0s 1ms/step - loss: 0.4919\n",
            "Epoch 88/100\n",
            "94/94 [==============================] - 0s 1ms/step - loss: 0.4919\n",
            "Epoch 89/100\n",
            "94/94 [==============================] - 0s 1ms/step - loss: 0.4919\n",
            "Epoch 90/100\n",
            "94/94 [==============================] - 0s 1ms/step - loss: 0.4919\n",
            "Epoch 91/100\n",
            "94/94 [==============================] - 0s 1ms/step - loss: 0.4919\n",
            "Epoch 92/100\n",
            "94/94 [==============================] - 0s 1ms/step - loss: 0.4919\n",
            "Epoch 93/100\n",
            "94/94 [==============================] - 0s 1ms/step - loss: 0.4919\n",
            "Epoch 94/100\n",
            "94/94 [==============================] - 0s 1ms/step - loss: 0.4919\n",
            "Epoch 95/100\n",
            "94/94 [==============================] - 0s 1ms/step - loss: 0.4919\n",
            "Epoch 96/100\n",
            "94/94 [==============================] - 0s 1ms/step - loss: 0.4919\n",
            "Epoch 97/100\n",
            "94/94 [==============================] - 0s 1ms/step - loss: 0.4919\n",
            "Epoch 98/100\n",
            "94/94 [==============================] - 0s 1ms/step - loss: 0.4919\n",
            "Epoch 99/100\n",
            "94/94 [==============================] - 0s 1ms/step - loss: 0.4919\n",
            "Epoch 100/100\n",
            "94/94 [==============================] - 0s 1ms/step - loss: 0.4919\n"
          ],
          "name": "stdout"
        },
        {
          "output_type": "execute_result",
          "data": {
            "text/plain": [
              "<tensorflow.python.keras.callbacks.History at 0x7fcc83d5fd68>"
            ]
          },
          "metadata": {
            "tags": []
          },
          "execution_count": 77
        }
      ]
    },
    {
      "cell_type": "code",
      "metadata": {
        "id": "rVXChHjHIl3n",
        "colab_type": "code",
        "colab": {
          "base_uri": "https://localhost:8080/",
          "height": 221
        },
        "outputId": "6aeb1589-e3ec-4aef-b4f7-39f2a2ae5885"
      },
      "source": [
        "model_1.summary()"
      ],
      "execution_count": 78,
      "outputs": [
        {
          "output_type": "stream",
          "text": [
            "Model: \"sequential_17\"\n",
            "_________________________________________________________________\n",
            "Layer (type)                 Output Shape              Param #   \n",
            "=================================================================\n",
            "dense_38 (Dense)             (None, 3000, 100)         300       \n",
            "_________________________________________________________________\n",
            "dense_39 (Dense)             (None, 3000, 3)           303       \n",
            "=================================================================\n",
            "Total params: 603\n",
            "Trainable params: 603\n",
            "Non-trainable params: 0\n",
            "_________________________________________________________________\n"
          ],
          "name": "stdout"
        }
      ]
    },
    {
      "cell_type": "code",
      "metadata": {
        "id": "9b80ZY5a57dl",
        "colab_type": "code",
        "outputId": "80627c88-674c-432f-b15e-5cca23e7238b",
        "colab": {
          "base_uri": "https://localhost:8080/",
          "height": 265
        }
      },
      "source": [
        "# Plot trained model\n",
        "plot_model(X, y, model)"
      ],
      "execution_count": 79,
      "outputs": [
        {
          "output_type": "display_data",
          "data": {
            "image/png": "[encoded data removed]",
            "text/plain": [
              "<Figure size 432x288 with 1 Axes>"
            ]
          },
          "metadata": {
            "tags": [],
            "needs_background": "light"
          }
        }
      ]
    },
    {
      "cell_type": "markdown",
      "metadata": {
        "id": "ZUYonYxy57dp",
        "colab_type": "text"
      },
      "source": [
        "### Two-layered network"
      ]
    },
    {
      "cell_type": "code",
      "metadata": {
        "id": "hl2h6JtV57dq",
        "colab_type": "code",
        "colab": {}
      },
      "source": [
        "learning_rate = 1e-3\n",
        "lambda_l2 = 1e-5"
      ],
      "execution_count": 0,
      "outputs": []
    },
    {
      "cell_type": "code",
      "metadata": {
        "id": "PkH-APrHI17k",
        "colab_type": "code",
        "colab": {}
      },
      "source": [
        "def two_layer_network(D_in, H, D_out):\n",
        "  model = keras.Sequential([\n",
        "    layers.Dense(H, activation='relu', input_shape=D_in),\n",
        "    layers.Dense(D_out),\n",
        "  ])\n",
        "\n",
        "  optimizer = tf.keras.optimizers.Adam(learning_rate=learning_rate)\n",
        "\n",
        "  model.compile(loss='binary_crossentropy',\n",
        "                optimizer=optimizer)\n",
        "  \n",
        "  return model"
      ],
      "execution_count": 0,
      "outputs": []
    },
    {
      "cell_type": "code",
      "metadata": {
        "id": "BjRmMxWbJc4S",
        "colab_type": "code",
        "colab": {
          "base_uri": "https://localhost:8080/",
          "height": 1000
        },
        "outputId": "a098ee40-ac06-49c1-e886-2395e5ef8662"
      },
      "source": [
        "model_2 = two_layer_network(X.shape, H, C)\n",
        "model_2.fit(X,y, epochs = 100)"
      ],
      "execution_count": 71,
      "outputs": [
        {
          "output_type": "stream",
          "text": [
            "Epoch 1/100\n",
            "WARNING:tensorflow:Model was constructed with shape (None, 3000, 2) for input Tensor(\"dense_34_input:0\", shape=(None, 3000, 2), dtype=float32), but it was called on an input with incompatible shape (None, 2).\n",
            "WARNING:tensorflow:Model was constructed with shape (None, 3000, 2) for input Tensor(\"dense_34_input:0\", shape=(None, 3000, 2), dtype=float32), but it was called on an input with incompatible shape (None, 2).\n",
            "94/94 [==============================] - 0s 1ms/step - loss: 1.9199\n",
            "Epoch 2/100\n",
            "94/94 [==============================] - 0s 1ms/step - loss: -0.3485\n",
            "Epoch 3/100\n",
            "94/94 [==============================] - 0s 1ms/step - loss: -2.2821\n",
            "Epoch 4/100\n",
            "94/94 [==============================] - 0s 1ms/step - loss: -2.8490\n",
            "Epoch 5/100\n",
            "94/94 [==============================] - 0s 1ms/step - loss: -3.0381\n",
            "Epoch 6/100\n",
            "94/94 [==============================] - 0s 1ms/step - loss: -3.3540\n",
            "Epoch 7/100\n",
            "94/94 [==============================] - 0s 1ms/step - loss: -3.7624\n",
            "Epoch 8/100\n",
            "94/94 [==============================] - 0s 1ms/step - loss: -3.7150\n",
            "Epoch 9/100\n",
            "94/94 [==============================] - 0s 1ms/step - loss: -2.5074\n",
            "Epoch 10/100\n",
            "94/94 [==============================] - 0s 1ms/step - loss: -2.6547\n",
            "Epoch 11/100\n",
            "94/94 [==============================] - 0s 1ms/step - loss: -3.2098\n",
            "Epoch 12/100\n",
            "94/94 [==============================] - 0s 1ms/step - loss: -3.3970\n",
            "Epoch 13/100\n",
            "94/94 [==============================] - 0s 1ms/step - loss: -3.3017\n",
            "Epoch 14/100\n",
            "94/94 [==============================] - 0s 1ms/step - loss: -3.1571\n",
            "Epoch 15/100\n",
            "94/94 [==============================] - 0s 1ms/step - loss: -3.1181\n",
            "Epoch 16/100\n",
            "94/94 [==============================] - 0s 1ms/step - loss: -3.5758\n",
            "Epoch 17/100\n",
            "94/94 [==============================] - 0s 1ms/step - loss: -3.9237\n",
            "Epoch 18/100\n",
            "94/94 [==============================] - 0s 1ms/step - loss: -4.2773\n",
            "Epoch 19/100\n",
            "94/94 [==============================] - 0s 1ms/step - loss: -4.3903\n",
            "Epoch 20/100\n",
            "94/94 [==============================] - 0s 1ms/step - loss: -4.4465\n",
            "Epoch 21/100\n",
            "94/94 [==============================] - 0s 1ms/step - loss: -4.4917\n",
            "Epoch 22/100\n",
            "94/94 [==============================] - 0s 1ms/step - loss: -4.5023\n",
            "Epoch 23/100\n",
            "94/94 [==============================] - 0s 1ms/step - loss: -4.5336\n",
            "Epoch 24/100\n",
            "94/94 [==============================] - 0s 1ms/step - loss: -4.5290\n",
            "Epoch 25/100\n",
            "94/94 [==============================] - 0s 1ms/step - loss: -4.4351\n",
            "Epoch 26/100\n",
            "94/94 [==============================] - 0s 1ms/step - loss: -4.4626\n",
            "Epoch 27/100\n",
            "94/94 [==============================] - 0s 1ms/step - loss: -4.4842\n",
            "Epoch 28/100\n",
            "94/94 [==============================] - 0s 1ms/step - loss: -4.5619\n",
            "Epoch 29/100\n",
            "94/94 [==============================] - 0s 1ms/step - loss: -4.4220\n",
            "Epoch 30/100\n",
            "94/94 [==============================] - 0s 1ms/step - loss: -4.4324\n",
            "Epoch 31/100\n",
            "94/94 [==============================] - 0s 1ms/step - loss: -4.3627\n",
            "Epoch 32/100\n",
            "94/94 [==============================] - 0s 1ms/step - loss: -4.5276\n",
            "Epoch 33/100\n",
            "94/94 [==============================] - 0s 1ms/step - loss: -4.5620\n",
            "Epoch 34/100\n",
            "94/94 [==============================] - 0s 1ms/step - loss: -4.5892\n",
            "Epoch 35/100\n",
            "94/94 [==============================] - 0s 1ms/step - loss: -4.6160\n",
            "Epoch 36/100\n",
            "94/94 [==============================] - 0s 1ms/step - loss: -4.5961\n",
            "Epoch 37/100\n",
            "94/94 [==============================] - 0s 1ms/step - loss: -4.5042\n",
            "Epoch 38/100\n",
            "94/94 [==============================] - 0s 1ms/step - loss: -4.6227\n",
            "Epoch 39/100\n",
            "94/94 [==============================] - 0s 1ms/step - loss: -4.4945\n",
            "Epoch 40/100\n",
            "94/94 [==============================] - 0s 1ms/step - loss: -4.3503\n",
            "Epoch 41/100\n",
            "94/94 [==============================] - 0s 1ms/step - loss: -4.4061\n",
            "Epoch 42/100\n",
            "94/94 [==============================] - 0s 1ms/step - loss: -4.4414\n",
            "Epoch 43/100\n",
            "94/94 [==============================] - 0s 1ms/step - loss: -4.4564\n",
            "Epoch 44/100\n",
            "94/94 [==============================] - 0s 1ms/step - loss: -4.4774\n",
            "Epoch 45/100\n",
            "94/94 [==============================] - 0s 1ms/step - loss: -4.3403\n",
            "Epoch 46/100\n",
            "94/94 [==============================] - 0s 1ms/step - loss: -4.5224\n",
            "Epoch 47/100\n",
            "94/94 [==============================] - 0s 1ms/step - loss: -4.6163\n",
            "Epoch 48/100\n",
            "94/94 [==============================] - 0s 1ms/step - loss: -4.6444\n",
            "Epoch 49/100\n",
            "94/94 [==============================] - 0s 1ms/step - loss: -4.6741\n",
            "Epoch 50/100\n",
            "94/94 [==============================] - 0s 1ms/step - loss: -4.5437\n",
            "Epoch 51/100\n",
            "94/94 [==============================] - 0s 1ms/step - loss: -4.4818\n",
            "Epoch 52/100\n",
            "94/94 [==============================] - 0s 1ms/step - loss: -4.5714\n",
            "Epoch 53/100\n",
            "94/94 [==============================] - 0s 1ms/step - loss: -4.6496\n",
            "Epoch 54/100\n",
            "94/94 [==============================] - 0s 1ms/step - loss: -4.6705\n",
            "Epoch 55/100\n",
            "94/94 [==============================] - 0s 1ms/step - loss: -4.6724\n",
            "Epoch 56/100\n",
            "94/94 [==============================] - 0s 1ms/step - loss: -4.6854\n",
            "Epoch 57/100\n",
            "94/94 [==============================] - 0s 1ms/step - loss: -4.6956\n",
            "Epoch 58/100\n",
            "94/94 [==============================] - 0s 1ms/step - loss: -4.7077\n",
            "Epoch 59/100\n",
            "94/94 [==============================] - 0s 1ms/step - loss: -4.7031\n",
            "Epoch 60/100\n",
            "94/94 [==============================] - 0s 1ms/step - loss: -4.7052\n",
            "Epoch 61/100\n",
            "94/94 [==============================] - 0s 1ms/step - loss: -4.7024\n",
            "Epoch 62/100\n",
            "94/94 [==============================] - 0s 1ms/step - loss: -4.3043\n",
            "Epoch 63/100\n",
            "94/94 [==============================] - 0s 1ms/step - loss: -4.4979\n",
            "Epoch 64/100\n",
            "94/94 [==============================] - 0s 1ms/step - loss: -4.5933\n",
            "Epoch 65/100\n",
            "94/94 [==============================] - 0s 1ms/step - loss: -4.6141\n",
            "Epoch 66/100\n",
            "94/94 [==============================] - 0s 1ms/step - loss: -4.6448\n",
            "Epoch 67/100\n",
            "94/94 [==============================] - 0s 1ms/step - loss: -4.6870\n",
            "Epoch 68/100\n",
            "94/94 [==============================] - 0s 1ms/step - loss: -4.6691\n",
            "Epoch 69/100\n",
            "94/94 [==============================] - 0s 1ms/step - loss: -4.6554\n",
            "Epoch 70/100\n",
            "94/94 [==============================] - 0s 1ms/step - loss: -4.6958\n",
            "Epoch 71/100\n",
            "94/94 [==============================] - 0s 1ms/step - loss: -4.7046\n",
            "Epoch 72/100\n",
            "94/94 [==============================] - 0s 2ms/step - loss: -4.7270\n",
            "Epoch 73/100\n",
            "94/94 [==============================] - 0s 1ms/step - loss: -4.7478\n",
            "Epoch 74/100\n",
            "94/94 [==============================] - 0s 1ms/step - loss: -4.7656\n",
            "Epoch 75/100\n",
            "94/94 [==============================] - 0s 1ms/step - loss: -4.7674\n",
            "Epoch 76/100\n",
            "94/94 [==============================] - 0s 1ms/step - loss: -4.7391\n",
            "Epoch 77/100\n",
            "94/94 [==============================] - 0s 1ms/step - loss: -4.7313\n",
            "Epoch 78/100\n",
            "94/94 [==============================] - 0s 1ms/step - loss: -4.5645\n",
            "Epoch 79/100\n",
            "94/94 [==============================] - 0s 1ms/step - loss: -4.6644\n",
            "Epoch 80/100\n",
            "94/94 [==============================] - 0s 1ms/step - loss: -4.7261\n",
            "Epoch 81/100\n",
            "94/94 [==============================] - 0s 1ms/step - loss: -4.7152\n",
            "Epoch 82/100\n",
            "94/94 [==============================] - 0s 1ms/step - loss: -4.7670\n",
            "Epoch 83/100\n",
            "94/94 [==============================] - 0s 1ms/step - loss: -4.7875\n",
            "Epoch 84/100\n",
            "94/94 [==============================] - 0s 1ms/step - loss: -4.7981\n",
            "Epoch 85/100\n",
            "94/94 [==============================] - 0s 1ms/step - loss: -4.8079\n",
            "Epoch 86/100\n",
            "94/94 [==============================] - 0s 1ms/step - loss: -4.8135\n",
            "Epoch 87/100\n",
            "94/94 [==============================] - 0s 1ms/step - loss: -4.7935\n",
            "Epoch 88/100\n",
            "94/94 [==============================] - 0s 1ms/step - loss: -4.8002\n",
            "Epoch 89/100\n",
            "94/94 [==============================] - 0s 1ms/step - loss: -4.8192\n",
            "Epoch 90/100\n",
            "94/94 [==============================] - 0s 1ms/step - loss: -4.8192\n",
            "Epoch 91/100\n",
            "94/94 [==============================] - 0s 1ms/step - loss: -4.8351\n",
            "Epoch 92/100\n",
            "94/94 [==============================] - 0s 1ms/step - loss: -4.7648\n",
            "Epoch 93/100\n",
            "94/94 [==============================] - 0s 1ms/step - loss: -4.8268\n",
            "Epoch 94/100\n",
            "94/94 [==============================] - 0s 1ms/step - loss: -4.8609\n",
            "Epoch 95/100\n",
            "94/94 [==============================] - 0s 1ms/step - loss: -4.8345\n",
            "Epoch 96/100\n",
            "94/94 [==============================] - 0s 1ms/step - loss: -4.8499\n",
            "Epoch 97/100\n",
            "94/94 [==============================] - 0s 1ms/step - loss: -4.7752\n",
            "Epoch 98/100\n",
            "94/94 [==============================] - 0s 1ms/step - loss: -4.4018\n",
            "Epoch 99/100\n",
            "94/94 [==============================] - 0s 1ms/step - loss: -4.5637\n",
            "Epoch 100/100\n",
            "94/94 [==============================] - 0s 1ms/step - loss: -4.7082\n"
          ],
          "name": "stdout"
        },
        {
          "output_type": "execute_result",
          "data": {
            "text/plain": [
              "<tensorflow.python.keras.callbacks.History at 0x7fcc84fa3e10>"
            ]
          },
          "metadata": {
            "tags": []
          },
          "execution_count": 71
        }
      ]
    },
    {
      "cell_type": "code",
      "metadata": {
        "id": "092CABD0PCyj",
        "colab_type": "code",
        "colab": {
          "base_uri": "https://localhost:8080/",
          "height": 221
        },
        "outputId": "8e3cdb7c-cc79-4708-be1d-3b3bc8406ac7"
      },
      "source": [
        "model_2.summary()"
      ],
      "execution_count": 72,
      "outputs": [
        {
          "output_type": "stream",
          "text": [
            "Model: \"sequential_15\"\n",
            "_________________________________________________________________\n",
            "Layer (type)                 Output Shape              Param #   \n",
            "=================================================================\n",
            "dense_34 (Dense)             (None, 3000, 100)         300       \n",
            "_________________________________________________________________\n",
            "dense_35 (Dense)             (None, 3000, 3)           303       \n",
            "=================================================================\n",
            "Total params: 603\n",
            "Trainable params: 603\n",
            "Non-trainable params: 0\n",
            "_________________________________________________________________\n"
          ],
          "name": "stdout"
        }
      ]
    },
    {
      "cell_type": "code",
      "metadata": {
        "id": "LqZOyjqB57dy",
        "colab_type": "code",
        "outputId": "a87b73de-13a1-4952-ec8b-0a4a5b68937b",
        "colab": {
          "base_uri": "https://localhost:8080/",
          "height": 265
        }
      },
      "source": [
        "# Plot trained model\n",
        "plot_model(X, y, model_2)"
      ],
      "execution_count": 73,
      "outputs": [
        {
          "output_type": "display_data",
          "data": {
            "image/png": "[encoded data removed]",
            "text/plain": [
              "<Figure size 432x288 with 1 Axes>"
            ]
          },
          "metadata": {
            "tags": [],
            "needs_background": "light"
          }
        }
      ]
    },
    {
      "cell_type": "markdown",
      "metadata": {
        "id": "Y5OBAT7q57d1",
        "colab_type": "text"
      },
      "source": [
        "### Proper training procedure"
      ]
    },
    {
      "cell_type": "markdown",
      "metadata": {
        "id": "BqH5yMik57d2",
        "colab_type": "text"
      },
      "source": [
        "#### Create datasets"
      ]
    },
    {
      "cell_type": "code",
      "metadata": {
        "id": "vpbfmeFY57d2",
        "colab_type": "code",
        "colab": {}
      },
      "source": [
        "split_ratio = 0.8 # train-test split\n",
        "num_epochs = 100\n",
        "batch_size = 64\n",
        "log_every = 25"
      ],
      "execution_count": 0,
      "outputs": []
    },
    {
      "cell_type": "code",
      "metadata": {
        "id": "cIV2_SLX57eA",
        "colab_type": "code",
        "colab": {
          "base_uri": "https://localhost:8080/",
          "height": 34
        },
        "outputId": "0a9427e0-efa0-4e8a-c997-be01abea5dbf"
      },
      "source": [
        "training = random.sample(range(X.shape[0]), int(X.shape[0] * split_ratio))\n",
        "testing = [i for i in range(X.shape[0]) if not i in training]\n",
        "X_train = tf.convert_to_tensor(X.numpy()[training,:])\n",
        "X_test = tf.convert_to_tensor(X.numpy()[testing,:])\n",
        "y_train = tf.convert_to_tensor(y.numpy()[training])\n",
        "y_test = tf.convert_to_tensor(y.numpy()[testing])\n",
        "\n",
        "X_train.shape, y_train.shape"
      ],
      "execution_count": 60,
      "outputs": [
        {
          "output_type": "execute_result",
          "data": {
            "text/plain": [
              "(TensorShape([2400, 2]), TensorShape([2400]))"
            ]
          },
          "metadata": {
            "tags": []
          },
          "execution_count": 60
        }
      ]
    },
    {
      "cell_type": "markdown",
      "metadata": {
        "id": "_0FzkQnu57eD",
        "colab_type": "text"
      },
      "source": [
        "#### Training"
      ]
    },
    {
      "cell_type": "code",
      "metadata": {
        "id": "GWJtZuXB57eD",
        "colab_type": "code",
        "colab": {}
      },
      "source": [
        "learning_rate = 1e-3\n",
        "lambda_l2 = 1e-5\n",
        "dropout_p = 0.1\n",
        "decay_rate = 0.9999\n",
        "max_grad_norm = 5.0"
      ],
      "execution_count": 0,
      "outputs": []
    },
    {
      "cell_type": "code",
      "metadata": {
        "id": "M2m5keX5REzw",
        "colab_type": "code",
        "colab": {}
      },
      "source": [
        "def customized_network(D_in, H, D_out):\n",
        "  model = keras.Sequential([\n",
        "    layers.Dense(H, activation='relu', input_shape=D_in),\n",
        "    layers.Dense(D_out,activation='softmax'),\n",
        "    layers.Dropout(dropout_p),\n",
        "  ])\n",
        "\n",
        "  optimizer = tf.keras.optimizers.Adam(learning_rate=learning_rate)\n",
        "\n",
        "  model.compile(loss='binary_crossentropy',\n",
        "                optimizer=optimizer)\n",
        "  \n",
        "  return model"
      ],
      "execution_count": 0,
      "outputs": []
    },
    {
      "cell_type": "code",
      "metadata": {
        "id": "LYkGgOaRSU9r",
        "colab_type": "code",
        "colab": {
          "base_uri": "https://localhost:8080/",
          "height": 1000
        },
        "outputId": "a00ebed6-164a-4023-dac8-1c47a47d439d"
      },
      "source": [
        "model_3 = customized_network(X_train.shape, H, C)\n",
        "model_3.fit(X_train,y_train, epochs = 100)"
      ],
      "execution_count": 66,
      "outputs": [
        {
          "output_type": "stream",
          "text": [
            "Epoch 1/100\n",
            "WARNING:tensorflow:Model was constructed with shape (None, 2400, 2) for input Tensor(\"dense_32_input:0\", shape=(None, 2400, 2), dtype=float32), but it was called on an input with incompatible shape (32, 2).\n",
            "WARNING:tensorflow:Model was constructed with shape (None, 2400, 2) for input Tensor(\"dense_32_input:0\", shape=(None, 2400, 2), dtype=float32), but it was called on an input with incompatible shape (32, 2).\n",
            "75/75 [==============================] - 0s 1ms/step - loss: 2.4740\n",
            "Epoch 2/100\n",
            "75/75 [==============================] - 0s 1ms/step - loss: 2.5196\n",
            "Epoch 3/100\n",
            "75/75 [==============================] - 0s 1ms/step - loss: 2.4617\n",
            "Epoch 4/100\n",
            "75/75 [==============================] - 0s 1ms/step - loss: 2.4655\n",
            "Epoch 5/100\n",
            "75/75 [==============================] - 0s 1ms/step - loss: 2.4674\n",
            "Epoch 6/100\n",
            "75/75 [==============================] - 0s 1ms/step - loss: 2.4161\n",
            "Epoch 7/100\n",
            "75/75 [==============================] - 0s 1ms/step - loss: 2.3743\n",
            "Epoch 8/100\n",
            "75/75 [==============================] - 0s 1ms/step - loss: 2.4236\n",
            "Epoch 9/100\n",
            "75/75 [==============================] - 0s 1ms/step - loss: 2.3593\n",
            "Epoch 10/100\n",
            "75/75 [==============================] - 0s 1ms/step - loss: 2.4128\n",
            "Epoch 11/100\n",
            "75/75 [==============================] - 0s 1ms/step - loss: 2.5110\n",
            "Epoch 12/100\n",
            "75/75 [==============================] - 0s 1ms/step - loss: 2.4938\n",
            "Epoch 13/100\n",
            "75/75 [==============================] - 0s 1ms/step - loss: 2.4526\n",
            "Epoch 14/100\n",
            "75/75 [==============================] - 0s 1ms/step - loss: 2.3177\n",
            "Epoch 15/100\n",
            "75/75 [==============================] - 0s 1ms/step - loss: 2.4396\n",
            "Epoch 16/100\n",
            "75/75 [==============================] - 0s 1ms/step - loss: 2.4377\n",
            "Epoch 17/100\n",
            "75/75 [==============================] - 0s 1ms/step - loss: 2.4518\n",
            "Epoch 18/100\n",
            "75/75 [==============================] - 0s 1ms/step - loss: 2.3372\n",
            "Epoch 19/100\n",
            "75/75 [==============================] - 0s 1ms/step - loss: 2.4752\n",
            "Epoch 20/100\n",
            "75/75 [==============================] - 0s 1ms/step - loss: 2.4785\n",
            "Epoch 21/100\n",
            "75/75 [==============================] - 0s 1ms/step - loss: 2.4254\n",
            "Epoch 22/100\n",
            "75/75 [==============================] - 0s 1ms/step - loss: 2.4586\n",
            "Epoch 23/100\n",
            "75/75 [==============================] - 0s 1ms/step - loss: 2.4718\n",
            "Epoch 24/100\n",
            "75/75 [==============================] - 0s 1ms/step - loss: 2.3683\n",
            "Epoch 25/100\n",
            "75/75 [==============================] - 0s 1ms/step - loss: 2.3726\n",
            "Epoch 26/100\n",
            "75/75 [==============================] - 0s 1ms/step - loss: 2.5072\n",
            "Epoch 27/100\n",
            "75/75 [==============================] - 0s 2ms/step - loss: 2.4637\n",
            "Epoch 28/100\n",
            "75/75 [==============================] - 0s 1ms/step - loss: 2.4053\n",
            "Epoch 29/100\n",
            "75/75 [==============================] - 0s 1ms/step - loss: 2.4175\n",
            "Epoch 30/100\n",
            "75/75 [==============================] - 0s 1ms/step - loss: 2.2949\n",
            "Epoch 31/100\n",
            "75/75 [==============================] - 0s 1ms/step - loss: 2.3909\n",
            "Epoch 32/100\n",
            "75/75 [==============================] - 0s 1ms/step - loss: 2.4457\n",
            "Epoch 33/100\n",
            "75/75 [==============================] - 0s 1ms/step - loss: 2.3609\n",
            "Epoch 34/100\n",
            "75/75 [==============================] - 0s 1ms/step - loss: 2.4036\n",
            "Epoch 35/100\n",
            "75/75 [==============================] - 0s 1ms/step - loss: 2.4522\n",
            "Epoch 36/100\n",
            "75/75 [==============================] - 0s 1ms/step - loss: 2.4995\n",
            "Epoch 37/100\n",
            "75/75 [==============================] - 0s 1ms/step - loss: 2.3281\n",
            "Epoch 38/100\n",
            "75/75 [==============================] - 0s 1ms/step - loss: 2.4324\n",
            "Epoch 39/100\n",
            "75/75 [==============================] - 0s 1ms/step - loss: 2.4137\n",
            "Epoch 40/100\n",
            "75/75 [==============================] - 0s 1ms/step - loss: 2.3782\n",
            "Epoch 41/100\n",
            "75/75 [==============================] - 0s 1ms/step - loss: 2.3099\n",
            "Epoch 42/100\n",
            "75/75 [==============================] - 0s 1ms/step - loss: 2.4749\n",
            "Epoch 43/100\n",
            "75/75 [==============================] - 0s 1ms/step - loss: 2.3921\n",
            "Epoch 44/100\n",
            "75/75 [==============================] - 0s 1ms/step - loss: 2.4533\n",
            "Epoch 45/100\n",
            "75/75 [==============================] - 0s 1ms/step - loss: 2.4330\n",
            "Epoch 46/100\n",
            "75/75 [==============================] - 0s 1ms/step - loss: 2.5065\n",
            "Epoch 47/100\n",
            "75/75 [==============================] - 0s 1ms/step - loss: 2.5105\n",
            "Epoch 48/100\n",
            "75/75 [==============================] - 0s 1ms/step - loss: 2.3776\n",
            "Epoch 49/100\n",
            "75/75 [==============================] - 0s 1ms/step - loss: 2.5421\n",
            "Epoch 50/100\n",
            "75/75 [==============================] - 0s 1ms/step - loss: 2.4784\n",
            "Epoch 51/100\n",
            "75/75 [==============================] - 0s 1ms/step - loss: 2.4358\n",
            "Epoch 52/100\n",
            "75/75 [==============================] - 0s 1ms/step - loss: 2.4512\n",
            "Epoch 53/100\n",
            "75/75 [==============================] - 0s 1ms/step - loss: 2.4433\n",
            "Epoch 54/100\n",
            "75/75 [==============================] - 0s 1ms/step - loss: 2.4693\n",
            "Epoch 55/100\n",
            "75/75 [==============================] - 0s 1ms/step - loss: 2.4474\n",
            "Epoch 56/100\n",
            "75/75 [==============================] - 0s 1ms/step - loss: 2.3293\n",
            "Epoch 57/100\n",
            "75/75 [==============================] - 0s 1ms/step - loss: 2.3638\n",
            "Epoch 58/100\n",
            "75/75 [==============================] - 0s 1ms/step - loss: 2.3815\n",
            "Epoch 59/100\n",
            "75/75 [==============================] - 0s 1ms/step - loss: 2.4047\n",
            "Epoch 60/100\n",
            "75/75 [==============================] - 0s 1ms/step - loss: 2.3371\n",
            "Epoch 61/100\n",
            "75/75 [==============================] - 0s 1ms/step - loss: 2.3423\n",
            "Epoch 62/100\n",
            "75/75 [==============================] - 0s 1ms/step - loss: 2.4620\n",
            "Epoch 63/100\n",
            "75/75 [==============================] - 0s 1ms/step - loss: 2.4486\n",
            "Epoch 64/100\n",
            "75/75 [==============================] - 0s 1ms/step - loss: 2.3469\n",
            "Epoch 65/100\n",
            "75/75 [==============================] - 0s 1ms/step - loss: 2.4079\n",
            "Epoch 66/100\n",
            "75/75 [==============================] - 0s 1ms/step - loss: 2.4370\n",
            "Epoch 67/100\n",
            "75/75 [==============================] - 0s 1ms/step - loss: 2.3662\n",
            "Epoch 68/100\n",
            "75/75 [==============================] - 0s 1ms/step - loss: 2.3735\n",
            "Epoch 69/100\n",
            "75/75 [==============================] - 0s 1ms/step - loss: 2.3596\n",
            "Epoch 70/100\n",
            "75/75 [==============================] - 0s 1ms/step - loss: 2.4331\n",
            "Epoch 71/100\n",
            "75/75 [==============================] - 0s 1ms/step - loss: 2.4199\n",
            "Epoch 72/100\n",
            "75/75 [==============================] - 0s 1ms/step - loss: 2.3510\n",
            "Epoch 73/100\n",
            "75/75 [==============================] - 0s 2ms/step - loss: 2.4069\n",
            "Epoch 74/100\n",
            "75/75 [==============================] - 0s 1ms/step - loss: 2.3754\n",
            "Epoch 75/100\n",
            "75/75 [==============================] - 0s 1ms/step - loss: 2.5230\n",
            "Epoch 76/100\n",
            "75/75 [==============================] - 0s 1ms/step - loss: 2.5200\n",
            "Epoch 77/100\n",
            "75/75 [==============================] - 0s 1ms/step - loss: 2.5359\n",
            "Epoch 78/100\n",
            "75/75 [==============================] - 0s 1ms/step - loss: 2.3617\n",
            "Epoch 79/100\n",
            "75/75 [==============================] - 0s 1ms/step - loss: 2.4631\n",
            "Epoch 80/100\n",
            "75/75 [==============================] - 0s 1ms/step - loss: 2.3975\n",
            "Epoch 81/100\n",
            "75/75 [==============================] - 0s 1ms/step - loss: 2.5043\n",
            "Epoch 82/100\n",
            "75/75 [==============================] - 0s 1ms/step - loss: 2.3805\n",
            "Epoch 83/100\n",
            "75/75 [==============================] - 0s 1ms/step - loss: 2.4241\n",
            "Epoch 84/100\n",
            "75/75 [==============================] - 0s 1ms/step - loss: 2.5286\n",
            "Epoch 85/100\n",
            "75/75 [==============================] - 0s 1ms/step - loss: 2.4502\n",
            "Epoch 86/100\n",
            "75/75 [==============================] - 0s 1ms/step - loss: 2.4673\n",
            "Epoch 87/100\n",
            "75/75 [==============================] - 0s 1ms/step - loss: 2.4423\n",
            "Epoch 88/100\n",
            "75/75 [==============================] - 0s 1ms/step - loss: 2.4744\n",
            "Epoch 89/100\n",
            "75/75 [==============================] - 0s 1ms/step - loss: 2.3889\n",
            "Epoch 90/100\n",
            "75/75 [==============================] - 0s 1ms/step - loss: 2.3479\n",
            "Epoch 91/100\n",
            "75/75 [==============================] - 0s 1ms/step - loss: 2.4203\n",
            "Epoch 92/100\n",
            "75/75 [==============================] - 0s 1ms/step - loss: 2.4933\n",
            "Epoch 93/100\n",
            "75/75 [==============================] - 0s 1ms/step - loss: 2.4240\n",
            "Epoch 94/100\n",
            "75/75 [==============================] - 0s 1ms/step - loss: 2.4557\n",
            "Epoch 95/100\n",
            "75/75 [==============================] - 0s 1ms/step - loss: 2.4603\n",
            "Epoch 96/100\n",
            "75/75 [==============================] - 0s 1ms/step - loss: 2.5004\n",
            "Epoch 97/100\n",
            "75/75 [==============================] - 0s 1ms/step - loss: 2.3678\n",
            "Epoch 98/100\n",
            "75/75 [==============================] - 0s 1ms/step - loss: 2.4200\n",
            "Epoch 99/100\n",
            "75/75 [==============================] - 0s 1ms/step - loss: 2.4807\n",
            "Epoch 100/100\n",
            "75/75 [==============================] - 0s 1ms/step - loss: 2.3822\n"
          ],
          "name": "stdout"
        },
        {
          "output_type": "execute_result",
          "data": {
            "text/plain": [
              "<tensorflow.python.keras.callbacks.History at 0x7fcc87179e48>"
            ]
          },
          "metadata": {
            "tags": []
          },
          "execution_count": 66
        }
      ]
    },
    {
      "cell_type": "code",
      "metadata": {
        "id": "PGaNOF1bS4sv",
        "colab_type": "code",
        "colab": {
          "base_uri": "https://localhost:8080/",
          "height": 255
        },
        "outputId": "c21d0fed-84fa-468e-f475-b67948ac241a"
      },
      "source": [
        "model_3.summary()"
      ],
      "execution_count": 67,
      "outputs": [
        {
          "output_type": "stream",
          "text": [
            "Model: \"sequential_14\"\n",
            "_________________________________________________________________\n",
            "Layer (type)                 Output Shape              Param #   \n",
            "=================================================================\n",
            "dense_32 (Dense)             (None, 2400, 100)         300       \n",
            "_________________________________________________________________\n",
            "dense_33 (Dense)             (None, 2400, 3)           303       \n",
            "_________________________________________________________________\n",
            "dropout (Dropout)            (None, 2400, 3)           0         \n",
            "=================================================================\n",
            "Total params: 603\n",
            "Trainable params: 603\n",
            "Non-trainable params: 0\n",
            "_________________________________________________________________\n"
          ],
          "name": "stdout"
        }
      ]
    },
    {
      "cell_type": "code",
      "metadata": {
        "id": "00pwYX1n57eW",
        "colab_type": "code",
        "outputId": "ddaf3238-e5bb-4e11-a96a-d26f485960e0",
        "colab": {
          "base_uri": "https://localhost:8080/",
          "height": 265
        }
      },
      "source": [
        "# Plot trained model\n",
        "plot_model(X, y, model_3)"
      ],
      "execution_count": 68,
      "outputs": [
        {
          "output_type": "display_data",
          "data": {
            "image/png": "[encoded data removed]",
            "text/plain": [
              "<Figure size 432x288 with 1 Axes>"
            ]
          },
          "metadata": {
            "tags": [],
            "needs_background": "light"
          }
        }
      ]
    },
    {
      "cell_type": "markdown",
      "metadata": {
        "collapsed": true,
        "id": "1q_DREwE57fO",
        "colab_type": "text"
      },
      "source": [
        "### End"
      ]
    }
  ]
}