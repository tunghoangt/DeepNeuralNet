{
  "nbformat": 4,
  "nbformat_minor": 0,
  "metadata": {
    "kernelspec": {
      "display_name": "Python 3",
      "language": "python",
      "name": "python3"
    },
    "language_info": {
      "codemirror_mode": {
        "name": "ipython",
        "version": 3
      },
      "file_extension": ".py",
      "mimetype": "text/x-python",
      "name": "python",
      "nbconvert_exporter": "python",
      "pygments_lexer": "ipython3",
      "version": "3.7.6"
    },
    "colab": {
      "name": "hw2_problem4.ipynb",
      "provenance": [],
      "toc_visible": true
    }
  },
  "cells": [
    {
      "cell_type": "markdown",
      "metadata": {
        "id": "Kv47ElgtYkC_",
        "colab_type": "text"
      },
      "source": [
        "# Homework 2, Problem 4\n",
        "\n",
        "The goal of this problem is for you to try and classify whether or not an individual is likely to make more or less than 50K per year.  Carry out this task.  Try at least five general architectures, report precision, recall and f1 score on a test set.\n",
        "\n",
        "For each of the parts, report your preformance in terms not of just numbers but in terms of graphs. When you have training and validation data, please show the curves as the training progresses. You should know when you are overfitting or underfitting. Don't just report bare numbers. **You are free to add implmentation or markdown cells to make your notebook clearer!!**\n",
        "\n",
        "## Data:\n",
        "\n",
        "The following dataset was taken from the first dataset repository: http://archive.ics.uci.edu/ml/datasets/Adult\n",
        "\n",
        "As the original task of the dataset lays out, \n",
        "Please note:\n",
        "* the continuous variable fnlwgt represents final weight, which is the number of units in the target population that the responding unit represents."
      ]
    },
    {
      "cell_type": "markdown",
      "metadata": {
        "id": "wU2kTw1iYkDA",
        "colab_type": "text"
      },
      "source": [
        "## Part 1: Dealing with Missing Values\n",
        "\n",
        "What should you do about dealing with missing values - do you just drop those rows?  \n",
        "One of the most common problems we come accross in working with data \"in the wild\" is missing data. Often we will have observations (rows) that have only some of the needed attributes. Different rows will have different attributes missing. There are a number of strategies for dealing with the missing values. Clearly one could be dropping the column (attribute), or row (observation). Unfortuntely if you drop columns you may lose critical information that is helpful for classification and may be present in most (many) of the rows. You can drop rows but if many rows have at least one missing value, you may loose too much data. Do you try to impute (i. e. fill in) the missing data?  If so how?  \n",
        "\n",
        "Explain why you chose the strategy you did.\n",
        "\n",
        "*Hint - '?' denotes a missing value.*\n",
        "\n",
        "### Some possible strategies for dealing with missing data\n",
        "\n",
        "1. Whenever there is pleanty of data and very little missing data, you should consider dropping rows and/or columns. This may introduce some bias in the data but again, if the problem is limited to a very few rows or columns, it is easy in training to reproduce.\n",
        "\n",
        "2. Fill with fixed value using sklearn.impute.SimpleImputer.\n",
        "    a. 'constant' 0. Rarely a good idea but sometimes, if we can assume that when it is missing it is basically 0, this might be a good idea. For example a data may list number of house fires in a zip code and a missing value just means none.\n",
        "    b. 'mean' if the data is numeric, the mean is meaningfull.\n",
        "    c. 'median' may be more sensible if the data is integer or ordered. When the mean and median are very different it is important to understand what a \"typical\" example might mean. When considering \"income\", for example, a few large outliers will mess up the mean.\n",
        "    d. \"most_frequent' when you have categorical (nominal) labels, mean and median don't make any sense. Most probable label is what you need to use. This is also known as \"mode\".\n",
        "\n",
        "3. sklearn.impute.MissingIndicator: Sometimes the fact that a value is missing, is itself an important indicator. One can create a new feature/attribute that indicates a certain attribute is missing. If you later build a classifier by hand you can explicitly wieght each variable using the missing variable weights so that for that example (row) that attribute won't contribute to the classifier. In a deep neural network it is possible that the network can learn to do that automatically.\n",
        "\n",
        "4. One can use the sklearn.impute.KNNImputer which will look for rows to fill in the data.\n",
        "\n",
        "5. Fill with sklearn.impute.IterativeImputer scikit-learn provides a sophisticated imputation strategy. You can read up on this in the documentation, but it will fix on of the columns (attributes), and try to use the other features to predict similar to KNN but more sophisticated.\n",
        "\n",
        "6. Train a classifier: You can build your own classifier using machine learning. This is kind of a problem within a problem but if done correctly, it has the potential to be more accurate than a simpler method. Of course, if done badly it could be worse.\n",
        "\n",
        "7. Manually impute the missing values. You may know enough about the problem to build an ad-hoc way to fill in the missing values for each column in a way that makes the most sense. This almost always requires a great deal of domain expertise. \n",
        "\n"
      ]
    },
    {
      "cell_type": "code",
      "metadata": {
        "id": "j8ocX6x1a9rv",
        "colab_type": "code",
        "colab": {
          "base_uri": "https://localhost:8080/",
          "height": 122
        },
        "outputId": "4e0e4885-bd46-4aca-962d-5cd586c45201"
      },
      "source": [
        "from google.colab import drive, files\n",
        "drive.mount('/content/drive')"
      ],
      "execution_count": 2,
      "outputs": [
        {
          "output_type": "stream",
          "text": [
            "Go to this URL in a browser: https://accounts.google.com/o/oauth2/auth?client_id=947318989803-6bn6qk8qdgf4n4g3pfee6491hc0brc4i.apps.googleusercontent.com&redirect_uri=urn%3aietf%3awg%3aoauth%3a2.0%3aoob&response_type=code&scope=email%20https%3a%2f%2fwww.googleapis.com%2fauth%2fdocs.test%20https%3a%2f%2fwww.googleapis.com%2fauth%2fdrive%20https%3a%2f%2fwww.googleapis.com%2fauth%2fdrive.photos.readonly%20https%3a%2f%2fwww.googleapis.com%2fauth%2fpeopleapi.readonly\n",
            "\n",
            "Enter your authorization code:\n",
            "··········\n",
            "Mounted at /content/drive\n"
          ],
          "name": "stdout"
        }
      ]
    },
    {
      "cell_type": "code",
      "metadata": {
        "id": "pkh63vFabjj0",
        "colab_type": "code",
        "colab": {}
      },
      "source": [
        "import numpy as np\n",
        "from sklearn.impute import SimpleImputer\n",
        "from sklearn.model_selection import train_test_split\n",
        "from sklearn.linear_model import LogisticRegression\n",
        "from sklearn.ensemble import RandomForestClassifier\n",
        "from sklearn.metrics import classification_report, accuracy_score,precision_score,f1_score,recall_score\n",
        "import tensorflow as tf\n",
        "from keras.models import Sequential\n",
        "from keras.layers import Dense,Dropout\n",
        "from sklearn.model_selection import KFold\n",
        "import matplotlib.pyplot as plt"
      ],
      "execution_count": 0,
      "outputs": []
    },
    {
      "cell_type": "code",
      "metadata": {
        "id": "ig3PCaFcYkDB",
        "colab_type": "code",
        "colab": {}
      },
      "source": [
        "# Add your code for filling in the data here. Please end by using the appropriate bandas method\n",
        "# to show the amount of missing data (which in the end should not be any since you dropped or filled in data)\n",
        "\n",
        "\n",
        "import pandas as pd\n",
        "\n",
        "columns = [\n",
        "    \"age\",\n",
        "    \"work_class\",\n",
        "    \"fnlwgt\",\n",
        "    \"education\",\n",
        "    \"education_num\",\n",
        "    \"marital_status\",\n",
        "    \"occupation\",\n",
        "    \"relationship\",\n",
        "    \"race\",\n",
        "    \"sex\",\n",
        "    \"capital_gain\",\n",
        "    \"capital_loss\",\n",
        "    \"hours_per_week\",\n",
        "    \"native_country\",\n",
        "    \"target\"\n",
        "]\n",
        "df = pd.read_csv(\"/content/drive/My Drive/Colab Notebooks/adult.data\", names=columns)\n",
        "for column in df.columns:\n",
        "    if df[column].dtype == \"object\":\n",
        "        df[column] = df[column].str.strip()"
      ],
      "execution_count": 0,
      "outputs": []
    },
    {
      "cell_type": "code",
      "metadata": {
        "id": "mRcxnY2DcF-B",
        "colab_type": "code",
        "colab": {
          "base_uri": "https://localhost:8080/",
          "height": 292
        },
        "outputId": "139473a6-ef0c-4147-b605-abcd7c26b8f2"
      },
      "source": [
        "df.head()"
      ],
      "execution_count": 5,
      "outputs": [
        {
          "output_type": "execute_result",
          "data": {
            "text/html": [
              "<div>\n",
              "<style scoped>\n",
              "    .dataframe tbody tr th:only-of-type {\n",
              "        vertical-align: middle;\n",
              "    }\n",
              "\n",
              "    .dataframe tbody tr th {\n",
              "        vertical-align: top;\n",
              "    }\n",
              "\n",
              "    .dataframe thead th {\n",
              "        text-align: right;\n",
              "    }\n",
              "</style>\n",
              "<table border=\"1\" class=\"dataframe\">\n",
              "  <thead>\n",
              "    <tr style=\"text-align: right;\">\n",
              "      <th></th>\n",
              "      <th>age</th>\n",
              "      <th>work_class</th>\n",
              "      <th>fnlwgt</th>\n",
              "      <th>education</th>\n",
              "      <th>education_num</th>\n",
              "      <th>marital_status</th>\n",
              "      <th>occupation</th>\n",
              "      <th>relationship</th>\n",
              "      <th>race</th>\n",
              "      <th>sex</th>\n",
              "      <th>capital_gain</th>\n",
              "      <th>capital_loss</th>\n",
              "      <th>hours_per_week</th>\n",
              "      <th>native_country</th>\n",
              "      <th>target</th>\n",
              "    </tr>\n",
              "  </thead>\n",
              "  <tbody>\n",
              "    <tr>\n",
              "      <th>0</th>\n",
              "      <td>39</td>\n",
              "      <td>State-gov</td>\n",
              "      <td>77516</td>\n",
              "      <td>Bachelors</td>\n",
              "      <td>13</td>\n",
              "      <td>Never-married</td>\n",
              "      <td>Adm-clerical</td>\n",
              "      <td>Not-in-family</td>\n",
              "      <td>White</td>\n",
              "      <td>Male</td>\n",
              "      <td>2174</td>\n",
              "      <td>0</td>\n",
              "      <td>40</td>\n",
              "      <td>United-States</td>\n",
              "      <td>&lt;=50K</td>\n",
              "    </tr>\n",
              "    <tr>\n",
              "      <th>1</th>\n",
              "      <td>50</td>\n",
              "      <td>Self-emp-not-inc</td>\n",
              "      <td>83311</td>\n",
              "      <td>Bachelors</td>\n",
              "      <td>13</td>\n",
              "      <td>Married-civ-spouse</td>\n",
              "      <td>Exec-managerial</td>\n",
              "      <td>Husband</td>\n",
              "      <td>White</td>\n",
              "      <td>Male</td>\n",
              "      <td>0</td>\n",
              "      <td>0</td>\n",
              "      <td>13</td>\n",
              "      <td>United-States</td>\n",
              "      <td>&lt;=50K</td>\n",
              "    </tr>\n",
              "    <tr>\n",
              "      <th>2</th>\n",
              "      <td>38</td>\n",
              "      <td>Private</td>\n",
              "      <td>215646</td>\n",
              "      <td>HS-grad</td>\n",
              "      <td>9</td>\n",
              "      <td>Divorced</td>\n",
              "      <td>Handlers-cleaners</td>\n",
              "      <td>Not-in-family</td>\n",
              "      <td>White</td>\n",
              "      <td>Male</td>\n",
              "      <td>0</td>\n",
              "      <td>0</td>\n",
              "      <td>40</td>\n",
              "      <td>United-States</td>\n",
              "      <td>&lt;=50K</td>\n",
              "    </tr>\n",
              "    <tr>\n",
              "      <th>3</th>\n",
              "      <td>53</td>\n",
              "      <td>Private</td>\n",
              "      <td>234721</td>\n",
              "      <td>11th</td>\n",
              "      <td>7</td>\n",
              "      <td>Married-civ-spouse</td>\n",
              "      <td>Handlers-cleaners</td>\n",
              "      <td>Husband</td>\n",
              "      <td>Black</td>\n",
              "      <td>Male</td>\n",
              "      <td>0</td>\n",
              "      <td>0</td>\n",
              "      <td>40</td>\n",
              "      <td>United-States</td>\n",
              "      <td>&lt;=50K</td>\n",
              "    </tr>\n",
              "    <tr>\n",
              "      <th>4</th>\n",
              "      <td>28</td>\n",
              "      <td>Private</td>\n",
              "      <td>338409</td>\n",
              "      <td>Bachelors</td>\n",
              "      <td>13</td>\n",
              "      <td>Married-civ-spouse</td>\n",
              "      <td>Prof-specialty</td>\n",
              "      <td>Wife</td>\n",
              "      <td>Black</td>\n",
              "      <td>Female</td>\n",
              "      <td>0</td>\n",
              "      <td>0</td>\n",
              "      <td>40</td>\n",
              "      <td>Cuba</td>\n",
              "      <td>&lt;=50K</td>\n",
              "    </tr>\n",
              "  </tbody>\n",
              "</table>\n",
              "</div>"
            ],
            "text/plain": [
              "   age        work_class  fnlwgt  ... hours_per_week  native_country target\n",
              "0   39         State-gov   77516  ...             40   United-States  <=50K\n",
              "1   50  Self-emp-not-inc   83311  ...             13   United-States  <=50K\n",
              "2   38           Private  215646  ...             40   United-States  <=50K\n",
              "3   53           Private  234721  ...             40   United-States  <=50K\n",
              "4   28           Private  338409  ...             40            Cuba  <=50K\n",
              "\n",
              "[5 rows x 15 columns]"
            ]
          },
          "metadata": {
            "tags": []
          },
          "execution_count": 5
        }
      ]
    },
    {
      "cell_type": "markdown",
      "metadata": {
        "id": "cyhQab0pdU81",
        "colab_type": "text"
      },
      "source": [
        "##### Check for columns with missing values"
      ]
    },
    {
      "cell_type": "code",
      "metadata": {
        "id": "wUG9kQSjcwCX",
        "colab_type": "code",
        "colab": {
          "base_uri": "https://localhost:8080/",
          "height": 289
        },
        "outputId": "68a1692f-4bb1-44fa-c18b-35db300a97f5"
      },
      "source": [
        "print(df.isin(['?']).any())"
      ],
      "execution_count": 6,
      "outputs": [
        {
          "output_type": "stream",
          "text": [
            "age               False\n",
            "work_class         True\n",
            "fnlwgt            False\n",
            "education         False\n",
            "education_num     False\n",
            "marital_status    False\n",
            "occupation         True\n",
            "relationship      False\n",
            "race              False\n",
            "sex               False\n",
            "capital_gain      False\n",
            "capital_loss      False\n",
            "hours_per_week    False\n",
            "native_country     True\n",
            "target            False\n",
            "dtype: bool\n"
          ],
          "name": "stdout"
        }
      ]
    },
    {
      "cell_type": "code",
      "metadata": {
        "id": "83ZIsvCzcwLA",
        "colab_type": "code",
        "colab": {
          "base_uri": "https://localhost:8080/",
          "height": 289
        },
        "outputId": "5620d7d7-1e88-430e-b4d5-a2f34ecf4033"
      },
      "source": [
        "df.isnull().any()"
      ],
      "execution_count": 7,
      "outputs": [
        {
          "output_type": "execute_result",
          "data": {
            "text/plain": [
              "age               False\n",
              "work_class        False\n",
              "fnlwgt            False\n",
              "education         False\n",
              "education_num     False\n",
              "marital_status    False\n",
              "occupation        False\n",
              "relationship      False\n",
              "race              False\n",
              "sex               False\n",
              "capital_gain      False\n",
              "capital_loss      False\n",
              "hours_per_week    False\n",
              "native_country    False\n",
              "target            False\n",
              "dtype: bool"
            ]
          },
          "metadata": {
            "tags": []
          },
          "execution_count": 7
        }
      ]
    },
    {
      "cell_type": "markdown",
      "metadata": {
        "id": "gwRUp8FJeimC",
        "colab_type": "text"
      },
      "source": [
        "##### Clean up"
      ]
    },
    {
      "cell_type": "code",
      "metadata": {
        "id": "iIyFoVDNcwV3",
        "colab_type": "code",
        "colab": {}
      },
      "source": [
        "# Drop relationship because it's overlapping with marital status and sex\n",
        "df.drop(['relationship',],axis=1,inplace=True)"
      ],
      "execution_count": 0,
      "outputs": []
    },
    {
      "cell_type": "code",
      "metadata": {
        "id": "q5AsUiw9hoaB",
        "colab_type": "code",
        "colab": {}
      },
      "source": [
        "# Also drop 'fnlwgt' because it seems irrelevant in the prediction task\n",
        "df.drop(['fnlwgt',],axis=1,inplace=True)"
      ],
      "execution_count": 0,
      "outputs": []
    },
    {
      "cell_type": "code",
      "metadata": {
        "id": "DVIgwAr1h6-Z",
        "colab_type": "code",
        "colab": {}
      },
      "source": [
        "# Also drop 'education' because it's overlapping with 'education_num'\n",
        "df.drop(['education',],axis=1,inplace=True)"
      ],
      "execution_count": 0,
      "outputs": []
    },
    {
      "cell_type": "code",
      "metadata": {
        "id": "tZyK2KIHiGfp",
        "colab_type": "code",
        "colab": {
          "base_uri": "https://localhost:8080/",
          "height": 68
        },
        "outputId": "f2a68eb7-39c8-4cd7-934e-c728626a55f0"
      },
      "source": [
        "df['marital_status'].unique()"
      ],
      "execution_count": 11,
      "outputs": [
        {
          "output_type": "execute_result",
          "data": {
            "text/plain": [
              "array(['Never-married', 'Married-civ-spouse', 'Divorced',\n",
              "       'Married-spouse-absent', 'Separated', 'Married-AF-spouse',\n",
              "       'Widowed'], dtype=object)"
            ]
          },
          "metadata": {
            "tags": []
          },
          "execution_count": 11
        }
      ]
    },
    {
      "cell_type": "code",
      "metadata": {
        "id": "txYaKJBQiQ0m",
        "colab_type": "code",
        "colab": {
          "base_uri": "https://localhost:8080/",
          "height": 68
        },
        "outputId": "ae8df192-65d5-4e17-b7b7-895dc719c8ca"
      },
      "source": [
        "df['work_class'].unique()"
      ],
      "execution_count": 12,
      "outputs": [
        {
          "output_type": "execute_result",
          "data": {
            "text/plain": [
              "array(['State-gov', 'Self-emp-not-inc', 'Private', 'Federal-gov',\n",
              "       'Local-gov', '?', 'Self-emp-inc', 'Without-pay', 'Never-worked'],\n",
              "      dtype=object)"
            ]
          },
          "metadata": {
            "tags": []
          },
          "execution_count": 12
        }
      ]
    },
    {
      "cell_type": "code",
      "metadata": {
        "id": "wuE36UGTiiOd",
        "colab_type": "code",
        "colab": {
          "base_uri": "https://localhost:8080/",
          "height": 170
        },
        "outputId": "507a6390-ea60-49c7-93c9-3872a733feaf"
      },
      "source": [
        "df['native_country'].unique()"
      ],
      "execution_count": 13,
      "outputs": [
        {
          "output_type": "execute_result",
          "data": {
            "text/plain": [
              "array(['United-States', 'Cuba', 'Jamaica', 'India', '?', 'Mexico',\n",
              "       'South', 'Puerto-Rico', 'Honduras', 'England', 'Canada', 'Germany',\n",
              "       'Iran', 'Philippines', 'Italy', 'Poland', 'Columbia', 'Cambodia',\n",
              "       'Thailand', 'Ecuador', 'Laos', 'Taiwan', 'Haiti', 'Portugal',\n",
              "       'Dominican-Republic', 'El-Salvador', 'France', 'Guatemala',\n",
              "       'China', 'Japan', 'Yugoslavia', 'Peru',\n",
              "       'Outlying-US(Guam-USVI-etc)', 'Scotland', 'Trinadad&Tobago',\n",
              "       'Greece', 'Nicaragua', 'Vietnam', 'Hong', 'Ireland', 'Hungary',\n",
              "       'Holand-Netherlands'], dtype=object)"
            ]
          },
          "metadata": {
            "tags": []
          },
          "execution_count": 13
        }
      ]
    },
    {
      "cell_type": "code",
      "metadata": {
        "id": "cgME9trwjfOi",
        "colab_type": "code",
        "colab": {}
      },
      "source": [
        "# Since there are too many countries, which will make it harder to encode later, we need to transform it to US or non-US\n",
        "df['native_country'] = df['native_country'].apply(lambda c: 'US' if c == 'United-States' else 'non-US')"
      ],
      "execution_count": 0,
      "outputs": []
    },
    {
      "cell_type": "code",
      "metadata": {
        "id": "l2lsreE4kE5x",
        "colab_type": "code",
        "colab": {
          "base_uri": "https://localhost:8080/",
          "height": 102
        },
        "outputId": "7b868872-46fa-47a4-f8d3-ed6f26c6584f"
      },
      "source": [
        "df['occupation'].unique()"
      ],
      "execution_count": 15,
      "outputs": [
        {
          "output_type": "execute_result",
          "data": {
            "text/plain": [
              "array(['Adm-clerical', 'Exec-managerial', 'Handlers-cleaners',\n",
              "       'Prof-specialty', 'Other-service', 'Sales', 'Craft-repair',\n",
              "       'Transport-moving', 'Farming-fishing', 'Machine-op-inspct',\n",
              "       'Tech-support', '?', 'Protective-serv', 'Armed-Forces',\n",
              "       'Priv-house-serv'], dtype=object)"
            ]
          },
          "metadata": {
            "tags": []
          },
          "execution_count": 15
        }
      ]
    },
    {
      "cell_type": "code",
      "metadata": {
        "id": "32wapurNf0Al",
        "colab_type": "code",
        "colab": {}
      },
      "source": [
        "# Replace missing value with the most frequent values \n",
        "imp = SimpleImputer(missing_values='?', strategy='most_frequent')\n",
        "df = pd.DataFrame(imp.fit_transform(df),\n",
        "                   columns=df.columns,\n",
        "                   index=df.index)"
      ],
      "execution_count": 0,
      "outputs": []
    },
    {
      "cell_type": "code",
      "metadata": {
        "id": "kfUXmIYrgfoU",
        "colab_type": "code",
        "colab": {}
      },
      "source": [
        "# To make it easier to classify (binary) later, transforming the target column to 0 if income is smaller than 50K, and to 1 if income is equal or more than 50K\n",
        "df['target'] = df['target'].apply(lambda c: 0 if c == '<=50K' else 1)"
      ],
      "execution_count": 0,
      "outputs": []
    },
    {
      "cell_type": "code",
      "metadata": {
        "id": "b5WECG9zgKBt",
        "colab_type": "code",
        "colab": {
          "base_uri": "https://localhost:8080/",
          "height": 292
        },
        "outputId": "a22a9c6e-1754-49f2-d9d1-92cda2d046f6"
      },
      "source": [
        "df.head()"
      ],
      "execution_count": 18,
      "outputs": [
        {
          "output_type": "execute_result",
          "data": {
            "text/html": [
              "<div>\n",
              "<style scoped>\n",
              "    .dataframe tbody tr th:only-of-type {\n",
              "        vertical-align: middle;\n",
              "    }\n",
              "\n",
              "    .dataframe tbody tr th {\n",
              "        vertical-align: top;\n",
              "    }\n",
              "\n",
              "    .dataframe thead th {\n",
              "        text-align: right;\n",
              "    }\n",
              "</style>\n",
              "<table border=\"1\" class=\"dataframe\">\n",
              "  <thead>\n",
              "    <tr style=\"text-align: right;\">\n",
              "      <th></th>\n",
              "      <th>age</th>\n",
              "      <th>work_class</th>\n",
              "      <th>education_num</th>\n",
              "      <th>marital_status</th>\n",
              "      <th>occupation</th>\n",
              "      <th>race</th>\n",
              "      <th>sex</th>\n",
              "      <th>capital_gain</th>\n",
              "      <th>capital_loss</th>\n",
              "      <th>hours_per_week</th>\n",
              "      <th>native_country</th>\n",
              "      <th>target</th>\n",
              "    </tr>\n",
              "  </thead>\n",
              "  <tbody>\n",
              "    <tr>\n",
              "      <th>0</th>\n",
              "      <td>39</td>\n",
              "      <td>State-gov</td>\n",
              "      <td>13</td>\n",
              "      <td>Never-married</td>\n",
              "      <td>Adm-clerical</td>\n",
              "      <td>White</td>\n",
              "      <td>Male</td>\n",
              "      <td>2174</td>\n",
              "      <td>0</td>\n",
              "      <td>40</td>\n",
              "      <td>US</td>\n",
              "      <td>0</td>\n",
              "    </tr>\n",
              "    <tr>\n",
              "      <th>1</th>\n",
              "      <td>50</td>\n",
              "      <td>Self-emp-not-inc</td>\n",
              "      <td>13</td>\n",
              "      <td>Married-civ-spouse</td>\n",
              "      <td>Exec-managerial</td>\n",
              "      <td>White</td>\n",
              "      <td>Male</td>\n",
              "      <td>0</td>\n",
              "      <td>0</td>\n",
              "      <td>13</td>\n",
              "      <td>US</td>\n",
              "      <td>0</td>\n",
              "    </tr>\n",
              "    <tr>\n",
              "      <th>2</th>\n",
              "      <td>38</td>\n",
              "      <td>Private</td>\n",
              "      <td>9</td>\n",
              "      <td>Divorced</td>\n",
              "      <td>Handlers-cleaners</td>\n",
              "      <td>White</td>\n",
              "      <td>Male</td>\n",
              "      <td>0</td>\n",
              "      <td>0</td>\n",
              "      <td>40</td>\n",
              "      <td>US</td>\n",
              "      <td>0</td>\n",
              "    </tr>\n",
              "    <tr>\n",
              "      <th>3</th>\n",
              "      <td>53</td>\n",
              "      <td>Private</td>\n",
              "      <td>7</td>\n",
              "      <td>Married-civ-spouse</td>\n",
              "      <td>Handlers-cleaners</td>\n",
              "      <td>Black</td>\n",
              "      <td>Male</td>\n",
              "      <td>0</td>\n",
              "      <td>0</td>\n",
              "      <td>40</td>\n",
              "      <td>US</td>\n",
              "      <td>0</td>\n",
              "    </tr>\n",
              "    <tr>\n",
              "      <th>4</th>\n",
              "      <td>28</td>\n",
              "      <td>Private</td>\n",
              "      <td>13</td>\n",
              "      <td>Married-civ-spouse</td>\n",
              "      <td>Prof-specialty</td>\n",
              "      <td>Black</td>\n",
              "      <td>Female</td>\n",
              "      <td>0</td>\n",
              "      <td>0</td>\n",
              "      <td>40</td>\n",
              "      <td>non-US</td>\n",
              "      <td>0</td>\n",
              "    </tr>\n",
              "  </tbody>\n",
              "</table>\n",
              "</div>"
            ],
            "text/plain": [
              "  age        work_class education_num  ... hours_per_week native_country target\n",
              "0  39         State-gov            13  ...             40             US      0\n",
              "1  50  Self-emp-not-inc            13  ...             13             US      0\n",
              "2  38           Private             9  ...             40             US      0\n",
              "3  53           Private             7  ...             40             US      0\n",
              "4  28           Private            13  ...             40         non-US      0\n",
              "\n",
              "[5 rows x 12 columns]"
            ]
          },
          "metadata": {
            "tags": []
          },
          "execution_count": 18
        }
      ]
    },
    {
      "cell_type": "markdown",
      "metadata": {
        "id": "sNJfILFkYkDG",
        "colab_type": "text"
      },
      "source": [
        "## Part 2: Train Test Validate Split\n",
        "\n",
        "Ideally you will split the data and use the train data filling in proceedure for the test data. Because this is expensive you can do experiments initially to see if this matters. Just keep carefully in mind what you will know and what you can't know during the test evaluation. Both sklearn and tensorflow provide facilities for train test split. Take your pick.\n",
        "\n",
        "At the end of this you should have a train, validate and test split. In the next part you are going to do preliminary testing of your model with your train+validation sets to get some idea of good canditates for hyperparameters. Later you will merge your training and validation set and resplit them up using cross validation to get better estimates for setting hyper-parameters\n",
        "\n",
        "**NOTE: It is very important that you record very carefully any parameters you have for filling in data in step 1. For example if you you build a \"fit\" using some training data, later you will need to use the this \"fit\" to transform the data, you can not re-fit on new data. In other words if your \"pipline\" in training takes the mean of the input to fill in the first column, you need to fill with exactly that number, when you get new data for testing. Don't take the mean of the test data.**"
      ]
    },
    {
      "cell_type": "code",
      "metadata": {
        "id": "UNVZ7U6eYkDG",
        "colab_type": "code",
        "colab": {}
      },
      "source": [
        "# Fill your solution for a train-test split in here.\n",
        "y = np.array(df['target'])\n",
        "X = pd.get_dummies(df.drop(['target'], axis=1)).values"
      ],
      "execution_count": 0,
      "outputs": []
    },
    {
      "cell_type": "code",
      "metadata": {
        "id": "pyLbDCrxlBEd",
        "colab_type": "code",
        "colab": {
          "base_uri": "https://localhost:8080/",
          "height": 34
        },
        "outputId": "e25d7c0e-4bcc-46f6-be10-a404b9740995"
      },
      "source": [
        "X.shape"
      ],
      "execution_count": 20,
      "outputs": [
        {
          "output_type": "execute_result",
          "data": {
            "text/plain": [
              "(32561, 432)"
            ]
          },
          "metadata": {
            "tags": []
          },
          "execution_count": 20
        }
      ]
    },
    {
      "cell_type": "code",
      "metadata": {
        "id": "ZfgyKc1AlCi9",
        "colab_type": "code",
        "colab": {
          "base_uri": "https://localhost:8080/",
          "height": 34
        },
        "outputId": "6e2a7047-86ca-4f3d-a97b-313368d9e491"
      },
      "source": [
        "y.shape"
      ],
      "execution_count": 21,
      "outputs": [
        {
          "output_type": "execute_result",
          "data": {
            "text/plain": [
              "(32561,)"
            ]
          },
          "metadata": {
            "tags": []
          },
          "execution_count": 21
        }
      ]
    },
    {
      "cell_type": "code",
      "metadata": {
        "id": "RRKfTVVzlOqO",
        "colab_type": "code",
        "colab": {}
      },
      "source": [
        "# Train Test Split\n",
        "X_train, X_test, y_train, y_test = train_test_split(X, y, test_size=0.2, random_state = 42)"
      ],
      "execution_count": 0,
      "outputs": []
    },
    {
      "cell_type": "markdown",
      "metadata": {
        "id": "-RrupFUFYkDM",
        "colab_type": "text"
      },
      "source": [
        "## Part 3: Build different 2 sklearn models and five different variations of Keras/tensorflow  models\n",
        "\n",
        "Two simple models should be baseline from sklearn. Try a logistic regression and a random forest to know what your dense neural network should be able to beat. Use the training and validation data from above (don't look at the testing data). Try varations on the number of notes in a layer, the number of layers. Also play with feature selection. You can try to eliminate featuers and see if your validation score goes up or down. See how the batch size effects things.\n",
        "\n",
        "### At the end of this section provide a report with figures on your conclusion on how these things effected preformance:\n",
        "\n",
        "* number of hidden layers\n",
        "* number of nodes per hidden layer aka matrix dimension\n",
        "* activation function\n",
        "* weight initialization\n",
        "* metrics for evaluation\n",
        "* batch size\n",
        "* number of epochs\n",
        "* optimizer\n",
        "* also carry out feature selection / dimensionality reduction\n",
        "* does the model do better or worse with dimensionality reduction?\n",
        "\n",
        "** Note: do not try regularization yet!*\n"
      ]
    },
    {
      "cell_type": "code",
      "metadata": {
        "id": "XqwxEra9lrCc",
        "colab_type": "code",
        "colab": {
          "base_uri": "https://localhost:8080/",
          "height": 459
        },
        "outputId": "8c5bee1d-dcb6-4cc6-fec3-ff06316150ee"
      },
      "source": [
        "# Get baseline results here with logisic regression and random forest\n",
        "lr = LogisticRegression()\n",
        "lr.fit(X_train, y_train)\n",
        "y_pred_lr = lr.predict(X_test)\n",
        "print(classification_report(y_test,y_pred_lr))\n",
        "\n",
        "rf = RandomForestClassifier()\n",
        "rf.fit(X_train, y_train)\n",
        "y_pred_rf = rf.predict(X_test)\n",
        "print(classification_report(y_test,y_pred_rf))"
      ],
      "execution_count": 23,
      "outputs": [
        {
          "output_type": "stream",
          "text": [
            "/usr/local/lib/python3.6/dist-packages/sklearn/linear_model/_logistic.py:940: ConvergenceWarning: lbfgs failed to converge (status=1):\n",
            "STOP: TOTAL NO. of ITERATIONS REACHED LIMIT.\n",
            "\n",
            "Increase the number of iterations (max_iter) or scale the data as shown in:\n",
            "    https://scikit-learn.org/stable/modules/preprocessing.html\n",
            "Please also refer to the documentation for alternative solver options:\n",
            "    https://scikit-learn.org/stable/modules/linear_model.html#logistic-regression\n",
            "  extra_warning_msg=_LOGISTIC_SOLVER_CONVERGENCE_MSG)\n"
          ],
          "name": "stderr"
        },
        {
          "output_type": "stream",
          "text": [
            "              precision    recall  f1-score   support\n",
            "\n",
            "           0       0.89      0.95      0.92      4942\n",
            "           1       0.79      0.65      0.71      1571\n",
            "\n",
            "    accuracy                           0.87      6513\n",
            "   macro avg       0.84      0.80      0.82      6513\n",
            "weighted avg       0.87      0.87      0.87      6513\n",
            "\n",
            "              precision    recall  f1-score   support\n",
            "\n",
            "           0       0.88      0.93      0.91      4942\n",
            "           1       0.74      0.62      0.67      1571\n",
            "\n",
            "    accuracy                           0.85      6513\n",
            "   macro avg       0.81      0.77      0.79      6513\n",
            "weighted avg       0.85      0.85      0.85      6513\n",
            "\n"
          ],
          "name": "stdout"
        }
      ]
    },
    {
      "cell_type": "code",
      "metadata": {
        "id": "qR_eGHxKYkDN",
        "colab_type": "code",
        "colab": {}
      },
      "source": [
        "# Set up your models here\n",
        "def model_one():\n",
        "  model = Sequential()\n",
        "  model.add(Dense(64, activation = 'relu'))\n",
        "  model.add(Dense(1,activation='linear'))\n",
        "  model.compile(loss = 'binary_crossentropy', optimizer ='adam', metrics = ['accuracy'])\n",
        "  \n",
        "  return model\n",
        "\n",
        "def model_two():\n",
        "  model = Sequential()\n",
        "  model.add(Dense(64, activation = 'relu'))\n",
        "  model.add(Dense(1,activation='sigmoid'))\n",
        "  model.compile(loss = 'binary_crossentropy', optimizer ='adam', metrics = ['accuracy'])\n",
        "  \n",
        "  return model\n",
        "\n",
        "def model_three():\n",
        "  model = Sequential()\n",
        "  model.add(Dense(64, activation = 'relu'))\n",
        "  model.add(Dense(32, activation = 'relu'))\n",
        "  model.add(Dense(1,activation='sigmoid'))\n",
        "  model.compile(loss = 'binary_crossentropy', optimizer ='adam', metrics = ['accuracy'])\n",
        "  \n",
        "  return model\n",
        "\n",
        "def model_four():\n",
        "  model = Sequential()\n",
        "  model.add(Dense(64, activation = 'relu'))\n",
        "  model.add(Dense(32, activation = 'relu'))\n",
        "  model.add(Dense(16, activation = 'relu'))\n",
        "  model.add(Dense(1,activation='sigmoid'))\n",
        "  model.compile(loss = 'binary_crossentropy', optimizer ='adam', metrics = ['accuracy'])\n",
        "  \n",
        "  return model\n",
        "\n",
        "def model_five():\n",
        "  model = Sequential()\n",
        "  model.add(Dense(64, activation = 'relu'))\n",
        "  model.add(Dense(32, activation = 'relu'))\n",
        "  model.add(Dense(16, activation = 'relu'))\n",
        "  model.add(Dense(8, activation = 'relu'))\n",
        "  model.add(Dense(1,activation='sigmoid'))\n",
        "  model.compile(loss = 'binary_crossentropy', optimizer ='adam', metrics = ['accuracy'])\n",
        "\n",
        "  return model\n",
        "\n",
        "# Perform preliminary evaluations here"
      ],
      "execution_count": 0,
      "outputs": []
    },
    {
      "cell_type": "code",
      "metadata": {
        "id": "hKHKhhdPrjhb",
        "colab_type": "code",
        "colab": {}
      },
      "source": [
        "model_1, model_2, model_3, model_4, model_5 = model_one(), model_two(), model_three(), model_four(), model_five()"
      ],
      "execution_count": 0,
      "outputs": []
    },
    {
      "cell_type": "code",
      "metadata": {
        "id": "18I2VTVYsAsx",
        "colab_type": "code",
        "colab": {}
      },
      "source": [
        "models = []\n",
        "models.extend([model_1, model_2, model_3, model_4, model_5])"
      ],
      "execution_count": 0,
      "outputs": []
    },
    {
      "cell_type": "code",
      "metadata": {
        "id": "W_25Mc_CsIA5",
        "colab_type": "code",
        "colab": {
          "base_uri": "https://localhost:8080/",
          "height": 1000
        },
        "outputId": "10d9dad3-8052-4c02-b1f4-90123bec6bd9"
      },
      "source": [
        "for model in models:\n",
        "    history = model.fit(X_train, y_train, batch_size=32, validation_split = 0.2 ,epochs=10)\n",
        "    model.evaluate(X_test, y_test, batch_size=16)\n",
        "    plt.plot(history.history['accuracy'])\n",
        "    plt.plot(history.history['val_accuracy'])\n",
        "    plt.title('model accuracy')\n",
        "    plt.ylabel('accuracy')\n",
        "    plt.xlabel('epoch')\n",
        "    plt.legend(['train', 'test'], loc='upper left')\n",
        "    plt.show()"
      ],
      "execution_count": 51,
      "outputs": [
        {
          "output_type": "stream",
          "text": [
            "Train on 20838 samples, validate on 5210 samples\n",
            "Epoch 1/10\n",
            "20838/20838 [==============================] - 1s 50us/step - loss: 0.3950 - accuracy: 0.8298 - val_loss: 0.3683 - val_accuracy: 0.8334\n",
            "Epoch 2/10\n",
            "20838/20838 [==============================] - 1s 46us/step - loss: 0.3523 - accuracy: 0.8116 - val_loss: 0.3474 - val_accuracy: 0.8242\n",
            "Epoch 3/10\n",
            "20838/20838 [==============================] - 1s 46us/step - loss: 0.3403 - accuracy: 0.7898 - val_loss: 0.3587 - val_accuracy: 0.7670\n",
            "Epoch 4/10\n",
            "20838/20838 [==============================] - 1s 46us/step - loss: 0.3196 - accuracy: 0.7586 - val_loss: 0.3359 - val_accuracy: 0.7716\n",
            "Epoch 5/10\n",
            "20838/20838 [==============================] - 1s 47us/step - loss: 0.3086 - accuracy: 0.7317 - val_loss: 0.3830 - val_accuracy: 0.7315\n",
            "Epoch 6/10\n",
            "20838/20838 [==============================] - 1s 46us/step - loss: 0.3092 - accuracy: 0.7181 - val_loss: 0.3501 - val_accuracy: 0.6952\n",
            "Epoch 7/10\n",
            "20838/20838 [==============================] - 1s 46us/step - loss: 0.3067 - accuracy: 0.6998 - val_loss: 0.3730 - val_accuracy: 0.7155\n",
            "Epoch 8/10\n",
            "20838/20838 [==============================] - 1s 48us/step - loss: 0.2971 - accuracy: 0.6766 - val_loss: 0.3848 - val_accuracy: 0.6829\n",
            "Epoch 9/10\n",
            "20838/20838 [==============================] - 1s 46us/step - loss: 0.2919 - accuracy: 0.6617 - val_loss: 0.3567 - val_accuracy: 0.6841\n",
            "Epoch 10/10\n",
            "20838/20838 [==============================] - 1s 45us/step - loss: 0.2815 - accuracy: 0.6577 - val_loss: 0.3758 - val_accuracy: 0.6760\n",
            "6513/6513 [==============================] - 0s 34us/step\n"
          ],
          "name": "stdout"
        },
        {
          "output_type": "display_data",
          "data": {
            "image/png": "[encoded data removed]",
            "text/plain": [
              "<Figure size 432x288 with 1 Axes>"
            ]
          },
          "metadata": {
            "tags": [],
            "needs_background": "light"
          }
        },
        {
          "output_type": "stream",
          "text": [
            "Train on 20838 samples, validate on 5210 samples\n",
            "Epoch 1/10\n",
            "20838/20838 [==============================] - 1s 49us/step - loss: 0.3542 - accuracy: 0.8353 - val_loss: 0.2993 - val_accuracy: 0.8628\n",
            "Epoch 2/10\n",
            "20838/20838 [==============================] - 1s 46us/step - loss: 0.2958 - accuracy: 0.8634 - val_loss: 0.2838 - val_accuracy: 0.8676\n",
            "Epoch 3/10\n",
            "20838/20838 [==============================] - 1s 45us/step - loss: 0.2839 - accuracy: 0.8698 - val_loss: 0.2797 - val_accuracy: 0.8699\n",
            "Epoch 4/10\n",
            "20838/20838 [==============================] - 1s 45us/step - loss: 0.2770 - accuracy: 0.8707 - val_loss: 0.2734 - val_accuracy: 0.8729\n",
            "Epoch 5/10\n",
            "20838/20838 [==============================] - 1s 46us/step - loss: 0.2713 - accuracy: 0.8738 - val_loss: 0.2711 - val_accuracy: 0.8716\n",
            "Epoch 6/10\n",
            "20838/20838 [==============================] - 1s 44us/step - loss: 0.2668 - accuracy: 0.8755 - val_loss: 0.2712 - val_accuracy: 0.8702\n",
            "Epoch 7/10\n",
            "20838/20838 [==============================] - 1s 48us/step - loss: 0.2620 - accuracy: 0.8769 - val_loss: 0.2683 - val_accuracy: 0.8727\n",
            "Epoch 8/10\n",
            "20838/20838 [==============================] - 1s 48us/step - loss: 0.2574 - accuracy: 0.8790 - val_loss: 0.2699 - val_accuracy: 0.8712\n",
            "Epoch 9/10\n",
            "20838/20838 [==============================] - 1s 45us/step - loss: 0.2531 - accuracy: 0.8839 - val_loss: 0.2747 - val_accuracy: 0.8681\n",
            "Epoch 10/10\n",
            "20838/20838 [==============================] - 1s 45us/step - loss: 0.2491 - accuracy: 0.8824 - val_loss: 0.2740 - val_accuracy: 0.8706\n",
            "6513/6513 [==============================] - 0s 35us/step\n"
          ],
          "name": "stdout"
        },
        {
          "output_type": "display_data",
          "data": {
            "image/png": "[encoded data removed]",
            "text/plain": [
              "<Figure size 432x288 with 1 Axes>"
            ]
          },
          "metadata": {
            "tags": [],
            "needs_background": "light"
          }
        },
        {
          "output_type": "stream",
          "text": [
            "Train on 20838 samples, validate on 5210 samples\n",
            "Epoch 1/10\n",
            "20838/20838 [==============================] - 1s 53us/step - loss: 0.3436 - accuracy: 0.8411 - val_loss: 0.2974 - val_accuracy: 0.8649\n",
            "Epoch 2/10\n",
            "20838/20838 [==============================] - 1s 52us/step - loss: 0.2897 - accuracy: 0.8673 - val_loss: 0.2759 - val_accuracy: 0.8745\n",
            "Epoch 3/10\n",
            "20838/20838 [==============================] - 1s 48us/step - loss: 0.2761 - accuracy: 0.8743 - val_loss: 0.2752 - val_accuracy: 0.8689\n",
            "Epoch 4/10\n",
            "20838/20838 [==============================] - 1s 48us/step - loss: 0.2665 - accuracy: 0.8772 - val_loss: 0.2772 - val_accuracy: 0.8674\n",
            "Epoch 5/10\n",
            "20838/20838 [==============================] - 1s 48us/step - loss: 0.2596 - accuracy: 0.8789 - val_loss: 0.2757 - val_accuracy: 0.8712\n",
            "Epoch 6/10\n",
            "20838/20838 [==============================] - 1s 47us/step - loss: 0.2502 - accuracy: 0.8831 - val_loss: 0.2961 - val_accuracy: 0.8689\n",
            "Epoch 7/10\n",
            "20838/20838 [==============================] - 1s 50us/step - loss: 0.2429 - accuracy: 0.8877 - val_loss: 0.2803 - val_accuracy: 0.8733\n",
            "Epoch 8/10\n",
            "20838/20838 [==============================] - 1s 47us/step - loss: 0.2343 - accuracy: 0.8931 - val_loss: 0.2897 - val_accuracy: 0.8653\n",
            "Epoch 9/10\n",
            "20838/20838 [==============================] - 1s 46us/step - loss: 0.2273 - accuracy: 0.8950 - val_loss: 0.2876 - val_accuracy: 0.8699\n",
            "Epoch 10/10\n",
            "20838/20838 [==============================] - 1s 46us/step - loss: 0.2209 - accuracy: 0.8980 - val_loss: 0.2930 - val_accuracy: 0.8643\n",
            "6513/6513 [==============================] - 0s 33us/step\n"
          ],
          "name": "stdout"
        },
        {
          "output_type": "display_data",
          "data": {
            "image/png": "[encoded data removed]",
            "text/plain": [
              "<Figure size 432x288 with 1 Axes>"
            ]
          },
          "metadata": {
            "tags": [],
            "needs_background": "light"
          }
        },
        {
          "output_type": "stream",
          "text": [
            "Train on 20838 samples, validate on 5210 samples\n",
            "Epoch 1/10\n",
            "20838/20838 [==============================] - 1s 53us/step - loss: 0.3433 - accuracy: 0.8412 - val_loss: 0.2931 - val_accuracy: 0.8655\n",
            "Epoch 2/10\n",
            "20838/20838 [==============================] - 1s 48us/step - loss: 0.2886 - accuracy: 0.8667 - val_loss: 0.2790 - val_accuracy: 0.8672\n",
            "Epoch 3/10\n",
            "20838/20838 [==============================] - 1s 51us/step - loss: 0.2737 - accuracy: 0.8725 - val_loss: 0.2951 - val_accuracy: 0.8599\n",
            "Epoch 4/10\n",
            "20838/20838 [==============================] - 1s 50us/step - loss: 0.2644 - accuracy: 0.8772 - val_loss: 0.2758 - val_accuracy: 0.8706\n",
            "Epoch 5/10\n",
            "20838/20838 [==============================] - 1s 48us/step - loss: 0.2549 - accuracy: 0.8807 - val_loss: 0.2790 - val_accuracy: 0.8699\n",
            "Epoch 6/10\n",
            "20838/20838 [==============================] - 1s 48us/step - loss: 0.2454 - accuracy: 0.8870 - val_loss: 0.2872 - val_accuracy: 0.8666\n",
            "Epoch 7/10\n",
            "20838/20838 [==============================] - 1s 49us/step - loss: 0.2384 - accuracy: 0.8884 - val_loss: 0.2952 - val_accuracy: 0.8645\n",
            "Epoch 8/10\n",
            "20838/20838 [==============================] - 1s 51us/step - loss: 0.2284 - accuracy: 0.8940 - val_loss: 0.3025 - val_accuracy: 0.8633\n",
            "Epoch 9/10\n",
            "20838/20838 [==============================] - 1s 50us/step - loss: 0.2219 - accuracy: 0.8981 - val_loss: 0.3067 - val_accuracy: 0.8568\n",
            "Epoch 10/10\n",
            "20838/20838 [==============================] - 1s 52us/step - loss: 0.2120 - accuracy: 0.9025 - val_loss: 0.3170 - val_accuracy: 0.8655\n",
            "6513/6513 [==============================] - 0s 36us/step\n"
          ],
          "name": "stdout"
        },
        {
          "output_type": "display_data",
          "data": {
            "image/png": "[encoded data removed]",
            "text/plain": [
              "<Figure size 432x288 with 1 Axes>"
            ]
          },
          "metadata": {
            "tags": [],
            "needs_background": "light"
          }
        },
        {
          "output_type": "stream",
          "text": [
            "Train on 20838 samples, validate on 5210 samples\n",
            "Epoch 1/10\n",
            "20838/20838 [==============================] - 1s 56us/step - loss: 0.3450 - accuracy: 0.8413 - val_loss: 0.2906 - val_accuracy: 0.8660\n",
            "Epoch 2/10\n",
            "20838/20838 [==============================] - 1s 54us/step - loss: 0.2898 - accuracy: 0.8659 - val_loss: 0.2762 - val_accuracy: 0.8716\n",
            "Epoch 3/10\n",
            "20838/20838 [==============================] - 1s 52us/step - loss: 0.2775 - accuracy: 0.8711 - val_loss: 0.2745 - val_accuracy: 0.8710\n",
            "Epoch 4/10\n",
            "20838/20838 [==============================] - 1s 53us/step - loss: 0.2674 - accuracy: 0.8757 - val_loss: 0.2726 - val_accuracy: 0.8724\n",
            "Epoch 5/10\n",
            "20838/20838 [==============================] - 1s 54us/step - loss: 0.2600 - accuracy: 0.8791 - val_loss: 0.2749 - val_accuracy: 0.8745\n",
            "Epoch 6/10\n",
            "20838/20838 [==============================] - 1s 58us/step - loss: 0.2525 - accuracy: 0.8807 - val_loss: 0.2782 - val_accuracy: 0.8735\n",
            "Epoch 7/10\n",
            "20838/20838 [==============================] - 1s 53us/step - loss: 0.2444 - accuracy: 0.8872 - val_loss: 0.2851 - val_accuracy: 0.8689\n",
            "Epoch 8/10\n",
            "20838/20838 [==============================] - 1s 55us/step - loss: 0.2359 - accuracy: 0.8895 - val_loss: 0.2972 - val_accuracy: 0.8616\n",
            "Epoch 9/10\n",
            "20838/20838 [==============================] - 1s 51us/step - loss: 0.2293 - accuracy: 0.8929 - val_loss: 0.2895 - val_accuracy: 0.8618\n",
            "Epoch 10/10\n",
            "20838/20838 [==============================] - 1s 54us/step - loss: 0.2201 - accuracy: 0.8992 - val_loss: 0.2982 - val_accuracy: 0.8649\n",
            "6513/6513 [==============================] - 0s 42us/step\n"
          ],
          "name": "stdout"
        },
        {
          "output_type": "display_data",
          "data": {
            "image/png": "[encoded data removed]",
            "text/plain": [
              "<Figure size 432x288 with 1 Axes>"
            ]
          },
          "metadata": {
            "tags": [],
            "needs_background": "light"
          }
        }
      ]
    },
    {
      "cell_type": "markdown",
      "metadata": {
        "id": "-O2m1mXcYkDT",
        "colab_type": "text"
      },
      "source": [
        "## Part 4: Cross-validation\n",
        "We really should have used k-fold (eg. k=5) crossvalidation here, to not only evaluate our five keras/tensorflow models. See how your preliminary results change. Now that we have validation results with uncertainy (+- standard deviation), do your prior conclusion change. "
      ]
    },
    {
      "cell_type": "code",
      "metadata": {
        "id": "TCYErOnpYkDT",
        "colab_type": "code",
        "colab": {
          "base_uri": "https://localhost:8080/",
          "height": 1000
        },
        "outputId": "5039e8e5-bb58-469e-e4ef-479a7c932d44"
      },
      "source": [
        "# Part 4 inplement cross validation here\n",
        "kf = KFold(n_splits=5,random_state= 42)\n",
        "\n",
        "for train_idx, test_idx in kf.split(X_train):\n",
        "    X_train_kf, X_test_kf = X_train[train_idx], X_train[test_idx]\n",
        "    y_train_kf, y_test_kf = y_train[train_idx], y_train[test_idx]\n",
        "\n",
        "    for i, model in enumerate(models):\n",
        "        print(f\"Evaluating model {i}\")\n",
        "        model.fit(X_train_kf, y_train_kf, batch_size=32, epochs=10)\n",
        "        model.evaluate(X_test_kf, y_test_kf, batch_size=16)"
      ],
      "execution_count": 52,
      "outputs": [
        {
          "output_type": "stream",
          "text": [
            "Evaluating model 0\n",
            "Epoch 1/10\n",
            " 3616/20838 [====>.........................] - ETA: 0s - loss: 0.3183 - accuracy: 0.6419"
          ],
          "name": "stdout"
        },
        {
          "output_type": "stream",
          "text": [
            "/usr/local/lib/python3.6/dist-packages/sklearn/model_selection/_split.py:296: FutureWarning: Setting a random_state has no effect since shuffle is False. This will raise an error in 0.24. You should leave random_state to its default (None), or set shuffle=True.\n",
            "  FutureWarning\n"
          ],
          "name": "stderr"
        },
        {
          "output_type": "stream",
          "text": [
            "20838/20838 [==============================] - 1s 45us/step - loss: 0.3132 - accuracy: 0.6769\n",
            "Epoch 2/10\n",
            "20838/20838 [==============================] - 1s 40us/step - loss: 0.3292 - accuracy: 0.6909\n",
            "Epoch 3/10\n",
            "20838/20838 [==============================] - 1s 41us/step - loss: 0.3387 - accuracy: 0.6860\n",
            "Epoch 4/10\n",
            "20838/20838 [==============================] - 1s 43us/step - loss: 0.2907 - accuracy: 0.6552\n",
            "Epoch 5/10\n",
            "20838/20838 [==============================] - 1s 45us/step - loss: 0.3061 - accuracy: 0.6533\n",
            "Epoch 6/10\n",
            "20838/20838 [==============================] - 1s 45us/step - loss: 0.2780 - accuracy: 0.6554\n",
            "Epoch 7/10\n",
            "20838/20838 [==============================] - 1s 43us/step - loss: 0.2678 - accuracy: 0.6083\n",
            "Epoch 8/10\n",
            "20838/20838 [==============================] - 1s 42us/step - loss: 0.2679 - accuracy: 0.6204\n",
            "Epoch 9/10\n",
            "20838/20838 [==============================] - 1s 44us/step - loss: 0.2646 - accuracy: 0.6313\n",
            "Epoch 10/10\n",
            "20838/20838 [==============================] - 1s 45us/step - loss: 0.2700 - accuracy: 0.6059\n",
            "5210/5210 [==============================] - 0s 34us/step\n",
            "Evaluating model 1\n",
            "Epoch 1/10\n",
            "20838/20838 [==============================] - 1s 39us/step - loss: 0.2500 - accuracy: 0.8842\n",
            "Epoch 2/10\n",
            "20838/20838 [==============================] - 1s 40us/step - loss: 0.2452 - accuracy: 0.8868\n",
            "Epoch 3/10\n",
            "20838/20838 [==============================] - 1s 39us/step - loss: 0.2412 - accuracy: 0.8884\n",
            "Epoch 4/10\n",
            "20838/20838 [==============================] - 1s 43us/step - loss: 0.2380 - accuracy: 0.8915\n",
            "Epoch 5/10\n",
            "20838/20838 [==============================] - 1s 43us/step - loss: 0.2339 - accuracy: 0.8934\n",
            "Epoch 6/10\n",
            "20838/20838 [==============================] - 1s 40us/step - loss: 0.2312 - accuracy: 0.8941\n",
            "Epoch 7/10\n",
            "20838/20838 [==============================] - 1s 41us/step - loss: 0.2285 - accuracy: 0.8971\n",
            "Epoch 8/10\n",
            "20838/20838 [==============================] - 1s 43us/step - loss: 0.2249 - accuracy: 0.8975\n",
            "Epoch 9/10\n",
            "20838/20838 [==============================] - 1s 40us/step - loss: 0.2223 - accuracy: 0.8993\n",
            "Epoch 10/10\n",
            "20838/20838 [==============================] - 1s 40us/step - loss: 0.2192 - accuracy: 0.8989\n",
            "5210/5210 [==============================] - 0s 33us/step\n",
            "Evaluating model 2\n",
            "Epoch 1/10\n",
            "20838/20838 [==============================] - 1s 43us/step - loss: 0.2323 - accuracy: 0.8949\n",
            "Epoch 2/10\n",
            "20838/20838 [==============================] - 1s 42us/step - loss: 0.2210 - accuracy: 0.9001\n",
            "Epoch 3/10\n",
            "20838/20838 [==============================] - 1s 42us/step - loss: 0.2136 - accuracy: 0.9045\n",
            "Epoch 4/10\n",
            "20838/20838 [==============================] - 1s 41us/step - loss: 0.2057 - accuracy: 0.9060\n",
            "Epoch 5/10\n",
            "20838/20838 [==============================] - 1s 42us/step - loss: 0.1993 - accuracy: 0.9106\n",
            "Epoch 6/10\n",
            "20838/20838 [==============================] - 1s 42us/step - loss: 0.1927 - accuracy: 0.9111\n",
            "Epoch 7/10\n",
            "20838/20838 [==============================] - 1s 43us/step - loss: 0.1881 - accuracy: 0.9148\n",
            "Epoch 8/10\n",
            "20838/20838 [==============================] - 1s 44us/step - loss: 0.1804 - accuracy: 0.9192\n",
            "Epoch 9/10\n",
            "20838/20838 [==============================] - 1s 42us/step - loss: 0.1754 - accuracy: 0.9191\n",
            "Epoch 10/10\n",
            "20838/20838 [==============================] - 1s 43us/step - loss: 0.1694 - accuracy: 0.9220\n",
            "5210/5210 [==============================] - 0s 33us/step\n",
            "Evaluating model 3\n",
            "Epoch 1/10\n",
            "20838/20838 [==============================] - 1s 44us/step - loss: 0.2290 - accuracy: 0.8970\n",
            "Epoch 2/10\n",
            "20838/20838 [==============================] - 1s 43us/step - loss: 0.2165 - accuracy: 0.9014\n",
            "Epoch 3/10\n",
            "20838/20838 [==============================] - 1s 43us/step - loss: 0.2078 - accuracy: 0.9060\n",
            "Epoch 4/10\n",
            "20838/20838 [==============================] - 1s 43us/step - loss: 0.1994 - accuracy: 0.9085\n",
            "Epoch 5/10\n",
            "20838/20838 [==============================] - 1s 44us/step - loss: 0.1899 - accuracy: 0.9143\n",
            "Epoch 6/10\n",
            "20838/20838 [==============================] - 1s 45us/step - loss: 0.1815 - accuracy: 0.9178\n",
            "Epoch 7/10\n",
            "20838/20838 [==============================] - 1s 44us/step - loss: 0.1745 - accuracy: 0.9220\n",
            "Epoch 8/10\n",
            "20838/20838 [==============================] - 1s 45us/step - loss: 0.1679 - accuracy: 0.9254\n",
            "Epoch 9/10\n",
            "20838/20838 [==============================] - 1s 43us/step - loss: 0.1603 - accuracy: 0.9280\n",
            "Epoch 10/10\n",
            "20838/20838 [==============================] - 1s 43us/step - loss: 0.1545 - accuracy: 0.9314\n",
            "5210/5210 [==============================] - 0s 35us/step\n",
            "Evaluating model 4\n",
            "Epoch 1/10\n",
            "20838/20838 [==============================] - 1s 45us/step - loss: 0.2314 - accuracy: 0.8946\n",
            "Epoch 2/10\n",
            "20838/20838 [==============================] - 1s 45us/step - loss: 0.2211 - accuracy: 0.8996\n",
            "Epoch 3/10\n",
            "20838/20838 [==============================] - 1s 46us/step - loss: 0.2118 - accuracy: 0.9046\n",
            "Epoch 4/10\n",
            "20838/20838 [==============================] - 1s 46us/step - loss: 0.2043 - accuracy: 0.9073\n",
            "Epoch 5/10\n",
            "20838/20838 [==============================] - 1s 45us/step - loss: 0.1981 - accuracy: 0.9095\n",
            "Epoch 6/10\n",
            "20838/20838 [==============================] - 1s 46us/step - loss: 0.1876 - accuracy: 0.9156\n",
            "Epoch 7/10\n",
            "20838/20838 [==============================] - 1s 49us/step - loss: 0.1809 - accuracy: 0.9180\n",
            "Epoch 8/10\n",
            "20838/20838 [==============================] - 1s 46us/step - loss: 0.1734 - accuracy: 0.9224\n",
            "Epoch 9/10\n",
            "20838/20838 [==============================] - 1s 47us/step - loss: 0.1662 - accuracy: 0.9233\n",
            "Epoch 10/10\n",
            "20838/20838 [==============================] - 1s 50us/step - loss: 0.1627 - accuracy: 0.9264\n",
            "5210/5210 [==============================] - 0s 37us/step\n",
            "Evaluating model 0\n",
            "Epoch 1/10\n",
            "20838/20838 [==============================] - 1s 41us/step - loss: 0.2919 - accuracy: 0.5820\n",
            "Epoch 2/10\n",
            "20838/20838 [==============================] - 1s 44us/step - loss: 0.2830 - accuracy: 0.5810\n",
            "Epoch 3/10\n",
            "20838/20838 [==============================] - 1s 43us/step - loss: 0.2766 - accuracy: 0.5735\n",
            "Epoch 4/10\n",
            "20838/20838 [==============================] - 1s 41us/step - loss: 0.2690 - accuracy: 0.5655\n",
            "Epoch 5/10\n",
            "20838/20838 [==============================] - 1s 40us/step - loss: 0.2626 - accuracy: 0.5637\n",
            "Epoch 6/10\n",
            "20838/20838 [==============================] - 1s 42us/step - loss: 0.2574 - accuracy: 0.5394\n",
            "Epoch 7/10\n",
            "20838/20838 [==============================] - 1s 45us/step - loss: 0.2488 - accuracy: 0.5322\n",
            "Epoch 8/10\n",
            "20838/20838 [==============================] - 1s 41us/step - loss: 0.2538 - accuracy: 0.5366\n",
            "Epoch 9/10\n",
            "20838/20838 [==============================] - 1s 41us/step - loss: 0.2497 - accuracy: 0.5154\n",
            "Epoch 10/10\n",
            "20838/20838 [==============================] - 1s 44us/step - loss: 0.2407 - accuracy: 0.4984\n",
            "5210/5210 [==============================] - 0s 35us/step\n",
            "Evaluating model 1\n",
            "Epoch 1/10\n",
            "20838/20838 [==============================] - 1s 44us/step - loss: 0.2336 - accuracy: 0.8932\n",
            "Epoch 2/10\n",
            "20838/20838 [==============================] - 1s 44us/step - loss: 0.2279 - accuracy: 0.8962\n",
            "Epoch 3/10\n",
            "20838/20838 [==============================] - 1s 40us/step - loss: 0.2247 - accuracy: 0.8977\n",
            "Epoch 4/10\n",
            "20838/20838 [==============================] - 1s 40us/step - loss: 0.2224 - accuracy: 0.8989\n",
            "Epoch 5/10\n",
            "20838/20838 [==============================] - 1s 40us/step - loss: 0.2190 - accuracy: 0.9008\n",
            "Epoch 6/10\n",
            "20838/20838 [==============================] - 1s 42us/step - loss: 0.2179 - accuracy: 0.9018\n",
            "Epoch 7/10\n",
            "20838/20838 [==============================] - 1s 42us/step - loss: 0.2144 - accuracy: 0.9031\n",
            "Epoch 8/10\n",
            "20838/20838 [==============================] - 1s 41us/step - loss: 0.2135 - accuracy: 0.9044\n",
            "Epoch 9/10\n",
            "20838/20838 [==============================] - 1s 41us/step - loss: 0.2102 - accuracy: 0.9061\n",
            "Epoch 10/10\n",
            "20838/20838 [==============================] - 1s 41us/step - loss: 0.2090 - accuracy: 0.9059\n",
            "5210/5210 [==============================] - 0s 33us/step\n",
            "Evaluating model 2\n",
            "Epoch 1/10\n",
            "20838/20838 [==============================] - 1s 48us/step - loss: 0.2023 - accuracy: 0.9097\n",
            "Epoch 2/10\n",
            "20838/20838 [==============================] - 1s 46us/step - loss: 0.1867 - accuracy: 0.9148\n",
            "Epoch 3/10\n",
            "20838/20838 [==============================] - 1s 45us/step - loss: 0.1793 - accuracy: 0.9191\n",
            "Epoch 4/10\n",
            "20838/20838 [==============================] - 1s 46us/step - loss: 0.1734 - accuracy: 0.9219\n",
            "Epoch 5/10\n",
            "20838/20838 [==============================] - 1s 44us/step - loss: 0.1676 - accuracy: 0.9236\n",
            "Epoch 6/10\n",
            "20838/20838 [==============================] - 1s 44us/step - loss: 0.1618 - accuracy: 0.9271\n",
            "Epoch 7/10\n",
            "20838/20838 [==============================] - 1s 43us/step - loss: 0.1567 - accuracy: 0.9282\n",
            "Epoch 8/10\n",
            "20838/20838 [==============================] - 1s 42us/step - loss: 0.1509 - accuracy: 0.9330\n",
            "Epoch 9/10\n",
            "20838/20838 [==============================] - 1s 43us/step - loss: 0.1480 - accuracy: 0.9324\n",
            "Epoch 10/10\n",
            "20838/20838 [==============================] - 1s 42us/step - loss: 0.1432 - accuracy: 0.9375\n",
            "5210/5210 [==============================] - 0s 32us/step\n",
            "Evaluating model 3\n",
            "Epoch 1/10\n",
            "20838/20838 [==============================] - 1s 44us/step - loss: 0.1942 - accuracy: 0.9156\n",
            "Epoch 2/10\n",
            "20838/20838 [==============================] - 1s 49us/step - loss: 0.1758 - accuracy: 0.9223\n",
            "Epoch 3/10\n",
            "20838/20838 [==============================] - 1s 44us/step - loss: 0.1639 - accuracy: 0.9267\n",
            "Epoch 4/10\n",
            "20838/20838 [==============================] - 1s 44us/step - loss: 0.1570 - accuracy: 0.9298\n",
            "Epoch 5/10\n",
            "20838/20838 [==============================] - 1s 48us/step - loss: 0.1508 - accuracy: 0.9329\n",
            "Epoch 6/10\n",
            "20838/20838 [==============================] - 1s 49us/step - loss: 0.1450 - accuracy: 0.9358\n",
            "Epoch 7/10\n",
            "20838/20838 [==============================] - 1s 47us/step - loss: 0.1394 - accuracy: 0.9373\n",
            "Epoch 8/10\n",
            "20838/20838 [==============================] - 1s 47us/step - loss: 0.1352 - accuracy: 0.9407\n",
            "Epoch 9/10\n",
            "20838/20838 [==============================] - 1s 47us/step - loss: 0.1291 - accuracy: 0.9430\n",
            "Epoch 10/10\n",
            "20838/20838 [==============================] - 1s 43us/step - loss: 0.1241 - accuracy: 0.9454\n",
            "5210/5210 [==============================] - 0s 37us/step\n",
            "Evaluating model 4\n",
            "Epoch 1/10\n",
            "20838/20838 [==============================] - 1s 48us/step - loss: 0.1991 - accuracy: 0.9122\n",
            "Epoch 2/10\n",
            "20838/20838 [==============================] - 1s 53us/step - loss: 0.1817 - accuracy: 0.9200\n",
            "Epoch 3/10\n",
            "20838/20838 [==============================] - 1s 51us/step - loss: 0.1740 - accuracy: 0.9233\n",
            "Epoch 4/10\n",
            "20838/20838 [==============================] - 1s 48us/step - loss: 0.1669 - accuracy: 0.9246\n",
            "Epoch 5/10\n",
            "20838/20838 [==============================] - 1s 49us/step - loss: 0.1583 - accuracy: 0.9294\n",
            "Epoch 6/10\n",
            "20838/20838 [==============================] - 1s 48us/step - loss: 0.1529 - accuracy: 0.9302\n",
            "Epoch 7/10\n",
            "20838/20838 [==============================] - 1s 51us/step - loss: 0.1465 - accuracy: 0.9343\n",
            "Epoch 8/10\n",
            "20838/20838 [==============================] - 1s 53us/step - loss: 0.1422 - accuracy: 0.9366\n",
            "Epoch 9/10\n",
            "20838/20838 [==============================] - 1s 50us/step - loss: 0.1354 - accuracy: 0.9368\n",
            "Epoch 10/10\n",
            "20838/20838 [==============================] - 1s 48us/step - loss: 0.1305 - accuracy: 0.9416\n",
            "5210/5210 [==============================] - 0s 41us/step\n",
            "Evaluating model 0\n",
            "Epoch 1/10\n",
            "20838/20838 [==============================] - 1s 45us/step - loss: 0.2767 - accuracy: 0.5018\n",
            "Epoch 2/10\n",
            "20838/20838 [==============================] - 1s 42us/step - loss: 0.2632 - accuracy: 0.5195\n",
            "Epoch 3/10\n",
            "20838/20838 [==============================] - 1s 41us/step - loss: 0.2514 - accuracy: 0.4827\n",
            "Epoch 4/10\n",
            "20838/20838 [==============================] - 1s 41us/step - loss: 0.2579 - accuracy: 0.4803\n",
            "Epoch 5/10\n",
            "20838/20838 [==============================] - 1s 41us/step - loss: 0.2487 - accuracy: 0.4930\n",
            "Epoch 6/10\n",
            "20838/20838 [==============================] - 1s 45us/step - loss: 0.2384 - accuracy: 0.4635\n",
            "Epoch 7/10\n",
            "20838/20838 [==============================] - 1s 45us/step - loss: 0.2334 - accuracy: 0.4612\n",
            "Epoch 8/10\n",
            "20838/20838 [==============================] - 1s 41us/step - loss: 0.2282 - accuracy: 0.4491\n",
            "Epoch 9/10\n",
            "20838/20838 [==============================] - 1s 44us/step - loss: 0.2327 - accuracy: 0.4385\n",
            "Epoch 10/10\n",
            "20838/20838 [==============================] - 1s 42us/step - loss: 0.2551 - accuracy: 0.4521\n",
            "5210/5210 [==============================] - 0s 34us/step\n",
            "Evaluating model 1\n",
            "Epoch 1/10\n",
            "20838/20838 [==============================] - 1s 42us/step - loss: 0.2202 - accuracy: 0.8986\n",
            "Epoch 2/10\n",
            "20838/20838 [==============================] - 1s 41us/step - loss: 0.2152 - accuracy: 0.9026\n",
            "Epoch 3/10\n",
            "20838/20838 [==============================] - 1s 42us/step - loss: 0.2128 - accuracy: 0.9037\n",
            "Epoch 4/10\n",
            "20838/20838 [==============================] - 1s 41us/step - loss: 0.2093 - accuracy: 0.9037\n",
            "Epoch 5/10\n",
            "20838/20838 [==============================] - 1s 40us/step - loss: 0.2072 - accuracy: 0.9063\n",
            "Epoch 6/10\n",
            "20838/20838 [==============================] - 1s 41us/step - loss: 0.2039 - accuracy: 0.9052\n",
            "Epoch 7/10\n",
            "20838/20838 [==============================] - 1s 42us/step - loss: 0.2019 - accuracy: 0.9074\n",
            "Epoch 8/10\n",
            "20838/20838 [==============================] - 1s 40us/step - loss: 0.2000 - accuracy: 0.9101\n",
            "Epoch 9/10\n",
            "20838/20838 [==============================] - 1s 40us/step - loss: 0.1977 - accuracy: 0.9110\n",
            "Epoch 10/10\n",
            "20838/20838 [==============================] - 1s 40us/step - loss: 0.1959 - accuracy: 0.9119\n",
            "5210/5210 [==============================] - 0s 32us/step\n",
            "Evaluating model 2\n",
            "Epoch 1/10\n",
            "20838/20838 [==============================] - 1s 42us/step - loss: 0.1741 - accuracy: 0.9214\n",
            "Epoch 2/10\n",
            "20838/20838 [==============================] - 1s 42us/step - loss: 0.1585 - accuracy: 0.9278\n",
            "Epoch 3/10\n",
            "20838/20838 [==============================] - 1s 41us/step - loss: 0.1503 - accuracy: 0.9312\n",
            "Epoch 4/10\n",
            "20838/20838 [==============================] - 1s 43us/step - loss: 0.1451 - accuracy: 0.9345\n",
            "Epoch 5/10\n",
            "20838/20838 [==============================] - 1s 43us/step - loss: 0.1397 - accuracy: 0.9356\n",
            "Epoch 6/10\n",
            "20838/20838 [==============================] - 1s 44us/step - loss: 0.1359 - accuracy: 0.9380\n",
            "Epoch 7/10\n",
            "20838/20838 [==============================] - 1s 43us/step - loss: 0.1335 - accuracy: 0.9394\n",
            "Epoch 8/10\n",
            "20838/20838 [==============================] - 1s 43us/step - loss: 0.1288 - accuracy: 0.9429\n",
            "Epoch 9/10\n",
            "20838/20838 [==============================] - 1s 44us/step - loss: 0.1260 - accuracy: 0.9421\n",
            "Epoch 10/10\n",
            "20838/20838 [==============================] - 1s 47us/step - loss: 0.1223 - accuracy: 0.9438\n",
            "5210/5210 [==============================] - 0s 35us/step\n",
            "Evaluating model 3\n",
            "Epoch 1/10\n",
            "20838/20838 [==============================] - 1s 47us/step - loss: 0.1620 - accuracy: 0.9300\n",
            "Epoch 2/10\n",
            "20838/20838 [==============================] - 1s 44us/step - loss: 0.1397 - accuracy: 0.9388\n",
            "Epoch 3/10\n",
            "20838/20838 [==============================] - 1s 44us/step - loss: 0.1305 - accuracy: 0.9428\n",
            "Epoch 4/10\n",
            "20838/20838 [==============================] - 1s 44us/step - loss: 0.1252 - accuracy: 0.9455\n",
            "Epoch 5/10\n",
            "20838/20838 [==============================] - 1s 47us/step - loss: 0.1237 - accuracy: 0.9453\n",
            "Epoch 6/10\n",
            "20838/20838 [==============================] - 1s 44us/step - loss: 0.1193 - accuracy: 0.9473\n",
            "Epoch 7/10\n",
            "20838/20838 [==============================] - 1s 44us/step - loss: 0.1136 - accuracy: 0.9500\n",
            "Epoch 8/10\n",
            "20838/20838 [==============================] - 1s 43us/step - loss: 0.1084 - accuracy: 0.9518\n",
            "Epoch 9/10\n",
            "20838/20838 [==============================] - 1s 44us/step - loss: 0.1059 - accuracy: 0.9535\n",
            "Epoch 10/10\n",
            "20838/20838 [==============================] - 1s 45us/step - loss: 0.1058 - accuracy: 0.9529\n",
            "5210/5210 [==============================] - 0s 35us/step\n",
            "Evaluating model 4\n",
            "Epoch 1/10\n",
            "20838/20838 [==============================] - 1s 46us/step - loss: 0.1672 - accuracy: 0.9278\n",
            "Epoch 2/10\n",
            "20838/20838 [==============================] - 1s 45us/step - loss: 0.1459 - accuracy: 0.9333\n",
            "Epoch 3/10\n",
            "20838/20838 [==============================] - 1s 45us/step - loss: 0.1360 - accuracy: 0.9385\n",
            "Epoch 4/10\n",
            "20838/20838 [==============================] - 1s 44us/step - loss: 0.1325 - accuracy: 0.9408\n",
            "Epoch 5/10\n",
            "20838/20838 [==============================] - 1s 47us/step - loss: 0.1252 - accuracy: 0.9421\n",
            "Epoch 6/10\n",
            "20838/20838 [==============================] - 1s 45us/step - loss: 0.1223 - accuracy: 0.9437\n",
            "Epoch 7/10\n",
            "20838/20838 [==============================] - 1s 47us/step - loss: 0.1184 - accuracy: 0.9448\n",
            "Epoch 8/10\n",
            "20838/20838 [==============================] - 1s 47us/step - loss: 0.1126 - accuracy: 0.9485\n",
            "Epoch 9/10\n",
            "20838/20838 [==============================] - 1s 46us/step - loss: 0.1085 - accuracy: 0.9501\n",
            "Epoch 10/10\n",
            "20838/20838 [==============================] - 1s 46us/step - loss: 0.1098 - accuracy: 0.9508\n",
            "5210/5210 [==============================] - 0s 39us/step\n",
            "Evaluating model 0\n",
            "Epoch 1/10\n",
            "20839/20839 [==============================] - 1s 41us/step - loss: 0.2800 - accuracy: 0.4689\n",
            "Epoch 2/10\n",
            "20839/20839 [==============================] - 1s 41us/step - loss: 0.2663 - accuracy: 0.4551\n",
            "Epoch 3/10\n",
            "20839/20839 [==============================] - 1s 41us/step - loss: 0.2539 - accuracy: 0.4491\n",
            "Epoch 4/10\n",
            "20839/20839 [==============================] - 1s 44us/step - loss: 0.2408 - accuracy: 0.4341\n",
            "Epoch 5/10\n",
            "20839/20839 [==============================] - 1s 44us/step - loss: 0.2378 - accuracy: 0.4280\n",
            "Epoch 6/10\n",
            "20839/20839 [==============================] - 1s 41us/step - loss: 0.2351 - accuracy: 0.4181\n",
            "Epoch 7/10\n",
            "20839/20839 [==============================] - 1s 41us/step - loss: 0.2309 - accuracy: 0.4109\n",
            "Epoch 8/10\n",
            "20839/20839 [==============================] - 1s 40us/step - loss: 0.2340 - accuracy: 0.4042\n",
            "Epoch 9/10\n",
            "20839/20839 [==============================] - 1s 44us/step - loss: 0.2293 - accuracy: 0.4053\n",
            "Epoch 10/10\n",
            "20839/20839 [==============================] - 1s 42us/step - loss: 0.2204 - accuracy: 0.3953\n",
            "5209/5209 [==============================] - 0s 33us/step\n",
            "Evaluating model 1\n",
            "Epoch 1/10\n",
            "20839/20839 [==============================] - 1s 40us/step - loss: 0.2067 - accuracy: 0.9056\n",
            "Epoch 2/10\n",
            "20839/20839 [==============================] - 1s 40us/step - loss: 0.2010 - accuracy: 0.9088\n",
            "Epoch 3/10\n",
            "20839/20839 [==============================] - 1s 40us/step - loss: 0.1982 - accuracy: 0.9105\n",
            "Epoch 4/10\n",
            "20839/20839 [==============================] - 1s 40us/step - loss: 0.1955 - accuracy: 0.9125\n",
            "Epoch 5/10\n",
            "20839/20839 [==============================] - 1s 41us/step - loss: 0.1931 - accuracy: 0.9130\n",
            "Epoch 6/10\n",
            "20839/20839 [==============================] - 1s 41us/step - loss: 0.1916 - accuracy: 0.9136\n",
            "Epoch 7/10\n",
            "20839/20839 [==============================] - 1s 41us/step - loss: 0.1885 - accuracy: 0.9183\n",
            "Epoch 8/10\n",
            "20839/20839 [==============================] - 1s 39us/step - loss: 0.1878 - accuracy: 0.9157\n",
            "Epoch 9/10\n",
            "20839/20839 [==============================] - 1s 40us/step - loss: 0.1853 - accuracy: 0.9171\n",
            "Epoch 10/10\n",
            "20839/20839 [==============================] - 1s 40us/step - loss: 0.1838 - accuracy: 0.9190\n",
            "5209/5209 [==============================] - 0s 36us/step\n",
            "Evaluating model 2\n",
            "Epoch 1/10\n",
            "20839/20839 [==============================] - 1s 44us/step - loss: 0.1498 - accuracy: 0.9342\n",
            "Epoch 2/10\n",
            "20839/20839 [==============================] - 1s 43us/step - loss: 0.1343 - accuracy: 0.9381\n",
            "Epoch 3/10\n",
            "20839/20839 [==============================] - 1s 41us/step - loss: 0.1276 - accuracy: 0.9415\n",
            "Epoch 4/10\n",
            "20839/20839 [==============================] - 1s 45us/step - loss: 0.1243 - accuracy: 0.9423\n",
            "Epoch 5/10\n",
            "20839/20839 [==============================] - 1s 41us/step - loss: 0.1198 - accuracy: 0.9450\n",
            "Epoch 6/10\n",
            "20839/20839 [==============================] - 1s 41us/step - loss: 0.1176 - accuracy: 0.9481\n",
            "Epoch 7/10\n",
            "20839/20839 [==============================] - 1s 46us/step - loss: 0.1145 - accuracy: 0.9475\n",
            "Epoch 8/10\n",
            "20839/20839 [==============================] - 1s 43us/step - loss: 0.1100 - accuracy: 0.9508\n",
            "Epoch 9/10\n",
            "20839/20839 [==============================] - 1s 43us/step - loss: 0.1088 - accuracy: 0.9510\n",
            "Epoch 10/10\n",
            "20839/20839 [==============================] - 1s 46us/step - loss: 0.1051 - accuracy: 0.9519\n",
            "5209/5209 [==============================] - 0s 35us/step\n",
            "Evaluating model 3\n",
            "Epoch 1/10\n",
            "20839/20839 [==============================] - 1s 47us/step - loss: 0.1429 - accuracy: 0.9379\n",
            "Epoch 2/10\n",
            "20839/20839 [==============================] - 1s 46us/step - loss: 0.1178 - accuracy: 0.9475\n",
            "Epoch 3/10\n",
            "20839/20839 [==============================] - 1s 47us/step - loss: 0.1066 - accuracy: 0.9522\n",
            "Epoch 4/10\n",
            "20839/20839 [==============================] - 1s 43us/step - loss: 0.1055 - accuracy: 0.9532\n",
            "Epoch 5/10\n",
            "20839/20839 [==============================] - 1s 45us/step - loss: 0.1020 - accuracy: 0.9555\n",
            "Epoch 6/10\n",
            "20839/20839 [==============================] - 1s 46us/step - loss: 0.0999 - accuracy: 0.9548\n",
            "Epoch 7/10\n",
            "20839/20839 [==============================] - 1s 43us/step - loss: 0.0949 - accuracy: 0.9573\n",
            "Epoch 8/10\n",
            "20839/20839 [==============================] - 1s 43us/step - loss: 0.0963 - accuracy: 0.9578\n",
            "Epoch 9/10\n",
            "20839/20839 [==============================] - 1s 45us/step - loss: 0.0952 - accuracy: 0.9569\n",
            "Epoch 10/10\n",
            "20839/20839 [==============================] - 1s 43us/step - loss: 0.0934 - accuracy: 0.9571\n",
            "5209/5209 [==============================] - 0s 34us/step\n",
            "Evaluating model 4\n",
            "Epoch 1/10\n",
            "20839/20839 [==============================] - 1s 45us/step - loss: 0.1466 - accuracy: 0.9361\n",
            "Epoch 2/10\n",
            "20839/20839 [==============================] - 1s 46us/step - loss: 0.1252 - accuracy: 0.9431\n",
            "Epoch 3/10\n",
            "20839/20839 [==============================] - 1s 50us/step - loss: 0.1185 - accuracy: 0.9462\n",
            "Epoch 4/10\n",
            "20839/20839 [==============================] - 1s 51us/step - loss: 0.1118 - accuracy: 0.9473\n",
            "Epoch 5/10\n",
            "20839/20839 [==============================] - 1s 50us/step - loss: 0.1096 - accuracy: 0.9500\n",
            "Epoch 6/10\n",
            "20839/20839 [==============================] - 1s 47us/step - loss: 0.1080 - accuracy: 0.9506\n",
            "Epoch 7/10\n",
            "20839/20839 [==============================] - 1s 46us/step - loss: 0.1018 - accuracy: 0.9532\n",
            "Epoch 8/10\n",
            "20839/20839 [==============================] - 1s 46us/step - loss: 0.1014 - accuracy: 0.9522\n",
            "Epoch 9/10\n",
            "20839/20839 [==============================] - 1s 46us/step - loss: 0.0971 - accuracy: 0.9544\n",
            "Epoch 10/10\n",
            "20839/20839 [==============================] - 1s 50us/step - loss: 0.0941 - accuracy: 0.9555\n",
            "5209/5209 [==============================] - 0s 42us/step\n",
            "Evaluating model 0\n",
            "Epoch 1/10\n",
            "20839/20839 [==============================] - 1s 42us/step - loss: 0.2574 - accuracy: 0.3999\n",
            "Epoch 2/10\n",
            "20839/20839 [==============================] - 1s 41us/step - loss: 0.2416 - accuracy: 0.3893\n",
            "Epoch 3/10\n",
            "20839/20839 [==============================] - 1s 41us/step - loss: 0.2405 - accuracy: 0.3936\n",
            "Epoch 4/10\n",
            "20839/20839 [==============================] - 1s 43us/step - loss: 0.2297 - accuracy: 0.3876\n",
            "Epoch 5/10\n",
            "20839/20839 [==============================] - 1s 44us/step - loss: 0.2249 - accuracy: 0.3824\n",
            "Epoch 6/10\n",
            "20839/20839 [==============================] - 1s 46us/step - loss: 0.2187 - accuracy: 0.3798\n",
            "Epoch 7/10\n",
            "20839/20839 [==============================] - 1s 46us/step - loss: 0.2147 - accuracy: 0.3743\n",
            "Epoch 8/10\n",
            "20839/20839 [==============================] - 1s 44us/step - loss: 0.2151 - accuracy: 0.3708\n",
            "Epoch 9/10\n",
            "20839/20839 [==============================] - 1s 41us/step - loss: 0.2135 - accuracy: 0.3724\n",
            "Epoch 10/10\n",
            "20839/20839 [==============================] - 1s 43us/step - loss: 0.2078 - accuracy: 0.3620\n",
            "5209/5209 [==============================] - 0s 38us/step\n",
            "Evaluating model 1\n",
            "Epoch 1/10\n",
            "20839/20839 [==============================] - 1s 41us/step - loss: 0.1915 - accuracy: 0.9141\n",
            "Epoch 2/10\n",
            "20839/20839 [==============================] - 1s 39us/step - loss: 0.1863 - accuracy: 0.9186\n",
            "Epoch 3/10\n",
            "20839/20839 [==============================] - 1s 42us/step - loss: 0.1828 - accuracy: 0.9193\n",
            "Epoch 4/10\n",
            "20839/20839 [==============================] - 1s 43us/step - loss: 0.1798 - accuracy: 0.9214\n",
            "Epoch 5/10\n",
            "20839/20839 [==============================] - 1s 39us/step - loss: 0.1788 - accuracy: 0.9201\n",
            "Epoch 6/10\n",
            "20839/20839 [==============================] - 1s 42us/step - loss: 0.1766 - accuracy: 0.9232\n",
            "Epoch 7/10\n",
            "20839/20839 [==============================] - 1s 41us/step - loss: 0.1752 - accuracy: 0.9227\n",
            "Epoch 8/10\n",
            "20839/20839 [==============================] - 1s 40us/step - loss: 0.1738 - accuracy: 0.9232\n",
            "Epoch 9/10\n",
            "20839/20839 [==============================] - 1s 40us/step - loss: 0.1716 - accuracy: 0.9262\n",
            "Epoch 10/10\n",
            "20839/20839 [==============================] - 1s 40us/step - loss: 0.1693 - accuracy: 0.9261\n",
            "5209/5209 [==============================] - 0s 32us/step\n",
            "Evaluating model 2\n",
            "Epoch 1/10\n",
            "20839/20839 [==============================] - 1s 48us/step - loss: 0.1309 - accuracy: 0.9413\n",
            "Epoch 2/10\n",
            "20839/20839 [==============================] - 1s 46us/step - loss: 0.1132 - accuracy: 0.9497\n",
            "Epoch 3/10\n",
            "20839/20839 [==============================] - 1s 47us/step - loss: 0.1074 - accuracy: 0.9514\n",
            "Epoch 4/10\n",
            "20839/20839 [==============================] - 1s 45us/step - loss: 0.1024 - accuracy: 0.9543\n",
            "Epoch 5/10\n",
            "20839/20839 [==============================] - 1s 43us/step - loss: 0.1011 - accuracy: 0.9555\n",
            "Epoch 6/10\n",
            "20839/20839 [==============================] - 1s 43us/step - loss: 0.1006 - accuracy: 0.9549\n",
            "Epoch 7/10\n",
            "20839/20839 [==============================] - 1s 42us/step - loss: 0.0970 - accuracy: 0.9565\n",
            "Epoch 8/10\n",
            "20839/20839 [==============================] - 1s 41us/step - loss: 0.0955 - accuracy: 0.9579\n",
            "Epoch 9/10\n",
            "20839/20839 [==============================] - 1s 46us/step - loss: 0.0919 - accuracy: 0.9605\n",
            "Epoch 10/10\n",
            "20839/20839 [==============================] - 1s 46us/step - loss: 0.0902 - accuracy: 0.9599\n",
            "5209/5209 [==============================] - 0s 36us/step\n",
            "Evaluating model 3\n",
            "Epoch 1/10\n",
            "20839/20839 [==============================] - 1s 45us/step - loss: 0.1203 - accuracy: 0.9479\n",
            "Epoch 2/10\n",
            "20839/20839 [==============================] - 1s 48us/step - loss: 0.0969 - accuracy: 0.9563\n",
            "Epoch 3/10\n",
            "20839/20839 [==============================] - 1s 47us/step - loss: 0.0961 - accuracy: 0.9568\n",
            "Epoch 4/10\n",
            "20839/20839 [==============================] - 1s 48us/step - loss: 0.0863 - accuracy: 0.9608\n",
            "Epoch 5/10\n",
            "20839/20839 [==============================] - 1s 50us/step - loss: 0.0878 - accuracy: 0.9614\n",
            "Epoch 6/10\n",
            "20839/20839 [==============================] - 1s 42us/step - loss: 0.0839 - accuracy: 0.9621\n",
            "Epoch 7/10\n",
            "20839/20839 [==============================] - 1s 44us/step - loss: 0.0851 - accuracy: 0.9629\n",
            "Epoch 8/10\n",
            "20839/20839 [==============================] - 1s 43us/step - loss: 0.0791 - accuracy: 0.9637\n",
            "Epoch 9/10\n",
            "20839/20839 [==============================] - 1s 44us/step - loss: 0.0791 - accuracy: 0.9644\n",
            "Epoch 10/10\n",
            "20839/20839 [==============================] - 1s 46us/step - loss: 0.0813 - accuracy: 0.9639\n",
            "5209/5209 [==============================] - 0s 41us/step\n",
            "Evaluating model 4\n",
            "Epoch 1/10\n",
            "20839/20839 [==============================] - 1s 49us/step - loss: 0.1274 - accuracy: 0.9435\n",
            "Epoch 2/10\n",
            "20839/20839 [==============================] - 1s 50us/step - loss: 0.1039 - accuracy: 0.9522\n",
            "Epoch 3/10\n",
            "20839/20839 [==============================] - 1s 45us/step - loss: 0.0953 - accuracy: 0.9571\n",
            "Epoch 4/10\n",
            "20839/20839 [==============================] - 1s 45us/step - loss: 0.0933 - accuracy: 0.9578\n",
            "Epoch 5/10\n",
            "20839/20839 [==============================] - 1s 46us/step - loss: 0.0917 - accuracy: 0.9573\n",
            "Epoch 6/10\n",
            "20839/20839 [==============================] - 1s 47us/step - loss: 0.0933 - accuracy: 0.9567\n",
            "Epoch 7/10\n",
            "20839/20839 [==============================] - 1s 46us/step - loss: 0.0877 - accuracy: 0.9601\n",
            "Epoch 8/10\n",
            "20839/20839 [==============================] - 1s 46us/step - loss: 0.0847 - accuracy: 0.9599\n",
            "Epoch 9/10\n",
            "20839/20839 [==============================] - 1s 46us/step - loss: 0.0824 - accuracy: 0.9622\n",
            "Epoch 10/10\n",
            "20839/20839 [==============================] - 1s 46us/step - loss: 0.0823 - accuracy: 0.9617\n",
            "5209/5209 [==============================] - 0s 35us/step\n"
          ],
          "name": "stdout"
        }
      ]
    },
    {
      "cell_type": "markdown",
      "metadata": {
        "id": "I8i30tdTYkDZ",
        "colab_type": "text"
      },
      "source": [
        "## Part 5: Refining with Regularization\n",
        "\n",
        "We know that our biggest problem, if our models are flexibile enough, will be overfitting. Please try to regularize your best 2 models to see if you can improve their results. Look at these questions:\n",
        "\n",
        "* Try regularizing each of your two best models, does the generalizability increase?  of Decrease?  \n",
        "* Is one more sensitive than the other? Why might this happen and why?  \n",
        "* Please try this with all of your features and then with the reduced set of features.  \n",
        "* Report your precision, recall and f1 score on the train and validation sets (no cross validatio yet).  \n",
        "* Next carry out cross validation.  Does regularization reduce under or overfitting?   Why or why not?  \n",
        "\n",
        "** Hint: Try both L1 or L2 norm for regularization or dropout **\n"
      ]
    },
    {
      "cell_type": "code",
      "metadata": {
        "id": "ZgnRY9cPYkDa",
        "colab_type": "code",
        "colab": {
          "base_uri": "https://localhost:8080/",
          "height": 706
        },
        "outputId": "064b3467-ff85-4e0b-8cdb-055965ee58da"
      },
      "source": [
        "# Selecting model 2 to regularize by adding dropout layer\n",
        "model = Sequential()\n",
        "model.add(Dense(64, activation = 'relu'))\n",
        "model.add(Dropout(0.2))\n",
        "model.add(Dense(1,activation='sigmoid'))\n",
        "model.compile(loss = 'binary_crossentropy', optimizer ='adam', metrics = ['accuracy'])\n",
        "\n",
        "history = model.fit(X_train, y_train, batch_size=32, validation_split = 0.2 ,epochs=10)\n",
        "\n",
        "plt.plot(history.history['accuracy'])\n",
        "plt.plot(history.history['val_accuracy'])\n",
        "plt.title('model accuracy')\n",
        "plt.ylabel('accuracy')\n",
        "plt.xlabel('epoch')\n",
        "plt.legend(['train', 'test'], loc='upper left')\n",
        "plt.show()\n",
        "\n",
        "model.evaluate(X_test, y_test, batch_size=16)"
      ],
      "execution_count": 53,
      "outputs": [
        {
          "output_type": "stream",
          "text": [
            "Train on 20838 samples, validate on 5210 samples\n",
            "Epoch 1/10\n",
            "20838/20838 [==============================] - 1s 53us/step - loss: 0.3598 - accuracy: 0.8349 - val_loss: 0.3029 - val_accuracy: 0.8603\n",
            "Epoch 2/10\n",
            "20838/20838 [==============================] - 1s 49us/step - loss: 0.3036 - accuracy: 0.8617 - val_loss: 0.2854 - val_accuracy: 0.8676\n",
            "Epoch 3/10\n",
            "20838/20838 [==============================] - 1s 49us/step - loss: 0.2902 - accuracy: 0.8685 - val_loss: 0.2782 - val_accuracy: 0.8706\n",
            "Epoch 4/10\n",
            "20838/20838 [==============================] - 1s 48us/step - loss: 0.2821 - accuracy: 0.8705 - val_loss: 0.2725 - val_accuracy: 0.8743\n",
            "Epoch 5/10\n",
            "20838/20838 [==============================] - 1s 49us/step - loss: 0.2755 - accuracy: 0.8719 - val_loss: 0.2738 - val_accuracy: 0.8731\n",
            "Epoch 6/10\n",
            "20838/20838 [==============================] - 1s 51us/step - loss: 0.2715 - accuracy: 0.8754 - val_loss: 0.2725 - val_accuracy: 0.8708\n",
            "Epoch 7/10\n",
            "20838/20838 [==============================] - 1s 53us/step - loss: 0.2663 - accuracy: 0.8757 - val_loss: 0.2704 - val_accuracy: 0.8701\n",
            "Epoch 8/10\n",
            "20838/20838 [==============================] - 1s 49us/step - loss: 0.2632 - accuracy: 0.8795 - val_loss: 0.2695 - val_accuracy: 0.8699\n",
            "Epoch 9/10\n",
            "20838/20838 [==============================] - 1s 49us/step - loss: 0.2598 - accuracy: 0.8827 - val_loss: 0.2698 - val_accuracy: 0.8718\n",
            "Epoch 10/10\n",
            "20838/20838 [==============================] - 1s 52us/step - loss: 0.2567 - accuracy: 0.8820 - val_loss: 0.2685 - val_accuracy: 0.8729\n"
          ],
          "name": "stdout"
        },
        {
          "output_type": "display_data",
          "data": {
            "image/png": "[encoded data removed]",
            "text/plain": [
              "<Figure size 432x288 with 1 Axes>"
            ]
          },
          "metadata": {
            "tags": [],
            "needs_background": "light"
          }
        },
        {
          "output_type": "stream",
          "text": [
            "6513/6513 [==============================] - 0s 36us/step\n"
          ],
          "name": "stdout"
        },
        {
          "output_type": "execute_result",
          "data": {
            "text/plain": [
              "[0.2789040777379578, 0.8739444017410278]"
            ]
          },
          "metadata": {
            "tags": []
          },
          "execution_count": 53
        }
      ]
    },
    {
      "cell_type": "code",
      "metadata": {
        "id": "0yjNC-XYuzHh",
        "colab_type": "code",
        "colab": {
          "base_uri": "https://localhost:8080/",
          "height": 706
        },
        "outputId": "95124117-48f6-48d4-8992-30d8ef6ad26b"
      },
      "source": [
        "# Selecting model 3 to regularize by using Elastic Net\n",
        "from tensorflow import keras \n",
        "\n",
        "model = Sequential()\n",
        "model.add(Dense(64, activation = 'relu', kernel_regularizer=keras.regularizers.l1_l2(l1 = 0.1, l2 = 0.01)))\n",
        "model.add(Dense(32, activation = 'relu',kernel_regularizer=keras.regularizers.l1_l2(l1 = 0.1, l2 = 0.01)))\n",
        "model.add(Dropout(0.2))\n",
        "model.add(Dense(1,activation='sigmoid'))\n",
        "model.compile(loss = 'binary_crossentropy', optimizer ='adam', metrics = ['accuracy'])\n",
        "\n",
        "history = model.fit(X_train, y_train, batch_size=32, validation_split = 0.2 ,epochs=10)\n",
        "\n",
        "plt.plot(history.history['accuracy'])\n",
        "plt.plot(history.history['val_accuracy'])\n",
        "plt.title('model accuracy')\n",
        "plt.ylabel('accuracy')\n",
        "plt.xlabel('epoch')\n",
        "plt.legend(['train', 'test'], loc='upper left')\n",
        "plt.show()\n",
        "\n",
        "model.evaluate(X_test, y_test, batch_size=16)"
      ],
      "execution_count": 56,
      "outputs": [
        {
          "output_type": "stream",
          "text": [
            "Train on 20838 samples, validate on 5210 samples\n",
            "Epoch 1/10\n",
            "20838/20838 [==============================] - 1s 67us/step - loss: 13.2669 - accuracy: 0.7523 - val_loss: 0.9189 - val_accuracy: 0.7572\n",
            "Epoch 2/10\n",
            "20838/20838 [==============================] - 1s 56us/step - loss: 0.9166 - accuracy: 0.7598 - val_loss: 0.9165 - val_accuracy: 0.7572\n",
            "Epoch 3/10\n",
            "20838/20838 [==============================] - 1s 52us/step - loss: 0.9145 - accuracy: 0.7598 - val_loss: 0.9168 - val_accuracy: 0.7572\n",
            "Epoch 4/10\n",
            "20838/20838 [==============================] - 1s 54us/step - loss: 0.9131 - accuracy: 0.7598 - val_loss: 0.9127 - val_accuracy: 0.7572\n",
            "Epoch 5/10\n",
            "20838/20838 [==============================] - 1s 52us/step - loss: 0.9107 - accuracy: 0.7598 - val_loss: 0.9090 - val_accuracy: 0.7572\n",
            "Epoch 6/10\n",
            "20838/20838 [==============================] - 1s 52us/step - loss: 0.9090 - accuracy: 0.7598 - val_loss: 0.9097 - val_accuracy: 0.7572\n",
            "Epoch 7/10\n",
            "20838/20838 [==============================] - 1s 55us/step - loss: 0.9070 - accuracy: 0.7598 - val_loss: 0.9101 - val_accuracy: 0.7572\n",
            "Epoch 8/10\n",
            "20838/20838 [==============================] - 1s 60us/step - loss: 0.9055 - accuracy: 0.7598 - val_loss: 0.9038 - val_accuracy: 0.7572\n",
            "Epoch 9/10\n",
            "20838/20838 [==============================] - 1s 54us/step - loss: 0.9043 - accuracy: 0.7598 - val_loss: 0.9071 - val_accuracy: 0.7572\n",
            "Epoch 10/10\n",
            "20838/20838 [==============================] - 1s 59us/step - loss: 0.9036 - accuracy: 0.7598 - val_loss: 0.9037 - val_accuracy: 0.7572\n"
          ],
          "name": "stdout"
        },
        {
          "output_type": "display_data",
          "data": {
            "image/png": "[encoded data removed]",
            "text/plain": [
              "<Figure size 432x288 with 1 Axes>"
            ]
          },
          "metadata": {
            "tags": [],
            "needs_background": "light"
          }
        },
        {
          "output_type": "stream",
          "text": [
            "6513/6513 [==============================] - 0s 43us/step\n"
          ],
          "name": "stdout"
        },
        {
          "output_type": "execute_result",
          "data": {
            "text/plain": [
              "[0.9018812501611714, 0.758790135383606]"
            ]
          },
          "metadata": {
            "tags": []
          },
          "execution_count": 56
        }
      ]
    },
    {
      "cell_type": "markdown",
      "metadata": {
        "id": "bLknAgANYkDe",
        "colab_type": "text"
      },
      "source": [
        "### Fill in your part 5 conclusions here\n",
        "\n"
      ]
    },
    {
      "cell_type": "markdown",
      "metadata": {
        "id": "GYlaki0ZwWtr",
        "colab_type": "text"
      },
      "source": [
        "Regularization with Elastic Net (L1 & L2) helps with model performance, as seen by the above graphs for Model 2. It stablizes model accuracy and reduces overfitting. Regularization with Dropout layer does not seem to improve performance much, as seen on Model 1"
      ]
    }
  ]
}