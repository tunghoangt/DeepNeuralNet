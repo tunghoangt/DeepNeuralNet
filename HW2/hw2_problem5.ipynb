{
  "cells": [
    {
      "cell_type": "markdown",
      "source": [
        "# Homework 2, Problem 5\n",
        "\n",
        "In this problem we look at weather and how it impacts trading on the New York stock enchange. Complete this notebook and keep it in a homework 2 repo. Submit the repo link though the blackboard.\n",
        "\n",
        "**You are free to add implmentation or markdown cells to make your notebook clearer!!**\n",
        "\n",
        "## Data:\n",
        "\n",
        "The following two datasets are our focus\n",
        "\n",
        "* Weather data [NOAA-GHCN](https://registry.opendata.aws/noaa-ghcn/)\n",
        "* Stock Exchange Data [Yahoo Finance](https://finance.yahoo.com/quote/%5ENYA/history?ltr=1) \n",
        "\n"
      ],
      "metadata": {}
    },
    {
      "cell_type": "markdown",
      "source": [
        "## Part 1: Download The Weather Data\n",
        "\n",
        "\n"
      ],
      "metadata": {}
    },
    {
      "cell_type": "markdown",
      "source": [
        "Download a year of weather data.\n",
        "\n",
        "The Raw GHCN files don't have column headers, so we manually add them in. It's safer to at this point read in everything as an object & then parse to the correct type once you extract the variables you're interested in. \n",
        "This information can be found in https://docs.opendata.aws/noaa-ghcn-pds/readme.html"
      ],
      "metadata": {
        "nteract": {
          "transient": {
            "deleting": false
          }
        }
      }
    },
    {
      "cell_type": "code",
      "source": [
        "import urllib \n",
        "\n",
        "import pandas as pd\n",
        "\n",
        "import dask.dataframe as dd\n",
        "import dask.bag as db\n",
        "import dask.diagnostics as dg"
      ],
      "outputs": [],
      "execution_count": 1,
      "metadata": {
        "jupyter": {
          "outputs_hidden": false,
          "source_hidden": false
        },
        "nteract": {
          "transient": {
            "deleting": false
          }
        }
      }
    },
    {
      "cell_type": "markdown",
      "source": [
        "We're using Dask for the lazy evaluation properties (it will only try to run the computations at the end, hopefully after the data has been filtered down) because the dataset is very large. We set the storage options to `anon=True` because this data is public. Otherwise this kwarg is where we'd pass in the AWS authorization keys. "
      ],
      "metadata": {}
    },
    {
      "cell_type": "code",
      "source": [
        "# Let's load in the data for 1992\n",
        "YEAR = 1992\n",
        "\n",
        "names = ['ID', 'DATE', 'ELEMENT', 'DATA_VALUE', 'M-FLAG', 'Q-FLAG', 'S-FLAG', 'OBS-TIME']\n",
        "ds = dd.read_csv(f's3://noaa-ghcn-pds/csv/{YEAR}.csv', storage_options={'anon':True},  names=names, memory_map=False, \n",
        "                  dtype={'DATA_VALUE':'object'}, parse_dates=['DATE', 'OBS-TIME'])"
      ],
      "outputs": [],
      "execution_count": 2,
      "metadata": {
        "jupyter": {
          "outputs_hidden": false,
          "source_hidden": false
        },
        "nteract": {
          "transient": {
            "deleting": false
          }
        }
      }
    },
    {
      "cell_type": "code",
      "source": [
        "# You can check the data\n",
        "print(ds.columns)\n",
        "print(ds.dtypes)"
      ],
      "outputs": [
        {
          "output_type": "stream",
          "name": "stdout",
          "text": [
            "Index(['ID', 'DATE', 'ELEMENT', 'DATA_VALUE', 'M-FLAG', 'Q-FLAG', 'S-FLAG',\n",
            "       'OBS-TIME'],\n",
            "      dtype='object')\n",
            "ID                    object\n",
            "DATE          datetime64[ns]\n",
            "ELEMENT               object\n",
            "DATA_VALUE            object\n",
            "M-FLAG                object\n",
            "Q-FLAG                object\n",
            "S-FLAG                object\n",
            "OBS-TIME              object\n",
            "dtype: object\n"
          ]
        }
      ],
      "execution_count": 3,
      "metadata": {
        "jupyter": {
          "outputs_hidden": false,
          "source_hidden": false
        },
        "nteract": {
          "transient": {
            "deleting": false
          }
        }
      }
    },
    {
      "cell_type": "code",
      "source": [
        "# Print out the first few rows\n",
        "ds.head()"
      ],
      "outputs": [
        {
          "output_type": "execute_result",
          "execution_count": 4,
          "data": {
            "text/html": [
              "<div>\n",
              "<style scoped>\n",
              "    .dataframe tbody tr th:only-of-type {\n",
              "        vertical-align: middle;\n",
              "    }\n",
              "\n",
              "    .dataframe tbody tr th {\n",
              "        vertical-align: top;\n",
              "    }\n",
              "\n",
              "    .dataframe thead th {\n",
              "        text-align: right;\n",
              "    }\n",
              "</style>\n",
              "<table border=\"1\" class=\"dataframe\">\n",
              "  <thead>\n",
              "    <tr style=\"text-align: right;\">\n",
              "      <th></th>\n",
              "      <th>ID</th>\n",
              "      <th>DATE</th>\n",
              "      <th>ELEMENT</th>\n",
              "      <th>DATA_VALUE</th>\n",
              "      <th>M-FLAG</th>\n",
              "      <th>Q-FLAG</th>\n",
              "      <th>S-FLAG</th>\n",
              "      <th>OBS-TIME</th>\n",
              "    </tr>\n",
              "  </thead>\n",
              "  <tbody>\n",
              "    <tr>\n",
              "      <th>0</th>\n",
              "      <td>CA002303986</td>\n",
              "      <td>1992-01-01</td>\n",
              "      <td>TMAX</td>\n",
              "      <td>-70</td>\n",
              "      <td>NaN</td>\n",
              "      <td>NaN</td>\n",
              "      <td>C</td>\n",
              "      <td>nan</td>\n",
              "    </tr>\n",
              "    <tr>\n",
              "      <th>1</th>\n",
              "      <td>CA002303986</td>\n",
              "      <td>1992-01-01</td>\n",
              "      <td>TMIN</td>\n",
              "      <td>-240</td>\n",
              "      <td>NaN</td>\n",
              "      <td>NaN</td>\n",
              "      <td>C</td>\n",
              "      <td>nan</td>\n",
              "    </tr>\n",
              "    <tr>\n",
              "      <th>2</th>\n",
              "      <td>CA002303986</td>\n",
              "      <td>1992-01-01</td>\n",
              "      <td>PRCP</td>\n",
              "      <td>4</td>\n",
              "      <td>NaN</td>\n",
              "      <td>NaN</td>\n",
              "      <td>C</td>\n",
              "      <td>nan</td>\n",
              "    </tr>\n",
              "    <tr>\n",
              "      <th>3</th>\n",
              "      <td>CA002303986</td>\n",
              "      <td>1992-01-01</td>\n",
              "      <td>SNOW</td>\n",
              "      <td>4</td>\n",
              "      <td>NaN</td>\n",
              "      <td>NaN</td>\n",
              "      <td>C</td>\n",
              "      <td>nan</td>\n",
              "    </tr>\n",
              "    <tr>\n",
              "      <th>4</th>\n",
              "      <td>CA002303986</td>\n",
              "      <td>1992-01-01</td>\n",
              "      <td>SNWD</td>\n",
              "      <td>420</td>\n",
              "      <td>NaN</td>\n",
              "      <td>NaN</td>\n",
              "      <td>C</td>\n",
              "      <td>nan</td>\n",
              "    </tr>\n",
              "  </tbody>\n",
              "</table>\n",
              "</div>"
            ],
            "text/plain": [
              "            ID       DATE ELEMENT DATA_VALUE M-FLAG Q-FLAG S-FLAG OBS-TIME\n",
              "0  CA002303986 1992-01-01    TMAX        -70    NaN    NaN      C      nan\n",
              "1  CA002303986 1992-01-01    TMIN       -240    NaN    NaN      C      nan\n",
              "2  CA002303986 1992-01-01    PRCP          4    NaN    NaN      C      nan\n",
              "3  CA002303986 1992-01-01    SNOW          4    NaN    NaN      C      nan\n",
              "4  CA002303986 1992-01-01    SNWD        420    NaN    NaN      C      nan"
            ]
          },
          "metadata": {}
        }
      ],
      "execution_count": 4,
      "metadata": {
        "jupyter": {
          "outputs_hidden": false,
          "source_hidden": false
        },
        "nteract": {
          "transient": {
            "deleting": false
          }
        }
      }
    },
    {
      "cell_type": "markdown",
      "source": [
        "Now we want to parse out the station ID list. We are using [pandas.read_fwf](https://pandas.pydata.org/pandas-docs/version/0.23.4/generated/pandas.read_fwf.html#pandas.read_fwf) because this file is a fixed format width table rather than a csv file. \n",
        "We explicitly pass in the extents of the fixed width field because Pandas has trouble inferring what belongs in the `STATE` column versus in the `NAME` column. We obtained these extents from the readme https://docs.opendata.aws/noaa-ghcn-pds/readme.html"
      ],
      "metadata": {}
    },
    {
      "cell_type": "code",
      "source": [
        "# {column name:extents of the fixed-width fields}\n",
        "columns = {\"ID\": (0,11), \"LATITUDE\": (12, 20), \"LONGITUDE\": (21, 30), \"ELEVATION\": (31, 37),\"STATE\": (38, 40),\n",
        "           \"NAME\": (41, 71), \"GSN FLAG\": (72, 75), \"HCN/CRN FLAG\": (76, 79),\"WMO ID\": (80, 85)}"
      ],
      "outputs": [],
      "execution_count": 5,
      "metadata": {}
    },
    {
      "cell_type": "code",
      "source": [
        "df = pd.read_fwf(\"http://noaa-ghcn-pds.s3.amazonaws.com/ghcnd-stations.txt\", \n",
        "                    colspecs=list(columns.values()), names=list(columns.keys()))"
      ],
      "outputs": [],
      "execution_count": 6,
      "metadata": {}
    },
    {
      "cell_type": "code",
      "source": [
        "df.head()"
      ],
      "outputs": [
        {
          "output_type": "execute_result",
          "execution_count": 7,
          "data": {
            "text/html": [
              "<div>\n",
              "<style scoped>\n",
              "    .dataframe tbody tr th:only-of-type {\n",
              "        vertical-align: middle;\n",
              "    }\n",
              "\n",
              "    .dataframe tbody tr th {\n",
              "        vertical-align: top;\n",
              "    }\n",
              "\n",
              "    .dataframe thead th {\n",
              "        text-align: right;\n",
              "    }\n",
              "</style>\n",
              "<table border=\"1\" class=\"dataframe\">\n",
              "  <thead>\n",
              "    <tr style=\"text-align: right;\">\n",
              "      <th></th>\n",
              "      <th>ID</th>\n",
              "      <th>LATITUDE</th>\n",
              "      <th>LONGITUDE</th>\n",
              "      <th>ELEVATION</th>\n",
              "      <th>STATE</th>\n",
              "      <th>NAME</th>\n",
              "      <th>GSN FLAG</th>\n",
              "      <th>HCN/CRN FLAG</th>\n",
              "      <th>WMO ID</th>\n",
              "    </tr>\n",
              "  </thead>\n",
              "  <tbody>\n",
              "    <tr>\n",
              "      <th>0</th>\n",
              "      <td>ACW00011604</td>\n",
              "      <td>17.1167</td>\n",
              "      <td>-61.7833</td>\n",
              "      <td>10.1</td>\n",
              "      <td>NaN</td>\n",
              "      <td>ST JOHNS COOLIDGE FLD</td>\n",
              "      <td>NaN</td>\n",
              "      <td>NaN</td>\n",
              "      <td>NaN</td>\n",
              "    </tr>\n",
              "    <tr>\n",
              "      <th>1</th>\n",
              "      <td>ACW00011647</td>\n",
              "      <td>17.1333</td>\n",
              "      <td>-61.7833</td>\n",
              "      <td>19.2</td>\n",
              "      <td>NaN</td>\n",
              "      <td>ST JOHNS</td>\n",
              "      <td>NaN</td>\n",
              "      <td>NaN</td>\n",
              "      <td>NaN</td>\n",
              "    </tr>\n",
              "    <tr>\n",
              "      <th>2</th>\n",
              "      <td>AE000041196</td>\n",
              "      <td>25.3330</td>\n",
              "      <td>55.5170</td>\n",
              "      <td>34.0</td>\n",
              "      <td>NaN</td>\n",
              "      <td>SHARJAH INTER. AIRP</td>\n",
              "      <td>GSN</td>\n",
              "      <td>NaN</td>\n",
              "      <td>41196.0</td>\n",
              "    </tr>\n",
              "    <tr>\n",
              "      <th>3</th>\n",
              "      <td>AEM00041194</td>\n",
              "      <td>25.2550</td>\n",
              "      <td>55.3640</td>\n",
              "      <td>10.4</td>\n",
              "      <td>NaN</td>\n",
              "      <td>DUBAI INTL</td>\n",
              "      <td>NaN</td>\n",
              "      <td>NaN</td>\n",
              "      <td>41194.0</td>\n",
              "    </tr>\n",
              "    <tr>\n",
              "      <th>4</th>\n",
              "      <td>AEM00041217</td>\n",
              "      <td>24.4330</td>\n",
              "      <td>54.6510</td>\n",
              "      <td>26.8</td>\n",
              "      <td>NaN</td>\n",
              "      <td>ABU DHABI INTL</td>\n",
              "      <td>NaN</td>\n",
              "      <td>NaN</td>\n",
              "      <td>41217.0</td>\n",
              "    </tr>\n",
              "  </tbody>\n",
              "</table>\n",
              "</div>"
            ],
            "text/plain": [
              "            ID  LATITUDE  LONGITUDE  ELEVATION STATE                   NAME  \\\n",
              "0  ACW00011604   17.1167   -61.7833       10.1   NaN  ST JOHNS COOLIDGE FLD   \n",
              "1  ACW00011647   17.1333   -61.7833       19.2   NaN               ST JOHNS   \n",
              "2  AE000041196   25.3330    55.5170       34.0   NaN    SHARJAH INTER. AIRP   \n",
              "3  AEM00041194   25.2550    55.3640       10.4   NaN             DUBAI INTL   \n",
              "4  AEM00041217   24.4330    54.6510       26.8   NaN         ABU DHABI INTL   \n",
              "\n",
              "  GSN FLAG HCN/CRN FLAG   WMO ID  \n",
              "0      NaN          NaN      NaN  \n",
              "1      NaN          NaN      NaN  \n",
              "2      GSN          NaN  41196.0  \n",
              "3      NaN          NaN  41194.0  \n",
              "4      NaN          NaN  41217.0  "
            ]
          },
          "metadata": {}
        }
      ],
      "execution_count": 7,
      "metadata": {}
    },
    {
      "cell_type": "code",
      "source": [
        "# You should be looking for those in the New York area like Central Park, JFK, LGA and Newark airport.\n",
        "NYNJ = df[df['STATE'].isin(['NY', 'NJ'])]\n",
        "NYNJ.head()"
      ],
      "outputs": [
        {
          "output_type": "execute_result",
          "execution_count": 8,
          "data": {
            "text/html": [
              "<div>\n",
              "<style scoped>\n",
              "    .dataframe tbody tr th:only-of-type {\n",
              "        vertical-align: middle;\n",
              "    }\n",
              "\n",
              "    .dataframe tbody tr th {\n",
              "        vertical-align: top;\n",
              "    }\n",
              "\n",
              "    .dataframe thead th {\n",
              "        text-align: right;\n",
              "    }\n",
              "</style>\n",
              "<table border=\"1\" class=\"dataframe\">\n",
              "  <thead>\n",
              "    <tr style=\"text-align: right;\">\n",
              "      <th></th>\n",
              "      <th>ID</th>\n",
              "      <th>LATITUDE</th>\n",
              "      <th>LONGITUDE</th>\n",
              "      <th>ELEVATION</th>\n",
              "      <th>STATE</th>\n",
              "      <th>NAME</th>\n",
              "      <th>GSN FLAG</th>\n",
              "      <th>HCN/CRN FLAG</th>\n",
              "      <th>WMO ID</th>\n",
              "    </tr>\n",
              "  </thead>\n",
              "  <tbody>\n",
              "    <tr>\n",
              "      <th>73674</th>\n",
              "      <td>US1NJAT0001</td>\n",
              "      <td>39.5483</td>\n",
              "      <td>-74.8671</td>\n",
              "      <td>31.4</td>\n",
              "      <td>NJ</td>\n",
              "      <td>BUENA VISTA TWP 2.6 NNE</td>\n",
              "      <td>NaN</td>\n",
              "      <td>NaN</td>\n",
              "      <td>NaN</td>\n",
              "    </tr>\n",
              "    <tr>\n",
              "      <th>73675</th>\n",
              "      <td>US1NJAT0002</td>\n",
              "      <td>39.5565</td>\n",
              "      <td>-74.8048</td>\n",
              "      <td>14.0</td>\n",
              "      <td>NJ</td>\n",
              "      <td>FOLSOM 3.2 SE</td>\n",
              "      <td>NaN</td>\n",
              "      <td>NaN</td>\n",
              "      <td>NaN</td>\n",
              "    </tr>\n",
              "    <tr>\n",
              "      <th>73676</th>\n",
              "      <td>US1NJAT0003</td>\n",
              "      <td>39.4747</td>\n",
              "      <td>-74.7107</td>\n",
              "      <td>5.5</td>\n",
              "      <td>NJ</td>\n",
              "      <td>HAMILTON TWP 2.1 SE</td>\n",
              "      <td>NaN</td>\n",
              "      <td>NaN</td>\n",
              "      <td>NaN</td>\n",
              "    </tr>\n",
              "    <tr>\n",
              "      <th>73677</th>\n",
              "      <td>US1NJAT0005</td>\n",
              "      <td>39.6404</td>\n",
              "      <td>-74.8261</td>\n",
              "      <td>29.9</td>\n",
              "      <td>NJ</td>\n",
              "      <td>HAMMONTON 3.3 WSW</td>\n",
              "      <td>NaN</td>\n",
              "      <td>NaN</td>\n",
              "      <td>NaN</td>\n",
              "    </tr>\n",
              "    <tr>\n",
              "      <th>73678</th>\n",
              "      <td>US1NJAT0009</td>\n",
              "      <td>39.3346</td>\n",
              "      <td>-74.5759</td>\n",
              "      <td>5.8</td>\n",
              "      <td>NJ</td>\n",
              "      <td>LINWOOD 0.7 SSW</td>\n",
              "      <td>NaN</td>\n",
              "      <td>NaN</td>\n",
              "      <td>NaN</td>\n",
              "    </tr>\n",
              "  </tbody>\n",
              "</table>\n",
              "</div>"
            ],
            "text/plain": [
              "                ID  LATITUDE  LONGITUDE  ELEVATION STATE  \\\n",
              "73674  US1NJAT0001   39.5483   -74.8671       31.4    NJ   \n",
              "73675  US1NJAT0002   39.5565   -74.8048       14.0    NJ   \n",
              "73676  US1NJAT0003   39.4747   -74.7107        5.5    NJ   \n",
              "73677  US1NJAT0005   39.6404   -74.8261       29.9    NJ   \n",
              "73678  US1NJAT0009   39.3346   -74.5759        5.8    NJ   \n",
              "\n",
              "                          NAME GSN FLAG HCN/CRN FLAG  WMO ID  \n",
              "73674  BUENA VISTA TWP 2.6 NNE      NaN          NaN     NaN  \n",
              "73675            FOLSOM 3.2 SE      NaN          NaN     NaN  \n",
              "73676      HAMILTON TWP 2.1 SE      NaN          NaN     NaN  \n",
              "73677        HAMMONTON 3.3 WSW      NaN          NaN     NaN  \n",
              "73678          LINWOOD 0.7 SSW      NaN          NaN     NaN  "
            ]
          },
          "metadata": {}
        }
      ],
      "execution_count": 8,
      "metadata": {}
    },
    {
      "cell_type": "markdown",
      "source": [
        "Central Park is coded in shorthand, so we used the NOAA web portal to look up the correct ID\n",
        "https://www.ncdc.noaa.gov/cdo-web/datasets/GHCND/stations/GHCND:USW00094728/detail"
      ],
      "metadata": {}
    },
    {
      "cell_type": "code",
      "source": [
        "NYNJ[NYNJ['ID'].str.contains('USW00094728')]"
      ],
      "outputs": [
        {
          "output_type": "execute_result",
          "execution_count": 9,
          "data": {
            "text/html": [
              "<div>\n",
              "<style scoped>\n",
              "    .dataframe tbody tr th:only-of-type {\n",
              "        vertical-align: middle;\n",
              "    }\n",
              "\n",
              "    .dataframe tbody tr th {\n",
              "        vertical-align: top;\n",
              "    }\n",
              "\n",
              "    .dataframe thead th {\n",
              "        text-align: right;\n",
              "    }\n",
              "</style>\n",
              "<table border=\"1\" class=\"dataframe\">\n",
              "  <thead>\n",
              "    <tr style=\"text-align: right;\">\n",
              "      <th></th>\n",
              "      <th>ID</th>\n",
              "      <th>LATITUDE</th>\n",
              "      <th>LONGITUDE</th>\n",
              "      <th>ELEVATION</th>\n",
              "      <th>STATE</th>\n",
              "      <th>NAME</th>\n",
              "      <th>GSN FLAG</th>\n",
              "      <th>HCN/CRN FLAG</th>\n",
              "      <th>WMO ID</th>\n",
              "    </tr>\n",
              "  </thead>\n",
              "  <tbody>\n",
              "    <tr>\n",
              "      <th>114226</th>\n",
              "      <td>USW00094728</td>\n",
              "      <td>40.7789</td>\n",
              "      <td>-73.9692</td>\n",
              "      <td>39.6</td>\n",
              "      <td>NY</td>\n",
              "      <td>NEW YORK CNTRL PK TWR</td>\n",
              "      <td>NaN</td>\n",
              "      <td>HCN</td>\n",
              "      <td>72506.0</td>\n",
              "    </tr>\n",
              "  </tbody>\n",
              "</table>\n",
              "</div>"
            ],
            "text/plain": [
              "                 ID  LATITUDE  LONGITUDE  ELEVATION STATE  \\\n",
              "114226  USW00094728   40.7789   -73.9692       39.6    NY   \n",
              "\n",
              "                         NAME GSN FLAG HCN/CRN FLAG   WMO ID  \n",
              "114226  NEW YORK CNTRL PK TWR      NaN          HCN  72506.0  "
            ]
          },
          "metadata": {}
        }
      ],
      "execution_count": 9,
      "metadata": {}
    },
    {
      "cell_type": "code",
      "source": [
        "# Airports + Central Park\n",
        "apcp = NYNJ[NYNJ['NAME'].str.endswith('AP') | NYNJ['ID'].str.contains('USW00094728')]\n",
        "apcp.head()"
      ],
      "outputs": [
        {
          "output_type": "execute_result",
          "execution_count": 10,
          "data": {
            "text/html": [
              "<div>\n",
              "<style scoped>\n",
              "    .dataframe tbody tr th:only-of-type {\n",
              "        vertical-align: middle;\n",
              "    }\n",
              "\n",
              "    .dataframe tbody tr th {\n",
              "        vertical-align: top;\n",
              "    }\n",
              "\n",
              "    .dataframe thead th {\n",
              "        text-align: right;\n",
              "    }\n",
              "</style>\n",
              "<table border=\"1\" class=\"dataframe\">\n",
              "  <thead>\n",
              "    <tr style=\"text-align: right;\">\n",
              "      <th></th>\n",
              "      <th>ID</th>\n",
              "      <th>LATITUDE</th>\n",
              "      <th>LONGITUDE</th>\n",
              "      <th>ELEVATION</th>\n",
              "      <th>STATE</th>\n",
              "      <th>NAME</th>\n",
              "      <th>GSN FLAG</th>\n",
              "      <th>HCN/CRN FLAG</th>\n",
              "      <th>WMO ID</th>\n",
              "    </tr>\n",
              "  </thead>\n",
              "  <tbody>\n",
              "    <tr>\n",
              "      <th>100219</th>\n",
              "      <td>USC00305840</td>\n",
              "      <td>43.1139</td>\n",
              "      <td>-78.9353</td>\n",
              "      <td>179.2</td>\n",
              "      <td>NY</td>\n",
              "      <td>NIAGARA FALLS INTL AP</td>\n",
              "      <td>NaN</td>\n",
              "      <td>NaN</td>\n",
              "      <td>NaN</td>\n",
              "    </tr>\n",
              "    <tr>\n",
              "      <th>112764</th>\n",
              "      <td>USW00004724</td>\n",
              "      <td>43.1072</td>\n",
              "      <td>-78.9453</td>\n",
              "      <td>178.3</td>\n",
              "      <td>NY</td>\n",
              "      <td>NIAGARA FALLS INTL AP</td>\n",
              "      <td>NaN</td>\n",
              "      <td>NaN</td>\n",
              "      <td>NaN</td>\n",
              "    </tr>\n",
              "    <tr>\n",
              "      <th>112769</th>\n",
              "      <td>USW00004742</td>\n",
              "      <td>44.6500</td>\n",
              "      <td>-73.4667</td>\n",
              "      <td>71.9</td>\n",
              "      <td>NY</td>\n",
              "      <td>PLATTSBURGH INTL AP</td>\n",
              "      <td>NaN</td>\n",
              "      <td>NaN</td>\n",
              "      <td>NaN</td>\n",
              "    </tr>\n",
              "    <tr>\n",
              "      <th>112775</th>\n",
              "      <td>USW00004781</td>\n",
              "      <td>40.7939</td>\n",
              "      <td>-73.1017</td>\n",
              "      <td>25.6</td>\n",
              "      <td>NY</td>\n",
              "      <td>ISLIP LI MACARTHUR AP</td>\n",
              "      <td>NaN</td>\n",
              "      <td>NaN</td>\n",
              "      <td>72505.0</td>\n",
              "    </tr>\n",
              "    <tr>\n",
              "      <th>112779</th>\n",
              "      <td>USW00004789</td>\n",
              "      <td>41.5092</td>\n",
              "      <td>-74.2650</td>\n",
              "      <td>111.3</td>\n",
              "      <td>NY</td>\n",
              "      <td>MONTGOMERY ORANGE AP</td>\n",
              "      <td>NaN</td>\n",
              "      <td>NaN</td>\n",
              "      <td>NaN</td>\n",
              "    </tr>\n",
              "  </tbody>\n",
              "</table>\n",
              "</div>"
            ],
            "text/plain": [
              "                 ID  LATITUDE  LONGITUDE  ELEVATION STATE  \\\n",
              "100219  USC00305840   43.1139   -78.9353      179.2    NY   \n",
              "112764  USW00004724   43.1072   -78.9453      178.3    NY   \n",
              "112769  USW00004742   44.6500   -73.4667       71.9    NY   \n",
              "112775  USW00004781   40.7939   -73.1017       25.6    NY   \n",
              "112779  USW00004789   41.5092   -74.2650      111.3    NY   \n",
              "\n",
              "                         NAME GSN FLAG HCN/CRN FLAG   WMO ID  \n",
              "100219  NIAGARA FALLS INTL AP      NaN          NaN      NaN  \n",
              "112764  NIAGARA FALLS INTL AP      NaN          NaN      NaN  \n",
              "112769    PLATTSBURGH INTL AP      NaN          NaN      NaN  \n",
              "112775  ISLIP LI MACARTHUR AP      NaN          NaN  72505.0  \n",
              "112779   MONTGOMERY ORANGE AP      NaN          NaN      NaN  "
            ]
          },
          "metadata": {}
        }
      ],
      "execution_count": 10,
      "metadata": {}
    },
    {
      "cell_type": "markdown",
      "source": [
        "What we're interested in is the IDs, which we will use for our dataset to obtain only the stations of interest. We are going to join our two dataframes on the ID column so that we have all the information in every row.  We are removing the flags since they have neither computational nor necessary identification information. \n",
        "\n",
        "we do not use `.compute()` to resolve the computation because it's better to hold off until the completetion of feature selection and engineering described below. If you'd like a fully computed dataframe, the code is \n",
        "```python\n"
      ],
      "metadata": {}
    },
    {
      "cell_type": "code",
      "source": [
        "nyds = ds.merge(apcp[['ID', 'LATITUDE', 'LONGITUDE', 'ELEVATION', 'STATE', 'NAME']], on='ID').compute()\n"
      ],
      "outputs": [],
      "execution_count": 11,
      "metadata": {}
    },
    {
      "cell_type": "code",
      "source": [
        "nyds.head()"
      ],
      "outputs": [
        {
          "output_type": "execute_result",
          "execution_count": 12,
          "data": {
            "text/html": [
              "<div>\n",
              "<style scoped>\n",
              "    .dataframe tbody tr th:only-of-type {\n",
              "        vertical-align: middle;\n",
              "    }\n",
              "\n",
              "    .dataframe tbody tr th {\n",
              "        vertical-align: top;\n",
              "    }\n",
              "\n",
              "    .dataframe thead th {\n",
              "        text-align: right;\n",
              "    }\n",
              "</style>\n",
              "<table border=\"1\" class=\"dataframe\">\n",
              "  <thead>\n",
              "    <tr style=\"text-align: right;\">\n",
              "      <th></th>\n",
              "      <th>ID</th>\n",
              "      <th>DATE</th>\n",
              "      <th>ELEMENT</th>\n",
              "      <th>DATA_VALUE</th>\n",
              "      <th>M-FLAG</th>\n",
              "      <th>Q-FLAG</th>\n",
              "      <th>S-FLAG</th>\n",
              "      <th>OBS-TIME</th>\n",
              "      <th>LATITUDE</th>\n",
              "      <th>LONGITUDE</th>\n",
              "      <th>ELEVATION</th>\n",
              "      <th>STATE</th>\n",
              "      <th>NAME</th>\n",
              "    </tr>\n",
              "  </thead>\n",
              "  <tbody>\n",
              "    <tr>\n",
              "      <th>0</th>\n",
              "      <td>USW00094790</td>\n",
              "      <td>1992-01-01</td>\n",
              "      <td>TMAX</td>\n",
              "      <td>61</td>\n",
              "      <td>NaN</td>\n",
              "      <td>NaN</td>\n",
              "      <td>0</td>\n",
              "      <td>2400</td>\n",
              "      <td>43.9922</td>\n",
              "      <td>-76.0217</td>\n",
              "      <td>96.9</td>\n",
              "      <td>NY</td>\n",
              "      <td>WATERTOWN INTL AP</td>\n",
              "    </tr>\n",
              "    <tr>\n",
              "      <th>1</th>\n",
              "      <td>USW00094790</td>\n",
              "      <td>1992-01-01</td>\n",
              "      <td>TMIN</td>\n",
              "      <td>-133</td>\n",
              "      <td>NaN</td>\n",
              "      <td>NaN</td>\n",
              "      <td>0</td>\n",
              "      <td>2400</td>\n",
              "      <td>43.9922</td>\n",
              "      <td>-76.0217</td>\n",
              "      <td>96.9</td>\n",
              "      <td>NY</td>\n",
              "      <td>WATERTOWN INTL AP</td>\n",
              "    </tr>\n",
              "    <tr>\n",
              "      <th>2</th>\n",
              "      <td>USW00094790</td>\n",
              "      <td>1992-01-01</td>\n",
              "      <td>PRCP</td>\n",
              "      <td>0</td>\n",
              "      <td>NaN</td>\n",
              "      <td>NaN</td>\n",
              "      <td>0</td>\n",
              "      <td>2400</td>\n",
              "      <td>43.9922</td>\n",
              "      <td>-76.0217</td>\n",
              "      <td>96.9</td>\n",
              "      <td>NY</td>\n",
              "      <td>WATERTOWN INTL AP</td>\n",
              "    </tr>\n",
              "    <tr>\n",
              "      <th>3</th>\n",
              "      <td>USW00094790</td>\n",
              "      <td>1992-01-01</td>\n",
              "      <td>SNOW</td>\n",
              "      <td>0</td>\n",
              "      <td>NaN</td>\n",
              "      <td>NaN</td>\n",
              "      <td>0</td>\n",
              "      <td>nan</td>\n",
              "      <td>43.9922</td>\n",
              "      <td>-76.0217</td>\n",
              "      <td>96.9</td>\n",
              "      <td>NY</td>\n",
              "      <td>WATERTOWN INTL AP</td>\n",
              "    </tr>\n",
              "    <tr>\n",
              "      <th>4</th>\n",
              "      <td>USW00094790</td>\n",
              "      <td>1992-01-01</td>\n",
              "      <td>SNWD</td>\n",
              "      <td>0</td>\n",
              "      <td>NaN</td>\n",
              "      <td>NaN</td>\n",
              "      <td>0</td>\n",
              "      <td>nan</td>\n",
              "      <td>43.9922</td>\n",
              "      <td>-76.0217</td>\n",
              "      <td>96.9</td>\n",
              "      <td>NY</td>\n",
              "      <td>WATERTOWN INTL AP</td>\n",
              "    </tr>\n",
              "  </tbody>\n",
              "</table>\n",
              "</div>"
            ],
            "text/plain": [
              "            ID       DATE ELEMENT DATA_VALUE M-FLAG Q-FLAG S-FLAG OBS-TIME  \\\n",
              "0  USW00094790 1992-01-01    TMAX         61    NaN    NaN      0     2400   \n",
              "1  USW00094790 1992-01-01    TMIN       -133    NaN    NaN      0     2400   \n",
              "2  USW00094790 1992-01-01    PRCP          0    NaN    NaN      0     2400   \n",
              "3  USW00094790 1992-01-01    SNOW          0    NaN    NaN      0      nan   \n",
              "4  USW00094790 1992-01-01    SNWD          0    NaN    NaN      0      nan   \n",
              "\n",
              "   LATITUDE  LONGITUDE  ELEVATION STATE               NAME  \n",
              "0   43.9922   -76.0217       96.9    NY  WATERTOWN INTL AP  \n",
              "1   43.9922   -76.0217       96.9    NY  WATERTOWN INTL AP  \n",
              "2   43.9922   -76.0217       96.9    NY  WATERTOWN INTL AP  \n",
              "3   43.9922   -76.0217       96.9    NY  WATERTOWN INTL AP  \n",
              "4   43.9922   -76.0217       96.9    NY  WATERTOWN INTL AP  "
            ]
          },
          "metadata": {}
        }
      ],
      "execution_count": 12,
      "metadata": {}
    },
    {
      "cell_type": "markdown",
      "source": [
        "## Part 2: Downoad Stock Price Data\n",
        "\n",
        "Here the idea is to get the finance data from Yahoo finace.  It's already the right date range in general:"
      ],
      "metadata": {
        "nteract": {
          "transient": {
            "deleting": false
          }
        }
      }
    },
    {
      "cell_type": "code",
      "source": [
        "finance_df = pd.read_csv(\"https://query1.finance.yahoo.com/v7/finance/download/%5ENYA?period1=694224000&period2=725760000&interval=1d&events=history\")\n",
        "finance_df = finance_df.rename(columns={\"Date\": \"DATE\"})"
      ],
      "outputs": [],
      "execution_count": 18,
      "metadata": {
        "jupyter": {
          "outputs_hidden": false,
          "source_hidden": false
        },
        "nteract": {
          "transient": {
            "deleting": false
          }
        }
      }
    },
    {
      "cell_type": "code",
      "source": [
        "finance_df.head()"
      ],
      "outputs": [
        {
          "output_type": "execute_result",
          "execution_count": 19,
          "data": {
            "text/html": [
              "<div>\n",
              "<style scoped>\n",
              "    .dataframe tbody tr th:only-of-type {\n",
              "        vertical-align: middle;\n",
              "    }\n",
              "\n",
              "    .dataframe tbody tr th {\n",
              "        vertical-align: top;\n",
              "    }\n",
              "\n",
              "    .dataframe thead th {\n",
              "        text-align: right;\n",
              "    }\n",
              "</style>\n",
              "<table border=\"1\" class=\"dataframe\">\n",
              "  <thead>\n",
              "    <tr style=\"text-align: right;\">\n",
              "      <th></th>\n",
              "      <th>DATE</th>\n",
              "      <th>Open</th>\n",
              "      <th>High</th>\n",
              "      <th>Low</th>\n",
              "      <th>Close</th>\n",
              "      <th>Adj Close</th>\n",
              "      <th>Volume</th>\n",
              "    </tr>\n",
              "  </thead>\n",
              "  <tbody>\n",
              "    <tr>\n",
              "      <th>0</th>\n",
              "      <td>1992-01-02</td>\n",
              "      <td>2423.179932</td>\n",
              "      <td>2423.179932</td>\n",
              "      <td>2423.179932</td>\n",
              "      <td>2423.179932</td>\n",
              "      <td>2423.179932</td>\n",
              "      <td>0</td>\n",
              "    </tr>\n",
              "    <tr>\n",
              "      <th>1</th>\n",
              "      <td>1992-01-03</td>\n",
              "      <td>2435.659912</td>\n",
              "      <td>2435.659912</td>\n",
              "      <td>2435.659912</td>\n",
              "      <td>2435.659912</td>\n",
              "      <td>2435.659912</td>\n",
              "      <td>0</td>\n",
              "    </tr>\n",
              "    <tr>\n",
              "      <th>2</th>\n",
              "      <td>1992-01-06</td>\n",
              "      <td>2430.370117</td>\n",
              "      <td>2430.370117</td>\n",
              "      <td>2430.370117</td>\n",
              "      <td>2430.370117</td>\n",
              "      <td>2430.370117</td>\n",
              "      <td>0</td>\n",
              "    </tr>\n",
              "    <tr>\n",
              "      <th>3</th>\n",
              "      <td>1992-01-07</td>\n",
              "      <td>2428.679932</td>\n",
              "      <td>2428.679932</td>\n",
              "      <td>2428.679932</td>\n",
              "      <td>2428.679932</td>\n",
              "      <td>2428.679932</td>\n",
              "      <td>0</td>\n",
              "    </tr>\n",
              "    <tr>\n",
              "      <th>4</th>\n",
              "      <td>1992-01-08</td>\n",
              "      <td>2434.389893</td>\n",
              "      <td>2434.389893</td>\n",
              "      <td>2434.389893</td>\n",
              "      <td>2434.389893</td>\n",
              "      <td>2434.389893</td>\n",
              "      <td>0</td>\n",
              "    </tr>\n",
              "  </tbody>\n",
              "</table>\n",
              "</div>"
            ],
            "text/plain": [
              "         DATE         Open         High          Low        Close  \\\n",
              "0  1992-01-02  2423.179932  2423.179932  2423.179932  2423.179932   \n",
              "1  1992-01-03  2435.659912  2435.659912  2435.659912  2435.659912   \n",
              "2  1992-01-06  2430.370117  2430.370117  2430.370117  2430.370117   \n",
              "3  1992-01-07  2428.679932  2428.679932  2428.679932  2428.679932   \n",
              "4  1992-01-08  2434.389893  2434.389893  2434.389893  2434.389893   \n",
              "\n",
              "     Adj Close  Volume  \n",
              "0  2423.179932       0  \n",
              "1  2435.659912       0  \n",
              "2  2430.370117       0  \n",
              "3  2428.679932       0  \n",
              "4  2434.389893       0  "
            ]
          },
          "metadata": {}
        }
      ],
      "execution_count": 19,
      "metadata": {}
    },
    {
      "cell_type": "markdown",
      "source": [
        "You can do an inner join for the dates from the financial dataset and the new york weather dataset, to get all your features ready, please do that here:"
      ],
      "metadata": {}
    },
    {
      "cell_type": "code",
      "source": [
        "# your join on dates goes here:\n",
        "ny_df = nyds.compute()\n",
        "ny_df[\"DATE\"] = pd.to_datetime(ny_df[\"DATE\"])\n",
        "finance_df[\"DATE\"] = pd.to_datetime(finance_df[\"DATE\"])"
      ],
      "outputs": [],
      "execution_count": null,
      "metadata": {}
    },
    {
      "cell_type": "markdown",
      "source": [
        "## Part 3: Creating and Selecting Variables\n",
        "\n",
        "Pull out and encode the various variables listed below and set up these varaibles at least initially in a pandas data frame.\n",
        "\n",
        "### Weather variables\n",
        "\n",
        "* raining:\n",
        "    - 0 - wasn't raining\n",
        "    - 1 - was raining\n",
        "* rain intensity:\n",
        "    - 0 -low\n",
        "    - 1 - medium\n",
        "    - 2 - high\n",
        "* rain duration in hours\n",
        "* snowing:\n",
        "    - 0 - wasn't snowing\n",
        "    - 1 - was snowing\n",
        "* snow intensity:\n",
        "    - 0 - low\n",
        "    1 - medium\n",
        "    2 - high\n",
        "* snow duration in hours\n",
        "* windy:\n",
        "    - 0 - low\n",
        "    - 1 - medium\n",
        "    - 2 - high\n",
        "\n",
        "### Market Variables \n",
        "\n",
        "* Market Open\n",
        "* Market Close\n",
        "* Market High\n",
        "* Market Low\n",
        "* Market Volume\n",
        "\n",
        "\n",
        "Make sure you have aligned the data by date in a pandas data frame. Show the counts and the summary stats."
      ],
      "metadata": {
        "nteract": {
          "transient": {
            "deleting": false
          }
        }
      }
    },
    {
      "cell_type": "markdown",
      "source": [
        "## Part 4: Feature Engineering\n",
        "\n",
        "Because we are going to be thinking of this in terms of a simple neural network here (like a dense neural network), extend the data by the input data actually being the past $n$ days ($n$ between 1 and 7). In other words the $X$ input should contain a lag of variables you loaded, but lagged by days from 1 through 7. In other words if it hasn't snowed in the past 7 days you will have attributes $[0,0,0,0,0,0,0]$ for yesterday and the preceeding 8 days of no snow, being \"columns\" or dimensions in your input data.\n",
        "\n",
        "One challenge is that for weekend you will not have trading days so you will need to do some data filling. After you \"fatten\" your data, should see if you need all this data. You should normalize all your input variables so that that have an approximate range between 0 and 1. "
      ],
      "metadata": {
        "nteract": {
          "transient": {
            "deleting": false
          }
        }
      }
    },
    {
      "cell_type": "code",
      "source": [
        "from functools import partial\n",
        "\n",
        "def lag_function(num_days, x):\n",
        "    # fill in the code for the lag day here\n",
        "    return x\n",
        "\n",
        "lag_one_day = partial(lag_function, 1)\n",
        "joined_data[\"market_volatility_lag_one\"] = joined_data.apply(lag_one_day, axis=1)\n",
        "\n",
        "lag_two_days = partial(lag_function, 2)\n",
        "joined_data[\"market_volatility_lag_two\"] = joined_data.apply(lag_two_days, axis=1)\n",
        "\n",
        "lag_three_days = partial(lag_function, 3)\n",
        "joined_data[\"market_volatility_lag_three\"] = joined_data.apply(lag_three_days, axis=1)\n",
        "\n",
        "lag_four_days = partial(lag_function, 4)\n",
        "joined_data[\"market_volatility_lag_four\"] = joined_data.apply(lag_four_days, axis=1)\n",
        "\n",
        "lag_five_days = partial(lag_function, 5)\n",
        "joined_data[\"market_volatility_lag_five\"] = joined_data.apply(lag_five_days, axis=1)\n",
        "\n",
        "lag_six_days = partial(lag_function, 6)\n",
        "joined_data[\"market_volatility_lag_six\"] = joined_data.apply(lag_six_days, axis=1)\n",
        "\n",
        "lag_seven_days = partial(lag_function, 7)\n",
        "joined_data[\"market_volatility_lag_seven\"] = joined_data.apply(lag_seven_days, axis=1)\n"
      ],
      "outputs": [],
      "execution_count": 39,
      "metadata": {}
    },
    {
      "cell_type": "code",
      "source": [
        "# add the code for dealing with weekends here"
      ],
      "outputs": [],
      "execution_count": null,
      "metadata": {}
    },
    {
      "cell_type": "code",
      "source": [
        "# add the code for normalization here"
      ],
      "outputs": [],
      "execution_count": null,
      "metadata": {}
    },
    {
      "cell_type": "markdown",
      "source": [
        "## Part 5: Try out different Models and prediction!\n",
        "\n",
        "Your goal is to predict the volatility in the market, that is the Market High - Market Low your \"Y\" value. For convenience create that column. All of the other columns will help create your \"X\" variables. You can use any of the other variables as predictors. Be careful not use Market High or Market Low as \"X\" variables!\n",
        "\n",
        "Since we are doing a regression problem that means that the last neural net activation will probably be linear and the loss should be Mean Squared Error or root mean squared error or mean absolute error.\n",
        "\n",
        "Try five different models. For each model, please report mse, root mse and mean absolute error.  You can get the training history with:\n",
        "\n",
        "Record the history with:\n",
        "\n",
        "`history = model.fit(X, y, validation_split=0.1)`\n",
        "\n",
        "and get the history for your metrics with:\n",
        "\n",
        "`history.history`\n",
        "\n",
        "For more details, see this tutorial: https://machinelearningmastery.com/custom-metrics-deep-learning-keras-python/\n",
        "\n",
        "Also, please note the above tutorial shows you how to include multiple metrics with keras.\n",
        "\n",
        "Then try cross validation with the above metrics. \n",
        "\n",
        "If you've never done cross validation with keras before, please use: https://machinelearningmastery.com/evaluate-performance-deep-learning-models-keras/\n",
        "\n",
        "The above tutorial will show you how.\n",
        "\n",
        "After running cross validation for each of the metrics you should be able to answer the following questions:\n",
        "\n",
        "Is there overfitting? How do you know?\n",
        "Why do you think certain models worked well and others not as well? \n",
        "How might you improve the model?"
      ],
      "metadata": {
        "nteract": {
          "transient": {
            "deleting": false
          }
        }
      }
    },
    {
      "cell_type": "code",
      "source": [
        "# add your model architectures here\n",
        "\n",
        "def model_one():\n",
        "    pass\n",
        "\n",
        "def model_two():\n",
        "    pass\n",
        "\n",
        "def model_three():\n",
        "    pass\n",
        "\n",
        "def model_four():\n",
        "    pass\n",
        "\n",
        "def model_five():\n",
        "    pass\n",
        "\n",
        "# evaluate your architectures on a test set here"
      ],
      "outputs": [],
      "execution_count": null,
      "metadata": {
        "jupyter": {
          "outputs_hidden": false,
          "source_hidden": false
        },
        "nteract": {
          "transient": {
            "deleting": false
          }
        }
      }
    },
    {
      "cell_type": "code",
      "source": [
        "# implement cross validation here"
      ],
      "outputs": [],
      "execution_count": null,
      "metadata": {}
    },
    {
      "cell_type": "markdown",
      "source": [
        "answer answer overfitting here and analysis here."
      ],
      "metadata": {}
    },
    {
      "cell_type": "markdown",
      "source": [
        "## Overall Conclusion\n",
        "\n",
        "Conclude with a full report here on what we know now about this problem. How well it does verses baseline, what the best Keras archtecture is, what features should be used, how the data should be cleaned etc."
      ],
      "metadata": {}
    },
    {
      "cell_type": "code",
      "source": [],
      "outputs": [],
      "execution_count": null,
      "metadata": {}
    }
  ],
  "metadata": {
    "kernelspec": {
      "display_name": "Python 3",
      "language": "python",
      "name": "python3"
    },
    "language_info": {
      "codemirror_mode": {
        "name": "ipython",
        "version": 3
      },
      "file_extension": ".py",
      "mimetype": "text/x-python",
      "name": "python",
      "nbconvert_exporter": "python",
      "pygments_lexer": "ipython3",
      "version": "3.6.9"
    },
    "nteract": {
      "version": "0.22.0"
    }
  },
  "nbformat": 4,
  "nbformat_minor": 4
}